{
 "cells": [
  {
   "attachments": {},
   "cell_type": "markdown",
   "metadata": {},
   "source": [
    "## 1. Import all needed Libraries/Module"
   ]
  },
  {
   "cell_type": "code",
   "execution_count": 118,
   "metadata": {},
   "outputs": [],
   "source": [
    "import pandas as pd\n",
    "from matplotlib import pyplot as plt\n",
    "import seaborn as sns\n",
    "import numpy"
   ]
  },
  {
   "attachments": {},
   "cell_type": "markdown",
   "metadata": {},
   "source": [
    "## 2. Read data, and then do some explanatory data analysis"
   ]
  },
  {
   "cell_type": "code",
   "execution_count": 146,
   "metadata": {},
   "outputs": [
    {
     "data": {
      "text/html": [
       "<div>\n",
       "<style scoped>\n",
       "    .dataframe tbody tr th:only-of-type {\n",
       "        vertical-align: middle;\n",
       "    }\n",
       "\n",
       "    .dataframe tbody tr th {\n",
       "        vertical-align: top;\n",
       "    }\n",
       "\n",
       "    .dataframe thead th {\n",
       "        text-align: right;\n",
       "    }\n",
       "</style>\n",
       "<table border=\"1\" class=\"dataframe\">\n",
       "  <thead>\n",
       "    <tr style=\"text-align: right;\">\n",
       "      <th></th>\n",
       "      <th>DC024</th>\n",
       "      <th>DC025</th>\n",
       "      <th>DC205</th>\n",
       "      <th>DC206</th>\n",
       "      <th>DC207</th>\n",
       "      <th>DC208</th>\n",
       "      <th>DC209</th>\n",
       "      <th>DC210</th>\n",
       "      <th>DC211</th>\n",
       "      <th>DC212</th>\n",
       "      <th>...</th>\n",
       "      <th>DC237f</th>\n",
       "      <th>DC241</th>\n",
       "      <th>DC242</th>\n",
       "      <th>DC244</th>\n",
       "      <th>DC246</th>\n",
       "      <th>DC252</th>\n",
       "      <th>DC270a</th>\n",
       "      <th>DC109</th>\n",
       "      <th>DC142a</th>\n",
       "      <th>DC201</th>\n",
       "    </tr>\n",
       "  </thead>\n",
       "  <tbody>\n",
       "    <tr>\n",
       "      <th>0</th>\n",
       "      <td>11</td>\n",
       "      <td>2</td>\n",
       "      <td>16.000000</td>\n",
       "      <td>1.0</td>\n",
       "      <td>0.000000</td>\n",
       "      <td>1.000000</td>\n",
       "      <td>0.000000</td>\n",
       "      <td>0.000000</td>\n",
       "      <td>0.000000</td>\n",
       "      <td>0.000000</td>\n",
       "      <td>...</td>\n",
       "      <td>0.000000</td>\n",
       "      <td>1.000000</td>\n",
       "      <td>0.000000</td>\n",
       "      <td>0.000000</td>\n",
       "      <td>0.000000</td>\n",
       "      <td>2.000000</td>\n",
       "      <td>1</td>\n",
       "      <td>12.000000</td>\n",
       "      <td>60.000000</td>\n",
       "      <td>0</td>\n",
       "    </tr>\n",
       "    <tr>\n",
       "      <th>1</th>\n",
       "      <td>11</td>\n",
       "      <td>2</td>\n",
       "      <td>31.000000</td>\n",
       "      <td>1.0</td>\n",
       "      <td>0.000000</td>\n",
       "      <td>1.000000</td>\n",
       "      <td>0.000000</td>\n",
       "      <td>0.000000</td>\n",
       "      <td>1.000000</td>\n",
       "      <td>0.000000</td>\n",
       "      <td>...</td>\n",
       "      <td>0.000000</td>\n",
       "      <td>1.000000</td>\n",
       "      <td>0.000000</td>\n",
       "      <td>1.000000</td>\n",
       "      <td>1.000000</td>\n",
       "      <td>1.000000</td>\n",
       "      <td>2</td>\n",
       "      <td>31.000000</td>\n",
       "      <td>70.000000</td>\n",
       "      <td>0</td>\n",
       "    </tr>\n",
       "    <tr>\n",
       "      <th>2</th>\n",
       "      <td>11</td>\n",
       "      <td>2</td>\n",
       "      <td>12.000000</td>\n",
       "      <td>1.0</td>\n",
       "      <td>0.000000</td>\n",
       "      <td>1.000000</td>\n",
       "      <td>1.000000</td>\n",
       "      <td>1.000000</td>\n",
       "      <td>1.000000</td>\n",
       "      <td>0.000000</td>\n",
       "      <td>...</td>\n",
       "      <td>0.000000</td>\n",
       "      <td>1.000000</td>\n",
       "      <td>0.000000</td>\n",
       "      <td>1.000000</td>\n",
       "      <td>1.000000</td>\n",
       "      <td>0.000000</td>\n",
       "      <td>4</td>\n",
       "      <td>11.000000</td>\n",
       "      <td>75.000000</td>\n",
       "      <td>0</td>\n",
       "    </tr>\n",
       "    <tr>\n",
       "      <th>3</th>\n",
       "      <td>11</td>\n",
       "      <td>2</td>\n",
       "      <td>12.000000</td>\n",
       "      <td>1.0</td>\n",
       "      <td>0.000000</td>\n",
       "      <td>0.000000</td>\n",
       "      <td>0.000000</td>\n",
       "      <td>0.000000</td>\n",
       "      <td>1.000000</td>\n",
       "      <td>0.000000</td>\n",
       "      <td>...</td>\n",
       "      <td>0.000000</td>\n",
       "      <td>2.000000</td>\n",
       "      <td>1.000000</td>\n",
       "      <td>1.000000</td>\n",
       "      <td>0.000000</td>\n",
       "      <td>1.000000</td>\n",
       "      <td>1</td>\n",
       "      <td>11.000000</td>\n",
       "      <td>85.000000</td>\n",
       "      <td>0</td>\n",
       "    </tr>\n",
       "    <tr>\n",
       "      <th>4</th>\n",
       "      <td>11</td>\n",
       "      <td>2</td>\n",
       "      <td>12.000000</td>\n",
       "      <td>1.0</td>\n",
       "      <td>0.000000</td>\n",
       "      <td>1.000000</td>\n",
       "      <td>1.000000</td>\n",
       "      <td>0.000000</td>\n",
       "      <td>0.000000</td>\n",
       "      <td>0.000000</td>\n",
       "      <td>...</td>\n",
       "      <td>0.000000</td>\n",
       "      <td>1.000000</td>\n",
       "      <td>0.000000</td>\n",
       "      <td>0.000000</td>\n",
       "      <td>1.000000</td>\n",
       "      <td>0.000000</td>\n",
       "      <td>2</td>\n",
       "      <td>11.000000</td>\n",
       "      <td>65.000000</td>\n",
       "      <td>0</td>\n",
       "    </tr>\n",
       "    <tr>\n",
       "      <th>...</th>\n",
       "      <td>...</td>\n",
       "      <td>...</td>\n",
       "      <td>...</td>\n",
       "      <td>...</td>\n",
       "      <td>...</td>\n",
       "      <td>...</td>\n",
       "      <td>...</td>\n",
       "      <td>...</td>\n",
       "      <td>...</td>\n",
       "      <td>...</td>\n",
       "      <td>...</td>\n",
       "      <td>...</td>\n",
       "      <td>...</td>\n",
       "      <td>...</td>\n",
       "      <td>...</td>\n",
       "      <td>...</td>\n",
       "      <td>...</td>\n",
       "      <td>...</td>\n",
       "      <td>...</td>\n",
       "      <td>...</td>\n",
       "      <td>...</td>\n",
       "    </tr>\n",
       "    <tr>\n",
       "      <th>64791</th>\n",
       "      <td>73</td>\n",
       "      <td>2</td>\n",
       "      <td>12.000000</td>\n",
       "      <td>1.0</td>\n",
       "      <td>0.556555</td>\n",
       "      <td>0.443445</td>\n",
       "      <td>0.443445</td>\n",
       "      <td>0.000000</td>\n",
       "      <td>1.000000</td>\n",
       "      <td>0.443445</td>\n",
       "      <td>...</td>\n",
       "      <td>0.443445</td>\n",
       "      <td>1.000000</td>\n",
       "      <td>1.000000</td>\n",
       "      <td>0.556555</td>\n",
       "      <td>0.556555</td>\n",
       "      <td>1.000000</td>\n",
       "      <td>1</td>\n",
       "      <td>11.000000</td>\n",
       "      <td>57.339331</td>\n",
       "      <td>1</td>\n",
       "    </tr>\n",
       "    <tr>\n",
       "      <th>64792</th>\n",
       "      <td>34</td>\n",
       "      <td>1</td>\n",
       "      <td>13.039016</td>\n",
       "      <td>1.0</td>\n",
       "      <td>0.000000</td>\n",
       "      <td>1.000000</td>\n",
       "      <td>0.740246</td>\n",
       "      <td>0.740246</td>\n",
       "      <td>0.740246</td>\n",
       "      <td>0.000000</td>\n",
       "      <td>...</td>\n",
       "      <td>0.000000</td>\n",
       "      <td>1.000000</td>\n",
       "      <td>0.740246</td>\n",
       "      <td>0.740246</td>\n",
       "      <td>0.000000</td>\n",
       "      <td>1.000000</td>\n",
       "      <td>3</td>\n",
       "      <td>11.259754</td>\n",
       "      <td>71.480492</td>\n",
       "      <td>1</td>\n",
       "    </tr>\n",
       "    <tr>\n",
       "      <th>64793</th>\n",
       "      <td>73</td>\n",
       "      <td>2</td>\n",
       "      <td>15.670568</td>\n",
       "      <td>1.0</td>\n",
       "      <td>0.000000</td>\n",
       "      <td>0.265886</td>\n",
       "      <td>0.000000</td>\n",
       "      <td>0.000000</td>\n",
       "      <td>1.000000</td>\n",
       "      <td>0.000000</td>\n",
       "      <td>...</td>\n",
       "      <td>1.000000</td>\n",
       "      <td>1.000000</td>\n",
       "      <td>0.000000</td>\n",
       "      <td>1.000000</td>\n",
       "      <td>1.000000</td>\n",
       "      <td>0.734114</td>\n",
       "      <td>1</td>\n",
       "      <td>18.341136</td>\n",
       "      <td>33.670568</td>\n",
       "      <td>1</td>\n",
       "    </tr>\n",
       "    <tr>\n",
       "      <th>64794</th>\n",
       "      <td>88</td>\n",
       "      <td>2</td>\n",
       "      <td>12.000000</td>\n",
       "      <td>1.0</td>\n",
       "      <td>0.000000</td>\n",
       "      <td>1.000000</td>\n",
       "      <td>0.000000</td>\n",
       "      <td>0.000000</td>\n",
       "      <td>0.207896</td>\n",
       "      <td>0.000000</td>\n",
       "      <td>...</td>\n",
       "      <td>0.000000</td>\n",
       "      <td>1.792104</td>\n",
       "      <td>1.000000</td>\n",
       "      <td>0.792104</td>\n",
       "      <td>0.000000</td>\n",
       "      <td>0.792104</td>\n",
       "      <td>1</td>\n",
       "      <td>11.000000</td>\n",
       "      <td>90.207896</td>\n",
       "      <td>1</td>\n",
       "    </tr>\n",
       "    <tr>\n",
       "      <th>64795</th>\n",
       "      <td>53</td>\n",
       "      <td>2</td>\n",
       "      <td>31.000000</td>\n",
       "      <td>0.0</td>\n",
       "      <td>0.000000</td>\n",
       "      <td>0.000000</td>\n",
       "      <td>0.000000</td>\n",
       "      <td>0.000000</td>\n",
       "      <td>0.000000</td>\n",
       "      <td>0.000000</td>\n",
       "      <td>...</td>\n",
       "      <td>0.000000</td>\n",
       "      <td>1.000000</td>\n",
       "      <td>0.710053</td>\n",
       "      <td>1.000000</td>\n",
       "      <td>1.000000</td>\n",
       "      <td>1.000000</td>\n",
       "      <td>1</td>\n",
       "      <td>51.000000</td>\n",
       "      <td>36.000000</td>\n",
       "      <td>1</td>\n",
       "    </tr>\n",
       "  </tbody>\n",
       "</table>\n",
       "<p>64796 rows × 39 columns</p>\n",
       "</div>"
      ],
      "text/plain": [
       "       DC024  DC025      DC205  DC206     DC207     DC208     DC209     DC210   \n",
       "0         11      2  16.000000    1.0  0.000000  1.000000  0.000000  0.000000  \\\n",
       "1         11      2  31.000000    1.0  0.000000  1.000000  0.000000  0.000000   \n",
       "2         11      2  12.000000    1.0  0.000000  1.000000  1.000000  1.000000   \n",
       "3         11      2  12.000000    1.0  0.000000  0.000000  0.000000  0.000000   \n",
       "4         11      2  12.000000    1.0  0.000000  1.000000  1.000000  0.000000   \n",
       "...      ...    ...        ...    ...       ...       ...       ...       ...   \n",
       "64791     73      2  12.000000    1.0  0.556555  0.443445  0.443445  0.000000   \n",
       "64792     34      1  13.039016    1.0  0.000000  1.000000  0.740246  0.740246   \n",
       "64793     73      2  15.670568    1.0  0.000000  0.265886  0.000000  0.000000   \n",
       "64794     88      2  12.000000    1.0  0.000000  1.000000  0.000000  0.000000   \n",
       "64795     53      2  31.000000    0.0  0.000000  0.000000  0.000000  0.000000   \n",
       "\n",
       "          DC211     DC212  ...    DC237f     DC241     DC242     DC244   \n",
       "0      0.000000  0.000000  ...  0.000000  1.000000  0.000000  0.000000  \\\n",
       "1      1.000000  0.000000  ...  0.000000  1.000000  0.000000  1.000000   \n",
       "2      1.000000  0.000000  ...  0.000000  1.000000  0.000000  1.000000   \n",
       "3      1.000000  0.000000  ...  0.000000  2.000000  1.000000  1.000000   \n",
       "4      0.000000  0.000000  ...  0.000000  1.000000  0.000000  0.000000   \n",
       "...         ...       ...  ...       ...       ...       ...       ...   \n",
       "64791  1.000000  0.443445  ...  0.443445  1.000000  1.000000  0.556555   \n",
       "64792  0.740246  0.000000  ...  0.000000  1.000000  0.740246  0.740246   \n",
       "64793  1.000000  0.000000  ...  1.000000  1.000000  0.000000  1.000000   \n",
       "64794  0.207896  0.000000  ...  0.000000  1.792104  1.000000  0.792104   \n",
       "64795  0.000000  0.000000  ...  0.000000  1.000000  0.710053  1.000000   \n",
       "\n",
       "          DC246     DC252  DC270a      DC109     DC142a  DC201  \n",
       "0      0.000000  2.000000       1  12.000000  60.000000      0  \n",
       "1      1.000000  1.000000       2  31.000000  70.000000      0  \n",
       "2      1.000000  0.000000       4  11.000000  75.000000      0  \n",
       "3      0.000000  1.000000       1  11.000000  85.000000      0  \n",
       "4      1.000000  0.000000       2  11.000000  65.000000      0  \n",
       "...         ...       ...     ...        ...        ...    ...  \n",
       "64791  0.556555  1.000000       1  11.000000  57.339331      1  \n",
       "64792  0.000000  1.000000       3  11.259754  71.480492      1  \n",
       "64793  1.000000  0.734114       1  18.341136  33.670568      1  \n",
       "64794  0.000000  0.792104       1  11.000000  90.207896      1  \n",
       "64795  1.000000  1.000000       1  51.000000  36.000000      1  \n",
       "\n",
       "[64796 rows x 39 columns]"
      ]
     },
     "execution_count": 146,
     "metadata": {},
     "output_type": "execute_result"
    }
   ],
   "source": [
    "data=pd.read_csv('./data/clean.csv',header=0,index_col=0)\n",
    "data"
   ]
  },
  {
   "cell_type": "code",
   "execution_count": 147,
   "metadata": {},
   "outputs": [
    {
     "name": "stdout",
     "output_type": "stream",
     "text": [
      "<class 'pandas.core.frame.DataFrame'>\n",
      "Index: 64796 entries, 0 to 64795\n",
      "Data columns (total 39 columns):\n",
      " #   Column  Non-Null Count  Dtype  \n",
      "---  ------  --------------  -----  \n",
      " 0   DC024   64796 non-null  int64  \n",
      " 1   DC025   64796 non-null  int64  \n",
      " 2   DC205   64796 non-null  float64\n",
      " 3   DC206   64796 non-null  float64\n",
      " 4   DC207   64796 non-null  float64\n",
      " 5   DC208   64796 non-null  float64\n",
      " 6   DC209   64796 non-null  float64\n",
      " 7   DC210   64796 non-null  float64\n",
      " 8   DC211   64796 non-null  float64\n",
      " 9   DC212   64796 non-null  float64\n",
      " 10  DC213   64796 non-null  float64\n",
      " 11  DC214   64796 non-null  float64\n",
      " 12  DC215   64796 non-null  float64\n",
      " 13  DC216   64796 non-null  float64\n",
      " 14  DC217   64796 non-null  int64  \n",
      " 15  DC219   64796 non-null  int64  \n",
      " 16  DC220   64796 non-null  float64\n",
      " 17  DC226   64796 non-null  float64\n",
      " 18  DC230a  64796 non-null  float64\n",
      " 19  DC230b  64796 non-null  float64\n",
      " 20  DC232   64796 non-null  float64\n",
      " 21  DC232b  64796 non-null  float64\n",
      " 22  DC235   64796 non-null  float64\n",
      " 23  DC237   64796 non-null  float64\n",
      " 24  DC237a  64796 non-null  float64\n",
      " 25  DC237b  64796 non-null  float64\n",
      " 26  DC237c  64796 non-null  float64\n",
      " 27  DC237d  64796 non-null  float64\n",
      " 28  DC237e  64796 non-null  float64\n",
      " 29  DC237f  64796 non-null  float64\n",
      " 30  DC241   64796 non-null  float64\n",
      " 31  DC242   64796 non-null  float64\n",
      " 32  DC244   64796 non-null  float64\n",
      " 33  DC246   64796 non-null  float64\n",
      " 34  DC252   64796 non-null  float64\n",
      " 35  DC270a  64796 non-null  int64  \n",
      " 36  DC109   64796 non-null  float64\n",
      " 37  DC142a  64796 non-null  float64\n",
      " 38  DC201   64796 non-null  int64  \n",
      "dtypes: float64(33), int64(6)\n",
      "memory usage: 19.8 MB\n"
     ]
    }
   ],
   "source": [
    "# gather information about data attribute\n",
    "data.info()"
   ]
  },
  {
   "attachments": {},
   "cell_type": "markdown",
   "metadata": {},
   "source": [
    "Dari data di atas, dapat dilihat bahwa semua data bertipe data flloat/integer, dan label bertipe data string."
   ]
  },
  {
   "attachments": {},
   "cell_type": "markdown",
   "metadata": {},
   "source": [
    "## Cari informasi apakah ada data yang bernilai null/kosong"
   ]
  },
  {
   "cell_type": "code",
   "execution_count": 148,
   "metadata": {},
   "outputs": [
    {
     "data": {
      "text/plain": [
       "DC024     0\n",
       "DC025     0\n",
       "DC205     0\n",
       "DC206     0\n",
       "DC207     0\n",
       "DC208     0\n",
       "DC209     0\n",
       "DC210     0\n",
       "DC211     0\n",
       "DC212     0\n",
       "DC213     0\n",
       "DC214     0\n",
       "DC215     0\n",
       "DC216     0\n",
       "DC217     0\n",
       "DC219     0\n",
       "DC220     0\n",
       "DC226     0\n",
       "DC230a    0\n",
       "DC230b    0\n",
       "DC232     0\n",
       "DC232b    0\n",
       "DC235     0\n",
       "DC237     0\n",
       "DC237a    0\n",
       "DC237b    0\n",
       "DC237c    0\n",
       "DC237d    0\n",
       "DC237e    0\n",
       "DC237f    0\n",
       "DC241     0\n",
       "DC242     0\n",
       "DC244     0\n",
       "DC246     0\n",
       "DC252     0\n",
       "DC270a    0\n",
       "DC109     0\n",
       "DC142a    0\n",
       "DC201     0\n",
       "dtype: int64"
      ]
     },
     "execution_count": 148,
     "metadata": {},
     "output_type": "execute_result"
    }
   ],
   "source": [
    "data.isnull().sum()"
   ]
  },
  {
   "attachments": {},
   "cell_type": "markdown",
   "metadata": {},
   "source": [
    "## Cari korelasi tiap atribut dengan pandas corr"
   ]
  },
  {
   "cell_type": "code",
   "execution_count": 149,
   "metadata": {},
   "outputs": [
    {
     "data": {
      "text/plain": [
       "(45357, 38)"
      ]
     },
     "execution_count": 149,
     "metadata": {},
     "output_type": "execute_result"
    }
   ],
   "source": [
    "#Split dataset menjadi training dan testing\n",
    "from sklearn.model_selection import train_test_split\n",
    "\n",
    "x_train,x_test,y_train,y_test=train_test_split(data.drop('DC201',axis=1),data['DC201'],test_size=0.3)\n",
    "input_shape=(x_train.shape)\n",
    "input_shape"
   ]
  },
  {
   "cell_type": "code",
   "execution_count": 150,
   "metadata": {},
   "outputs": [],
   "source": [
    "from keras import backend as K\n",
    "\n",
    "def recall_m(y_true, y_pred):\n",
    "    true_positives = K.sum(K.round(K.clip(y_true * y_pred, 0, 1)))\n",
    "    possible_positives = K.sum(K.round(K.clip(y_true, 0, 1)))\n",
    "    recall = true_positives / (possible_positives + K.epsilon())\n",
    "    return recall\n",
    "\n",
    "def precision_m(y_true, y_pred):\n",
    "    true_positives = K.sum(K.round(K.clip(y_true * y_pred, 0, 1)))\n",
    "    predicted_positives = K.sum(K.round(K.clip(y_pred, 0, 1)))\n",
    "    precision = true_positives / (predicted_positives + K.epsilon())\n",
    "    return precision\n",
    "\n",
    "def f1_m(y_true, y_pred):\n",
    "    precision = precision_m(y_true, y_pred)\n",
    "    recall = recall_m(y_true, y_pred)\n",
    "    return 2*((precision*recall)/(precision+recall+K.epsilon()))"
   ]
  },
  {
   "attachments": {},
   "cell_type": "markdown",
   "metadata": {},
   "source": [
    "### Create Model"
   ]
  },
  {
   "cell_type": "code",
   "execution_count": 151,
   "metadata": {},
   "outputs": [],
   "source": [
    "import tensorflow as tf"
   ]
  },
  {
   "cell_type": "code",
   "execution_count": 156,
   "metadata": {},
   "outputs": [
    {
     "name": "stdout",
     "output_type": "stream",
     "text": [
      "Model: \"sequential_21\"\n",
      "_________________________________________________________________\n",
      " Layer (type)                Output Shape              Param #   \n",
      "=================================================================\n",
      " conv1d_51 (Conv1D)          (None, 36, 32)            128       \n",
      "                                                                 \n",
      " conv1d_52 (Conv1D)          (None, 34, 32)            3104      \n",
      "                                                                 \n",
      " conv1d_53 (Conv1D)          (None, 32, 32)            3104      \n",
      "                                                                 \n",
      " dropout_14 (Dropout)        (None, 32, 32)            0         \n",
      "                                                                 \n",
      " max_pooling1d_20 (MaxPoolin  (None, 16, 32)           0         \n",
      " g1D)                                                            \n",
      "                                                                 \n",
      " flatten_17 (Flatten)        (None, 512)               0         \n",
      "                                                                 \n",
      " dense_48 (Dense)            (None, 512)               262656    \n",
      "                                                                 \n",
      " dense_49 (Dense)            (None, 100)               51300     \n",
      "                                                                 \n",
      " dense_50 (Dense)            (None, 1)                 101       \n",
      "                                                                 \n",
      "=================================================================\n",
      "Total params: 320,393\n",
      "Trainable params: 320,393\n",
      "Non-trainable params: 0\n",
      "_________________________________________________________________\n",
      "None\n"
     ]
    }
   ],
   "source": [
    "model=tf.keras.models.Sequential([\n",
    "    tf.keras.layers.Conv1D(filters=32,kernel_size=3,input_shape=(38,1),activation='relu'),\n",
    "    tf.keras.layers.Conv1D(filters=32,kernel_size=3,activation='relu'),\n",
    "    tf.keras.layers.Conv1D(filters=32,kernel_size=3,activation='relu'),\n",
    "    tf.keras.layers.Dropout(0.25),\n",
    "    tf.keras.layers.MaxPool1D(2,2),\n",
    "    tf.keras.layers.Flatten(),\n",
    "    tf.keras.layers.Dense(512,activation='relu'),\n",
    "    tf.keras.layers.Dense(100,activation='relu'),\n",
    "    tf.keras.layers.Dense(1,activation='sigmoid')\n",
    "])\n",
    "\n",
    "# Compile the model\n",
    "model.compile(optimizer='adam', loss='binary_crossentropy', metrics=['accuracy',f1_m])\n",
    "\n",
    "# Print the model summary\n",
    "print(model.summary())"
   ]
  },
  {
   "cell_type": "code",
   "execution_count": 10,
   "metadata": {},
   "outputs": [
    {
     "name": "stdout",
     "output_type": "stream",
     "text": [
      "Model: \"sequential\"\n",
      "_________________________________________________________________\n",
      " Layer (type)                Output Shape              Param #   \n",
      "=================================================================\n",
      " conv1d (Conv1D)             (None, 36, 64)            256       \n",
      "                                                                 \n",
      " conv1d_1 (Conv1D)           (None, 34, 64)            12352     \n",
      "                                                                 \n",
      " max_pooling1d (MaxPooling1D  (None, 17, 64)           0         \n",
      " )                                                               \n",
      "                                                                 \n",
      " dropout (Dropout)           (None, 17, 64)            0         \n",
      "                                                                 \n",
      " conv1d_2 (Conv1D)           (None, 15, 128)           24704     \n",
      "                                                                 \n",
      " conv1d_3 (Conv1D)           (None, 13, 128)           49280     \n",
      "                                                                 \n",
      " max_pooling1d_1 (MaxPooling  (None, 6, 128)           0         \n",
      " 1D)                                                             \n",
      "                                                                 \n",
      " dropout_1 (Dropout)         (None, 6, 128)            0         \n",
      "                                                                 \n",
      " conv1d_4 (Conv1D)           (None, 4, 256)            98560     \n",
      "                                                                 \n",
      " conv1d_5 (Conv1D)           (None, 2, 256)            196864    \n",
      "                                                                 \n",
      " max_pooling1d_2 (MaxPooling  (None, 1, 256)           0         \n",
      " 1D)                                                             \n",
      "                                                                 \n",
      " dropout_2 (Dropout)         (None, 1, 256)            0         \n",
      "                                                                 \n",
      " flatten (Flatten)           (None, 256)               0         \n",
      "                                                                 \n",
      " dense (Dense)               (None, 512)               131584    \n",
      "                                                                 \n",
      " dropout_3 (Dropout)         (None, 512)               0         \n",
      "                                                                 \n",
      " dense_1 (Dense)             (None, 1)                 513       \n",
      "                                                                 \n",
      "=================================================================\n",
      "Total params: 514,113\n",
      "Trainable params: 514,113\n",
      "Non-trainable params: 0\n",
      "_________________________________________________________________\n",
      "None\n"
     ]
    }
   ],
   "source": [
    "from keras.models import Sequential\n",
    "from keras.layers import Conv1D, MaxPooling1D, Flatten, Dense, Dropout\n",
    "\n",
    "# Define the input shape\n",
    "input_shape = (11, 1)  # 38 attributes, 1 feature\n",
    "\n",
    "# Define the model architecture\n",
    "model=tf.keras.models.Sequential([\n",
    "    tf.keras.layers.Conv1D(filters=64,kernel_size=3,input_shape=(38,1),activation='relu'),\n",
    "    tf.keras.layers.Conv1D(filters=64,kernel_size=3,activation='relu'),\n",
    "    tf.keras.layers.MaxPool1D(2,2),\n",
    "    tf.keras.layers.Dropout(0.25),\n",
    "    tf.keras.layers.Conv1D(filters=128,kernel_size=3,activation='relu'),\n",
    "    tf.keras.layers.Conv1D(filters=128,kernel_size=3,activation='relu'),\n",
    "    tf.keras.layers.MaxPool1D(2,2),\n",
    "    tf.keras.layers.Dropout(0.25),\n",
    "    tf.keras.layers.Conv1D(filters=256,kernel_size=3,activation='relu'),\n",
    "    tf.keras.layers.Conv1D(filters=256,kernel_size=3,activation='relu'),\n",
    "    tf.keras.layers.MaxPool1D(2,2),\n",
    "    tf.keras.layers.Dropout(0.25),\n",
    "    tf.keras.layers.Flatten(),\n",
    "    tf.keras.layers.Dense(512,activation='relu'),\n",
    "    tf.keras.layers.Dropout(0.5),\n",
    "    tf.keras.layers.Dense(1,activation='sigmoid')])\n",
    "\n",
    "# Compile the model\n",
    "model.compile(optimizer='adam', loss='binary_crossentropy', metrics=['accuracy',f1_m])\n",
    "\n",
    "# Print the model summary\n",
    "print(model.summary())\n"
   ]
  },
  {
   "cell_type": "code",
   "execution_count": 157,
   "metadata": {},
   "outputs": [
    {
     "name": "stdout",
     "output_type": "stream",
     "text": [
      "Epoch 1/10\n",
      "1134/1134 [==============================] - 12s 9ms/step - loss: 0.4428 - accuracy: 0.7909 - f1_m: 0.7874 - val_loss: 0.2933 - val_accuracy: 0.8747 - val_f1_m: 0.8631\n",
      "Epoch 2/10\n",
      "1134/1134 [==============================] - 10s 9ms/step - loss: 0.2541 - accuracy: 0.8857 - f1_m: 0.8797 - val_loss: 0.1941 - val_accuracy: 0.9178 - val_f1_m: 0.9088\n",
      "Epoch 3/10\n",
      "1134/1134 [==============================] - 10s 9ms/step - loss: 0.2135 - accuracy: 0.9051 - f1_m: 0.8985 - val_loss: 0.1770 - val_accuracy: 0.9225 - val_f1_m: 0.9172\n",
      "Epoch 4/10\n",
      "1134/1134 [==============================] - 10s 9ms/step - loss: 0.2077 - accuracy: 0.9055 - f1_m: 0.8988 - val_loss: 0.1700 - val_accuracy: 0.9270 - val_f1_m: 0.9210\n",
      "Epoch 5/10\n",
      "1134/1134 [==============================] - 10s 8ms/step - loss: 0.1978 - accuracy: 0.9133 - f1_m: 0.9065 - val_loss: 0.1731 - val_accuracy: 0.9260 - val_f1_m: 0.9190\n",
      "Epoch 6/10\n",
      "1134/1134 [==============================] - 10s 9ms/step - loss: 0.1956 - accuracy: 0.9128 - f1_m: 0.9062 - val_loss: 0.2345 - val_accuracy: 0.8959 - val_f1_m: 0.8931\n",
      "Epoch 7/10\n",
      "1134/1134 [==============================] - 12s 11ms/step - loss: 0.1910 - accuracy: 0.9162 - f1_m: 0.9096 - val_loss: 0.1608 - val_accuracy: 0.9324 - val_f1_m: 0.9276\n",
      "Epoch 8/10\n",
      "1134/1134 [==============================] - 11s 10ms/step - loss: 0.1829 - accuracy: 0.9202 - f1_m: 0.9140 - val_loss: 0.1589 - val_accuracy: 0.9329 - val_f1_m: 0.9269\n",
      "Epoch 9/10\n",
      "1134/1134 [==============================] - 9s 8ms/step - loss: 0.1802 - accuracy: 0.9220 - f1_m: 0.9164 - val_loss: 0.1666 - val_accuracy: 0.9278 - val_f1_m: 0.9211\n",
      "Epoch 10/10\n",
      "1134/1134 [==============================] - 10s 9ms/step - loss: 0.1791 - accuracy: 0.9220 - f1_m: 0.9167 - val_loss: 0.1630 - val_accuracy: 0.9291 - val_f1_m: 0.9224\n"
     ]
    }
   ],
   "source": [
    "history=model.fit(x_train,y_train,epochs=10,batch_size=32,validation_split=0.2)"
   ]
  },
  {
   "cell_type": "code",
   "execution_count": 158,
   "metadata": {},
   "outputs": [
    {
     "name": "stdout",
     "output_type": "stream",
     "text": [
      "608/608 [==============================] - 3s 5ms/step - loss: 0.1648 - accuracy: 0.9308 - f1_m: 0.9245\n"
     ]
    },
    {
     "data": {
      "text/plain": [
       "[0.16480165719985962, 0.9308091998100281, 0.9244517087936401]"
      ]
     },
     "execution_count": 158,
     "metadata": {},
     "output_type": "execute_result"
    }
   ],
   "source": [
    "model.evaluate(x_test,y_test)"
   ]
  },
  {
   "cell_type": "code",
   "execution_count": 159,
   "metadata": {},
   "outputs": [
    {
     "data": {
      "image/png": "[encoded data removed]",
      "text/plain": [
       "<Figure size 640x480 with 1 Axes>"
      ]
     },
     "metadata": {},
     "output_type": "display_data"
    }
   ],
   "source": [
    "#Menampilkan grafik akurasi\n",
    "import matplotlib.pyplot as plt\n",
    "\n",
    "def plot_graphs(history, metric):\n",
    "  plt.plot(history.history[metric])\n",
    "  plt.plot(history.history['val_'+metric], '')\n",
    "  plt.xlabel(\"Epochs\")\n",
    "  plt.ylabel(metric)\n",
    "  plt.title(f'Grafik {metric}')\n",
    "  plt.legend([metric, 'val_'+metric])\n",
    "  \n",
    "plot_graphs(history,'f1_m')"
   ]
  },
  {
   "attachments": {},
   "cell_type": "markdown",
   "metadata": {},
   "source": [
    "### SVM Algorithm"
   ]
  },
  {
   "cell_type": "code",
   "execution_count": 160,
   "metadata": {},
   "outputs": [
    {
     "name": "stdout",
     "output_type": "stream",
     "text": [
      "[LibSVM]Accuracy: 0.7605329492257832 F1 Score  0.7634534275115605\n"
     ]
    }
   ],
   "source": [
    "from sklearn import svm\n",
    "from sklearn.metrics import f1_score\n",
    "from sklearn.model_selection import train_test_split\n",
    "from sklearn.metrics import accuracy_score\n",
    "clf = svm.SVC(verbose=True)\n",
    "clf.fit(x_train, y_train)\n",
    "# melakukan prediksi menggunakan data testing\n",
    "y_pred = clf.predict(x_test)\n",
    "\n",
    "# menghitung akurasi\n",
    "acc = accuracy_score(y_test, y_pred)\n",
    "f1=f1_score(y_test, y_pred)\n",
    "print('Accuracy:', acc, 'F1 Score ',f1)"
   ]
  },
  {
   "attachments": {},
   "cell_type": "markdown",
   "metadata": {},
   "source": [
    "### Gradient Boosting Algorithm"
   ]
  },
  {
   "cell_type": "code",
   "execution_count": 161,
   "metadata": {},
   "outputs": [
    {
     "name": "stdout",
     "output_type": "stream",
     "text": [
      "Accuracy: 0.9448531303050568 F1 Score  0.9434599156118144\n"
     ]
    }
   ],
   "source": [
    "from sklearn.ensemble import GradientBoostingClassifier\n",
    "from sklearn.model_selection import train_test_split\n",
    "from sklearn.metrics import accuracy_score\n",
    "# Define Gradient Boosting model\n",
    "gb_model = GradientBoostingClassifier(n_estimators=100, learning_rate=0.1, random_state=42)\n",
    "\n",
    "# Train model\n",
    "gb_model.fit(x_train, y_train)\n",
    "\n",
    "# Make predictions on test set\n",
    "y_pred = gb_model.predict(x_test)\n",
    "\n",
    "# Calculate accuracy score\n",
    "acc = accuracy_score(y_test, y_pred)\n",
    "f1=f1_score(y_test, y_pred)\n",
    "print('Accuracy:', acc, 'F1 Score ',f1)"
   ]
  },
  {
   "attachments": {},
   "cell_type": "markdown",
   "metadata": {},
   "source": [
    "### XGBoost"
   ]
  },
  {
   "cell_type": "code",
   "execution_count": 162,
   "metadata": {},
   "outputs": [
    {
     "name": "stdout",
     "output_type": "stream",
     "text": [
      "Requirement already satisfied: xgboost in c:\\users\\asus\\appdata\\local\\programs\\python\\python38\\lib\\site-packages (1.7.5)\n",
      "Requirement already satisfied: numpy in c:\\users\\asus\\appdata\\local\\programs\\python\\python38\\lib\\site-packages (from xgboost) (1.23.5)\n",
      "Requirement already satisfied: scipy in c:\\users\\asus\\appdata\\local\\programs\\python\\python38\\lib\\site-packages (from xgboost) (1.10.1)\n"
     ]
    }
   ],
   "source": [
    "!pip install xgboost"
   ]
  },
  {
   "cell_type": "code",
   "execution_count": 175,
   "metadata": {},
   "outputs": [
    {
     "name": "stdout",
     "output_type": "stream",
     "text": [
      "Accuracy: 0.9521580328206184 F1 Score  0.9511451985711283\n"
     ]
    }
   ],
   "source": [
    "import xgboost as xgb\n",
    "# define xgboost model\n",
    "model = xgb.XGBClassifier(learning_rate=0.1,max_depth=7,n_estimators=1000,subsample=0.7,colsample_bytree=0.7)\n",
    "\n",
    "# fit the model on the training set\n",
    "model.fit(x_train, y_train)\n",
    "\n",
    "# make predictions on the test set\n",
    "y_pred = model.predict(x_test)\n",
    "\n",
    "acc = accuracy_score(y_test, y_pred)\n",
    "f1=f1_score(y_test, y_pred)\n",
    "print('Accuracy:', acc, 'F1 Score ',f1)\n",
    "model.save_model(\"xgboost_model.json\")"
   ]
  },
  {
   "cell_type": "code",
   "execution_count": 165,
   "metadata": {},
   "outputs": [
    {
     "name": "stdout",
     "output_type": "stream",
     "text": [
      "Best parameters:  {'colsample_bytree': 0.7, 'learning_rate': 0.1, 'max_depth': 7, 'n_estimators': 200, 'subsample': 0.7}\n"
     ]
    },
    {
     "name": "stderr",
     "output_type": "stream",
     "text": [
      "c:\\Users\\ASUS\\AppData\\Local\\Programs\\Python\\Python38\\lib\\site-packages\\xgboost\\sklearn.py:835: UserWarning: `eval_metric` in `fit` method is deprecated for better compatibility with scikit-learn, use `eval_metric` in constructor or`set_params` instead.\n",
      "  warnings.warn(\n",
      "c:\\Users\\ASUS\\AppData\\Local\\Programs\\Python\\Python38\\lib\\site-packages\\xgboost\\sklearn.py:835: UserWarning: `early_stopping_rounds` in `fit` method is deprecated for better compatibility with scikit-learn, use `early_stopping_rounds` in constructor or`set_params` instead.\n",
      "  warnings.warn(\n"
     ]
    },
    {
     "name": "stdout",
     "output_type": "stream",
     "text": [
      "Accuracy: 0.9544729667163949 F1 Score  0.9531721255092862\n"
     ]
    }
   ],
   "source": [
    "import pandas as pd\n",
    "import xgboost as xgb\n",
    "from sklearn.model_selection import train_test_split, GridSearchCV\n",
    "from sklearn.metrics import accuracy_score\n",
    "\n",
    "# define xgboost model\n",
    "model = xgb.XGBClassifier()\n",
    "\n",
    "# define hyperparameter grid for grid search\n",
    "param_grid = {\n",
    "    'learning_rate': [0.01, 0.1, 0.3],\n",
    "    'max_depth': [3, 5, 7],\n",
    "    'subsample': [0.5, 0.7],\n",
    "    'colsample_bytree': [0.5, 0.7],\n",
    "    'n_estimators': [100, 200, 300],\n",
    "}\n",
    "\n",
    "# perform grid search to find the best hyperparameters\n",
    "grid_search = GridSearchCV(model, param_grid, scoring='accuracy', n_jobs=-1, cv=5)\n",
    "grid_result = grid_search.fit(x_train, y_train)\n",
    "\n",
    "# print the best hyperparameters\n",
    "print(\"Best parameters: \", grid_result.best_params_)\n",
    "\n",
    "# create a new model with the best hyperparameters\n",
    "model = xgb.XGBClassifier(**grid_result.best_params_)\n",
    "\n",
    "# fit the model on the training set\n",
    "model.fit(x_train, y_train, early_stopping_rounds=10, eval_metric='logloss', eval_set=[(x_test, y_test)], verbose=False)\n",
    "\n",
    "# make predi your target price\n",
    "# ctions on the test set\n",
    "y_pred = model.predict(x_test)\n",
    "\n",
    "# calculate accuracy of predictions\n",
    "acc = accuracy_score(y_test, y_pred)\n",
    "f1=f1_score(y_test, y_pred)\n",
    "print('Accuracy:', acc, 'F1 Score ',f1)\n"
   ]
  },
  {
   "cell_type": "code",
   "execution_count": 166,
   "metadata": {},
   "outputs": [
    {
     "name": "stdout",
     "output_type": "stream",
     "text": [
      "Accuracy: 92.94%\n"
     ]
    }
   ],
   "source": [
    "from sklearn.ensemble import AdaBoostClassifier\n",
    "from sklearn.datasets import make_classification\n",
    "from sklearn.model_selection import train_test_split\n",
    "from sklearn.metrics import accuracy_score\n",
    "\n",
    "\n",
    "\n",
    "# define the AdaBoost model\n",
    "model = AdaBoostClassifier(n_estimators=50, random_state=42)\n",
    "\n",
    "# fit the model on the training set\n",
    "model.fit(x_train, y_train)\n",
    "\n",
    "# make predictions on the test set\n",
    "y_pred = model.predict(x_test)\n",
    "\n",
    "# calculate accuracy of predictions\n",
    "accuracy = accuracy_score(y_test, y_pred)\n",
    "print(\"Accuracy: %.2f%%\" % (accuracy * 100.0))\n"
   ]
  }
 ],
 "metadata": {
  "kernelspec": {
   "display_name": "Python 3",
   "language": "python",
   "name": "python3"
  },
  "language_info": {
   "codemirror_mode": {
    "name": "ipython",
    "version": 3
   },
   "file_extension": ".py",
   "mimetype": "text/x-python",
   "name": "python",
   "nbconvert_exporter": "python",
   "pygments_lexer": "ipython3",
   "version": "3.8.0"
  },
  "orig_nbformat": 4
 },
 "nbformat": 4,
 "nbformat_minor": 2
}
