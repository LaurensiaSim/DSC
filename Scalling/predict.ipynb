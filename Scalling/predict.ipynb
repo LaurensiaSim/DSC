{
 "cells": [
  {
   "cell_type": "code",
   "execution_count": 1,
   "metadata": {},
   "outputs": [],
   "source": [
    "import pandas as pd\n",
    "import xgboost as xgb"
   ]
  },
  {
   "cell_type": "code",
   "execution_count": 2,
   "metadata": {},
   "outputs": [
    {
     "data": {
      "text/html": [
       "<style>#sk-container-id-1 {color: black;background-color: white;}#sk-container-id-1 pre{padding: 0;}#sk-container-id-1 div.sk-toggleable {background-color: white;}#sk-container-id-1 label.sk-toggleable__label {cursor: pointer;display: block;width: 100%;margin-bottom: 0;padding: 0.3em;box-sizing: border-box;text-align: center;}#sk-container-id-1 label.sk-toggleable__label-arrow:before {content: \"▸\";float: left;margin-right: 0.25em;color: #696969;}#sk-container-id-1 label.sk-toggleable__label-arrow:hover:before {color: black;}#sk-container-id-1 div.sk-estimator:hover label.sk-toggleable__label-arrow:before {color: black;}#sk-container-id-1 div.sk-toggleable__content {max-height: 0;max-width: 0;overflow: hidden;text-align: left;background-color: #f0f8ff;}#sk-container-id-1 div.sk-toggleable__content pre {margin: 0.2em;color: black;border-radius: 0.25em;background-color: #f0f8ff;}#sk-container-id-1 input.sk-toggleable__control:checked~div.sk-toggleable__content {max-height: 200px;max-width: 100%;overflow: auto;}#sk-container-id-1 input.sk-toggleable__control:checked~label.sk-toggleable__label-arrow:before {content: \"▾\";}#sk-container-id-1 div.sk-estimator input.sk-toggleable__control:checked~label.sk-toggleable__label {background-color: #d4ebff;}#sk-container-id-1 div.sk-label input.sk-toggleable__control:checked~label.sk-toggleable__label {background-color: #d4ebff;}#sk-container-id-1 input.sk-hidden--visually {border: 0;clip: rect(1px 1px 1px 1px);clip: rect(1px, 1px, 1px, 1px);height: 1px;margin: -1px;overflow: hidden;padding: 0;position: absolute;width: 1px;}#sk-container-id-1 div.sk-estimator {font-family: monospace;background-color: #f0f8ff;border: 1px dotted black;border-radius: 0.25em;box-sizing: border-box;margin-bottom: 0.5em;}#sk-container-id-1 div.sk-estimator:hover {background-color: #d4ebff;}#sk-container-id-1 div.sk-parallel-item::after {content: \"\";width: 100%;border-bottom: 1px solid gray;flex-grow: 1;}#sk-container-id-1 div.sk-label:hover label.sk-toggleable__label {background-color: #d4ebff;}#sk-container-id-1 div.sk-serial::before {content: \"\";position: absolute;border-left: 1px solid gray;box-sizing: border-box;top: 0;bottom: 0;left: 50%;z-index: 0;}#sk-container-id-1 div.sk-serial {display: flex;flex-direction: column;align-items: center;background-color: white;padding-right: 0.2em;padding-left: 0.2em;position: relative;}#sk-container-id-1 div.sk-item {position: relative;z-index: 1;}#sk-container-id-1 div.sk-parallel {display: flex;align-items: stretch;justify-content: center;background-color: white;position: relative;}#sk-container-id-1 div.sk-item::before, #sk-container-id-1 div.sk-parallel-item::before {content: \"\";position: absolute;border-left: 1px solid gray;box-sizing: border-box;top: 0;bottom: 0;left: 50%;z-index: -1;}#sk-container-id-1 div.sk-parallel-item {display: flex;flex-direction: column;z-index: 1;position: relative;background-color: white;}#sk-container-id-1 div.sk-parallel-item:first-child::after {align-self: flex-end;width: 50%;}#sk-container-id-1 div.sk-parallel-item:last-child::after {align-self: flex-start;width: 50%;}#sk-container-id-1 div.sk-parallel-item:only-child::after {width: 0;}#sk-container-id-1 div.sk-dashed-wrapped {border: 1px dashed gray;margin: 0 0.4em 0.5em 0.4em;box-sizing: border-box;padding-bottom: 0.4em;background-color: white;}#sk-container-id-1 div.sk-label label {font-family: monospace;font-weight: bold;display: inline-block;line-height: 1.2em;}#sk-container-id-1 div.sk-label-container {text-align: center;}#sk-container-id-1 div.sk-container {/* jupyter's `normalize.less` sets `[hidden] { display: none; }` but bootstrap.min.css set `[hidden] { display: none !important; }` so we also need the `!important` here to be able to override the default hidden behavior on the sphinx rendered scikit-learn.org. See: https://github.com/scikit-learn/scikit-learn/issues/21755 */display: inline-block !important;position: relative;}#sk-container-id-1 div.sk-text-repr-fallback {display: none;}</style><div id=\"sk-container-id-1\" class=\"sk-top-container\"><div class=\"sk-text-repr-fallback\"><pre>XGBClassifier(base_score=None, booster=None, callbacks=None,\n",
       "              colsample_bylevel=None, colsample_bynode=None,\n",
       "              colsample_bytree=0.5, early_stopping_rounds=None,\n",
       "              enable_categorical=False, eval_metric=None,\n",
       "              feature_types=[&#x27;float&#x27;, &#x27;float&#x27;, &#x27;float&#x27;, &#x27;float&#x27;, &#x27;float&#x27;,\n",
       "                             &#x27;float&#x27;, &#x27;float&#x27;, &#x27;float&#x27;, &#x27;float&#x27;, &#x27;float&#x27;,\n",
       "                             &#x27;float&#x27;, &#x27;float&#x27;, &#x27;float&#x27;, &#x27;float&#x27;, &#x27;float&#x27;,\n",
       "                             &#x27;float&#x27;, &#x27;float&#x27;, &#x27;float...\n",
       "              gamma=None, gpu_id=None, grow_policy=None, importance_type=None,\n",
       "              interaction_constraints=None, learning_rate=0.1, max_bin=None,\n",
       "              max_cat_threshold=None, max_cat_to_onehot=None,\n",
       "              max_delta_step=None, max_depth=7, max_leaves=None,\n",
       "              min_child_weight=None, missing=nan, monotone_constraints=None,\n",
       "              n_estimators=300, n_jobs=None, num_parallel_tree=None,\n",
       "              predictor=None, random_state=None, ...)</pre><b>In a Jupyter environment, please rerun this cell to show the HTML representation or trust the notebook. <br />On GitHub, the HTML representation is unable to render, please try loading this page with nbviewer.org.</b></div><div class=\"sk-container\" hidden><div class=\"sk-item\"><div class=\"sk-estimator sk-toggleable\"><input class=\"sk-toggleable__control sk-hidden--visually\" id=\"sk-estimator-id-1\" type=\"checkbox\" checked><label for=\"sk-estimator-id-1\" class=\"sk-toggleable__label sk-toggleable__label-arrow\">XGBClassifier</label><div class=\"sk-toggleable__content\"><pre>XGBClassifier(base_score=None, booster=None, callbacks=None,\n",
       "              colsample_bylevel=None, colsample_bynode=None,\n",
       "              colsample_bytree=0.5, early_stopping_rounds=None,\n",
       "              enable_categorical=False, eval_metric=None,\n",
       "              feature_types=[&#x27;float&#x27;, &#x27;float&#x27;, &#x27;float&#x27;, &#x27;float&#x27;, &#x27;float&#x27;,\n",
       "                             &#x27;float&#x27;, &#x27;float&#x27;, &#x27;float&#x27;, &#x27;float&#x27;, &#x27;float&#x27;,\n",
       "                             &#x27;float&#x27;, &#x27;float&#x27;, &#x27;float&#x27;, &#x27;float&#x27;, &#x27;float&#x27;,\n",
       "                             &#x27;float&#x27;, &#x27;float&#x27;, &#x27;float...\n",
       "              gamma=None, gpu_id=None, grow_policy=None, importance_type=None,\n",
       "              interaction_constraints=None, learning_rate=0.1, max_bin=None,\n",
       "              max_cat_threshold=None, max_cat_to_onehot=None,\n",
       "              max_delta_step=None, max_depth=7, max_leaves=None,\n",
       "              min_child_weight=None, missing=nan, monotone_constraints=None,\n",
       "              n_estimators=300, n_jobs=None, num_parallel_tree=None,\n",
       "              predictor=None, random_state=None, ...)</pre></div></div></div></div></div>"
      ],
      "text/plain": [
       "XGBClassifier(base_score=None, booster=None, callbacks=None,\n",
       "              colsample_bylevel=None, colsample_bynode=None,\n",
       "              colsample_bytree=0.5, early_stopping_rounds=None,\n",
       "              enable_categorical=False, eval_metric=None,\n",
       "              feature_types=['float', 'float', 'float', 'float', 'float',\n",
       "                             'float', 'float', 'float', 'float', 'float',\n",
       "                             'float', 'float', 'float', 'float', 'float',\n",
       "                             'float', 'float', 'float...\n",
       "              gamma=None, gpu_id=None, grow_policy=None, importance_type=None,\n",
       "              interaction_constraints=None, learning_rate=0.1, max_bin=None,\n",
       "              max_cat_threshold=None, max_cat_to_onehot=None,\n",
       "              max_delta_step=None, max_depth=7, max_leaves=None,\n",
       "              min_child_weight=None, missing=nan, monotone_constraints=None,\n",
       "              n_estimators=300, n_jobs=None, num_parallel_tree=None,\n",
       "              predictor=None, random_state=None, ...)"
      ]
     },
     "execution_count": 2,
     "metadata": {},
     "output_type": "execute_result"
    }
   ],
   "source": [
    "loaded_model = xgb.XGBClassifier()\n",
    "loaded_model.load_model(\"./xgboost_model_7.json\")\n",
    "loaded_model"
   ]
  },
  {
   "cell_type": "code",
   "execution_count": 14,
   "metadata": {},
   "outputs": [
    {
     "data": {
      "text/html": [
       "<style>#sk-container-id-3 {color: black;background-color: white;}#sk-container-id-3 pre{padding: 0;}#sk-container-id-3 div.sk-toggleable {background-color: white;}#sk-container-id-3 label.sk-toggleable__label {cursor: pointer;display: block;width: 100%;margin-bottom: 0;padding: 0.3em;box-sizing: border-box;text-align: center;}#sk-container-id-3 label.sk-toggleable__label-arrow:before {content: \"▸\";float: left;margin-right: 0.25em;color: #696969;}#sk-container-id-3 label.sk-toggleable__label-arrow:hover:before {color: black;}#sk-container-id-3 div.sk-estimator:hover label.sk-toggleable__label-arrow:before {color: black;}#sk-container-id-3 div.sk-toggleable__content {max-height: 0;max-width: 0;overflow: hidden;text-align: left;background-color: #f0f8ff;}#sk-container-id-3 div.sk-toggleable__content pre {margin: 0.2em;color: black;border-radius: 0.25em;background-color: #f0f8ff;}#sk-container-id-3 input.sk-toggleable__control:checked~div.sk-toggleable__content {max-height: 200px;max-width: 100%;overflow: auto;}#sk-container-id-3 input.sk-toggleable__control:checked~label.sk-toggleable__label-arrow:before {content: \"▾\";}#sk-container-id-3 div.sk-estimator input.sk-toggleable__control:checked~label.sk-toggleable__label {background-color: #d4ebff;}#sk-container-id-3 div.sk-label input.sk-toggleable__control:checked~label.sk-toggleable__label {background-color: #d4ebff;}#sk-container-id-3 input.sk-hidden--visually {border: 0;clip: rect(1px 1px 1px 1px);clip: rect(1px, 1px, 1px, 1px);height: 1px;margin: -1px;overflow: hidden;padding: 0;position: absolute;width: 1px;}#sk-container-id-3 div.sk-estimator {font-family: monospace;background-color: #f0f8ff;border: 1px dotted black;border-radius: 0.25em;box-sizing: border-box;margin-bottom: 0.5em;}#sk-container-id-3 div.sk-estimator:hover {background-color: #d4ebff;}#sk-container-id-3 div.sk-parallel-item::after {content: \"\";width: 100%;border-bottom: 1px solid gray;flex-grow: 1;}#sk-container-id-3 div.sk-label:hover label.sk-toggleable__label {background-color: #d4ebff;}#sk-container-id-3 div.sk-serial::before {content: \"\";position: absolute;border-left: 1px solid gray;box-sizing: border-box;top: 0;bottom: 0;left: 50%;z-index: 0;}#sk-container-id-3 div.sk-serial {display: flex;flex-direction: column;align-items: center;background-color: white;padding-right: 0.2em;padding-left: 0.2em;position: relative;}#sk-container-id-3 div.sk-item {position: relative;z-index: 1;}#sk-container-id-3 div.sk-parallel {display: flex;align-items: stretch;justify-content: center;background-color: white;position: relative;}#sk-container-id-3 div.sk-item::before, #sk-container-id-3 div.sk-parallel-item::before {content: \"\";position: absolute;border-left: 1px solid gray;box-sizing: border-box;top: 0;bottom: 0;left: 50%;z-index: -1;}#sk-container-id-3 div.sk-parallel-item {display: flex;flex-direction: column;z-index: 1;position: relative;background-color: white;}#sk-container-id-3 div.sk-parallel-item:first-child::after {align-self: flex-end;width: 50%;}#sk-container-id-3 div.sk-parallel-item:last-child::after {align-self: flex-start;width: 50%;}#sk-container-id-3 div.sk-parallel-item:only-child::after {width: 0;}#sk-container-id-3 div.sk-dashed-wrapped {border: 1px dashed gray;margin: 0 0.4em 0.5em 0.4em;box-sizing: border-box;padding-bottom: 0.4em;background-color: white;}#sk-container-id-3 div.sk-label label {font-family: monospace;font-weight: bold;display: inline-block;line-height: 1.2em;}#sk-container-id-3 div.sk-label-container {text-align: center;}#sk-container-id-3 div.sk-container {/* jupyter's `normalize.less` sets `[hidden] { display: none; }` but bootstrap.min.css set `[hidden] { display: none !important; }` so we also need the `!important` here to be able to override the default hidden behavior on the sphinx rendered scikit-learn.org. See: https://github.com/scikit-learn/scikit-learn/issues/21755 */display: inline-block !important;position: relative;}#sk-container-id-3 div.sk-text-repr-fallback {display: none;}</style><div id=\"sk-container-id-3\" class=\"sk-top-container\"><div class=\"sk-text-repr-fallback\"><pre>XGBClassifier(base_score=None, booster=None, callbacks=None,\n",
       "              colsample_bylevel=None, colsample_bynode=None,\n",
       "              colsample_bytree=0.8, early_stopping_rounds=None,\n",
       "              enable_categorical=False, eval_metric=None,\n",
       "              feature_types=[&#x27;float&#x27;, &#x27;float&#x27;, &#x27;float&#x27;, &#x27;float&#x27;, &#x27;float&#x27;,\n",
       "                             &#x27;float&#x27;, &#x27;float&#x27;, &#x27;float&#x27;, &#x27;float&#x27;, &#x27;float&#x27;,\n",
       "                             &#x27;float&#x27;, &#x27;float&#x27;, &#x27;float&#x27;, &#x27;float&#x27;, &#x27;float&#x27;,\n",
       "                             &#x27;float&#x27;, &#x27;float&#x27;, &#x27;float...\n",
       "              gamma=None, gpu_id=None, grow_policy=None, importance_type=None,\n",
       "              interaction_constraints=None, learning_rate=0.1, max_bin=None,\n",
       "              max_cat_threshold=None, max_cat_to_onehot=None,\n",
       "              max_delta_step=None, max_depth=6, max_leaves=None,\n",
       "              min_child_weight=None, missing=nan, monotone_constraints=None,\n",
       "              n_estimators=300, n_jobs=None, num_parallel_tree=None,\n",
       "              predictor=None, random_state=None, ...)</pre><b>In a Jupyter environment, please rerun this cell to show the HTML representation or trust the notebook. <br />On GitHub, the HTML representation is unable to render, please try loading this page with nbviewer.org.</b></div><div class=\"sk-container\" hidden><div class=\"sk-item\"><div class=\"sk-estimator sk-toggleable\"><input class=\"sk-toggleable__control sk-hidden--visually\" id=\"sk-estimator-id-3\" type=\"checkbox\" checked><label for=\"sk-estimator-id-3\" class=\"sk-toggleable__label sk-toggleable__label-arrow\">XGBClassifier</label><div class=\"sk-toggleable__content\"><pre>XGBClassifier(base_score=None, booster=None, callbacks=None,\n",
       "              colsample_bylevel=None, colsample_bynode=None,\n",
       "              colsample_bytree=0.8, early_stopping_rounds=None,\n",
       "              enable_categorical=False, eval_metric=None,\n",
       "              feature_types=[&#x27;float&#x27;, &#x27;float&#x27;, &#x27;float&#x27;, &#x27;float&#x27;, &#x27;float&#x27;,\n",
       "                             &#x27;float&#x27;, &#x27;float&#x27;, &#x27;float&#x27;, &#x27;float&#x27;, &#x27;float&#x27;,\n",
       "                             &#x27;float&#x27;, &#x27;float&#x27;, &#x27;float&#x27;, &#x27;float&#x27;, &#x27;float&#x27;,\n",
       "                             &#x27;float&#x27;, &#x27;float&#x27;, &#x27;float...\n",
       "              gamma=None, gpu_id=None, grow_policy=None, importance_type=None,\n",
       "              interaction_constraints=None, learning_rate=0.1, max_bin=None,\n",
       "              max_cat_threshold=None, max_cat_to_onehot=None,\n",
       "              max_delta_step=None, max_depth=6, max_leaves=None,\n",
       "              min_child_weight=None, missing=nan, monotone_constraints=None,\n",
       "              n_estimators=300, n_jobs=None, num_parallel_tree=None,\n",
       "              predictor=None, random_state=None, ...)</pre></div></div></div></div></div>"
      ],
      "text/plain": [
       "XGBClassifier(base_score=None, booster=None, callbacks=None,\n",
       "              colsample_bylevel=None, colsample_bynode=None,\n",
       "              colsample_bytree=0.8, early_stopping_rounds=None,\n",
       "              enable_categorical=False, eval_metric=None,\n",
       "              feature_types=['float', 'float', 'float', 'float', 'float',\n",
       "                             'float', 'float', 'float', 'float', 'float',\n",
       "                             'float', 'float', 'float', 'float', 'float',\n",
       "                             'float', 'float', 'float...\n",
       "              gamma=None, gpu_id=None, grow_policy=None, importance_type=None,\n",
       "              interaction_constraints=None, learning_rate=0.1, max_bin=None,\n",
       "              max_cat_threshold=None, max_cat_to_onehot=None,\n",
       "              max_delta_step=None, max_depth=6, max_leaves=None,\n",
       "              min_child_weight=None, missing=nan, monotone_constraints=None,\n",
       "              n_estimators=300, n_jobs=None, num_parallel_tree=None,\n",
       "              predictor=None, random_state=None, ...)"
      ]
     },
     "execution_count": 14,
     "metadata": {},
     "output_type": "execute_result"
    }
   ],
   "source": [
    "loaded_model = xgb.XGBClassifier()\n",
    "loaded_model.load_model(\"./xgboost_model_6.json\")\n",
    "loaded_model"
   ]
  },
  {
   "cell_type": "code",
   "execution_count": 15,
   "metadata": {},
   "outputs": [
    {
     "data": {
      "text/html": [
       "<div>\n",
       "<style scoped>\n",
       "    .dataframe tbody tr th:only-of-type {\n",
       "        vertical-align: middle;\n",
       "    }\n",
       "\n",
       "    .dataframe tbody tr th {\n",
       "        vertical-align: top;\n",
       "    }\n",
       "\n",
       "    .dataframe thead th {\n",
       "        text-align: right;\n",
       "    }\n",
       "</style>\n",
       "<table border=\"1\" class=\"dataframe\">\n",
       "  <thead>\n",
       "    <tr style=\"text-align: right;\">\n",
       "      <th></th>\n",
       "      <th>DC024</th>\n",
       "      <th>DC025</th>\n",
       "      <th>DC205</th>\n",
       "      <th>DC220</th>\n",
       "      <th>DC226</th>\n",
       "      <th>DC230a</th>\n",
       "      <th>DC232b</th>\n",
       "      <th>DC235</th>\n",
       "      <th>DC237</th>\n",
       "      <th>DC237a</th>\n",
       "      <th>DC237b</th>\n",
       "      <th>DC237c</th>\n",
       "      <th>DC237d</th>\n",
       "      <th>DC237f</th>\n",
       "      <th>DC241</th>\n",
       "      <th>DC244</th>\n",
       "      <th>DC246</th>\n",
       "      <th>DC252</th>\n",
       "      <th>DC109</th>\n",
       "    </tr>\n",
       "  </thead>\n",
       "  <tbody>\n",
       "    <tr>\n",
       "      <th>0</th>\n",
       "      <td>-0.345183</td>\n",
       "      <td>0.804269</td>\n",
       "      <td>0.020271</td>\n",
       "      <td>-1.511432</td>\n",
       "      <td>-0.380114</td>\n",
       "      <td>-0.540280</td>\n",
       "      <td>-0.100222</td>\n",
       "      <td>-0.374981</td>\n",
       "      <td>-1.907537</td>\n",
       "      <td>-1.800704</td>\n",
       "      <td>-0.092632</td>\n",
       "      <td>-0.296939</td>\n",
       "      <td>-0.120766</td>\n",
       "      <td>-0.586430</td>\n",
       "      <td>-0.419199</td>\n",
       "      <td>1.117569</td>\n",
       "      <td>1.112124</td>\n",
       "      <td>-0.212137</td>\n",
       "      <td>0.226329</td>\n",
       "    </tr>\n",
       "    <tr>\n",
       "      <th>1</th>\n",
       "      <td>-0.345183</td>\n",
       "      <td>-1.243364</td>\n",
       "      <td>-0.664806</td>\n",
       "      <td>-0.509973</td>\n",
       "      <td>-0.380114</td>\n",
       "      <td>-0.540280</td>\n",
       "      <td>-0.100222</td>\n",
       "      <td>-1.647229</td>\n",
       "      <td>0.498557</td>\n",
       "      <td>0.534891</td>\n",
       "      <td>-0.092632</td>\n",
       "      <td>-0.296939</td>\n",
       "      <td>-0.120766</td>\n",
       "      <td>-0.586430</td>\n",
       "      <td>-0.419199</td>\n",
       "      <td>-0.981697</td>\n",
       "      <td>-0.995504</td>\n",
       "      <td>-0.212137</td>\n",
       "      <td>-0.646075</td>\n",
       "    </tr>\n",
       "    <tr>\n",
       "      <th>2</th>\n",
       "      <td>1.241954</td>\n",
       "      <td>0.804269</td>\n",
       "      <td>-0.664806</td>\n",
       "      <td>-0.201832</td>\n",
       "      <td>-0.380114</td>\n",
       "      <td>-0.540280</td>\n",
       "      <td>-0.100222</td>\n",
       "      <td>0.897267</td>\n",
       "      <td>-1.907537</td>\n",
       "      <td>-1.800704</td>\n",
       "      <td>-0.092632</td>\n",
       "      <td>-0.296939</td>\n",
       "      <td>-0.120766</td>\n",
       "      <td>-0.586430</td>\n",
       "      <td>-0.419199</td>\n",
       "      <td>-0.981697</td>\n",
       "      <td>1.112124</td>\n",
       "      <td>2.447255</td>\n",
       "      <td>-0.646075</td>\n",
       "    </tr>\n",
       "    <tr>\n",
       "      <th>3</th>\n",
       "      <td>1.160563</td>\n",
       "      <td>-1.243364</td>\n",
       "      <td>-0.664806</td>\n",
       "      <td>-0.201832</td>\n",
       "      <td>-0.380114</td>\n",
       "      <td>-0.540280</td>\n",
       "      <td>-0.100222</td>\n",
       "      <td>0.897267</td>\n",
       "      <td>0.498557</td>\n",
       "      <td>0.534891</td>\n",
       "      <td>-0.092632</td>\n",
       "      <td>-0.296939</td>\n",
       "      <td>-0.120766</td>\n",
       "      <td>-0.586430</td>\n",
       "      <td>-0.419199</td>\n",
       "      <td>1.117569</td>\n",
       "      <td>-0.995504</td>\n",
       "      <td>-1.098601</td>\n",
       "      <td>-0.646075</td>\n",
       "    </tr>\n",
       "    <tr>\n",
       "      <th>4</th>\n",
       "      <td>1.323346</td>\n",
       "      <td>0.804269</td>\n",
       "      <td>-0.664806</td>\n",
       "      <td>-0.124797</td>\n",
       "      <td>-0.380114</td>\n",
       "      <td>-0.540280</td>\n",
       "      <td>-0.100222</td>\n",
       "      <td>-1.647229</td>\n",
       "      <td>0.498557</td>\n",
       "      <td>0.534891</td>\n",
       "      <td>-0.092632</td>\n",
       "      <td>-0.296939</td>\n",
       "      <td>-0.120766</td>\n",
       "      <td>-0.586430</td>\n",
       "      <td>-0.419199</td>\n",
       "      <td>1.117569</td>\n",
       "      <td>1.112124</td>\n",
       "      <td>-0.212137</td>\n",
       "      <td>-0.646075</td>\n",
       "    </tr>\n",
       "    <tr>\n",
       "      <th>...</th>\n",
       "      <td>...</td>\n",
       "      <td>...</td>\n",
       "      <td>...</td>\n",
       "      <td>...</td>\n",
       "      <td>...</td>\n",
       "      <td>...</td>\n",
       "      <td>...</td>\n",
       "      <td>...</td>\n",
       "      <td>...</td>\n",
       "      <td>...</td>\n",
       "      <td>...</td>\n",
       "      <td>...</td>\n",
       "      <td>...</td>\n",
       "      <td>...</td>\n",
       "      <td>...</td>\n",
       "      <td>...</td>\n",
       "      <td>...</td>\n",
       "      <td>...</td>\n",
       "      <td>...</td>\n",
       "    </tr>\n",
       "    <tr>\n",
       "      <th>11985</th>\n",
       "      <td>0.875692</td>\n",
       "      <td>0.804269</td>\n",
       "      <td>-0.664806</td>\n",
       "      <td>-0.972185</td>\n",
       "      <td>-0.380114</td>\n",
       "      <td>-0.540280</td>\n",
       "      <td>-0.100222</td>\n",
       "      <td>-1.647229</td>\n",
       "      <td>0.498557</td>\n",
       "      <td>0.534891</td>\n",
       "      <td>-0.092632</td>\n",
       "      <td>-0.296939</td>\n",
       "      <td>-0.120766</td>\n",
       "      <td>-0.586430</td>\n",
       "      <td>-0.419199</td>\n",
       "      <td>-0.981697</td>\n",
       "      <td>-0.995504</td>\n",
       "      <td>-1.098601</td>\n",
       "      <td>-0.646075</td>\n",
       "    </tr>\n",
       "    <tr>\n",
       "      <th>11986</th>\n",
       "      <td>0.712909</td>\n",
       "      <td>0.804269</td>\n",
       "      <td>-0.664806</td>\n",
       "      <td>-0.432938</td>\n",
       "      <td>-0.380114</td>\n",
       "      <td>0.872241</td>\n",
       "      <td>-0.100222</td>\n",
       "      <td>-0.374981</td>\n",
       "      <td>0.498557</td>\n",
       "      <td>0.534891</td>\n",
       "      <td>-0.092632</td>\n",
       "      <td>-0.296939</td>\n",
       "      <td>-0.120766</td>\n",
       "      <td>1.773327</td>\n",
       "      <td>-0.419199</td>\n",
       "      <td>1.117569</td>\n",
       "      <td>-0.995504</td>\n",
       "      <td>-1.098601</td>\n",
       "      <td>-0.646075</td>\n",
       "    </tr>\n",
       "    <tr>\n",
       "      <th>11987</th>\n",
       "      <td>1.241954</td>\n",
       "      <td>-1.243364</td>\n",
       "      <td>-0.664806</td>\n",
       "      <td>-0.278867</td>\n",
       "      <td>-0.035449</td>\n",
       "      <td>-0.540280</td>\n",
       "      <td>-0.100222</td>\n",
       "      <td>-0.374981</td>\n",
       "      <td>0.498557</td>\n",
       "      <td>0.534891</td>\n",
       "      <td>-0.092632</td>\n",
       "      <td>-0.296939</td>\n",
       "      <td>-0.120766</td>\n",
       "      <td>-0.586430</td>\n",
       "      <td>-0.419199</td>\n",
       "      <td>-0.981697</td>\n",
       "      <td>-0.995504</td>\n",
       "      <td>-0.212137</td>\n",
       "      <td>-0.646075</td>\n",
       "    </tr>\n",
       "    <tr>\n",
       "      <th>11988</th>\n",
       "      <td>1.241954</td>\n",
       "      <td>0.804269</td>\n",
       "      <td>1.938485</td>\n",
       "      <td>-2.204750</td>\n",
       "      <td>0.309216</td>\n",
       "      <td>-0.540280</td>\n",
       "      <td>-0.100222</td>\n",
       "      <td>0.897267</td>\n",
       "      <td>0.498557</td>\n",
       "      <td>0.534891</td>\n",
       "      <td>-0.092632</td>\n",
       "      <td>-0.296939</td>\n",
       "      <td>-0.120766</td>\n",
       "      <td>-0.586430</td>\n",
       "      <td>-0.419199</td>\n",
       "      <td>-0.981697</td>\n",
       "      <td>1.112124</td>\n",
       "      <td>-0.212137</td>\n",
       "      <td>2.843540</td>\n",
       "    </tr>\n",
       "    <tr>\n",
       "      <th>11989</th>\n",
       "      <td>1.526825</td>\n",
       "      <td>-1.243364</td>\n",
       "      <td>-0.664806</td>\n",
       "      <td>0.260380</td>\n",
       "      <td>-0.035449</td>\n",
       "      <td>-0.540280</td>\n",
       "      <td>-0.100222</td>\n",
       "      <td>0.897267</td>\n",
       "      <td>0.498557</td>\n",
       "      <td>0.534891</td>\n",
       "      <td>-0.092632</td>\n",
       "      <td>-0.296939</td>\n",
       "      <td>-0.120766</td>\n",
       "      <td>-0.586430</td>\n",
       "      <td>-0.419199</td>\n",
       "      <td>-0.981697</td>\n",
       "      <td>-0.995504</td>\n",
       "      <td>-0.212137</td>\n",
       "      <td>-0.646075</td>\n",
       "    </tr>\n",
       "  </tbody>\n",
       "</table>\n",
       "<p>11990 rows × 19 columns</p>\n",
       "</div>"
      ],
      "text/plain": [
       "          DC024     DC025     DC205     DC220     DC226    DC230a    DC232b   \n",
       "0     -0.345183  0.804269  0.020271 -1.511432 -0.380114 -0.540280 -0.100222  \\\n",
       "1     -0.345183 -1.243364 -0.664806 -0.509973 -0.380114 -0.540280 -0.100222   \n",
       "2      1.241954  0.804269 -0.664806 -0.201832 -0.380114 -0.540280 -0.100222   \n",
       "3      1.160563 -1.243364 -0.664806 -0.201832 -0.380114 -0.540280 -0.100222   \n",
       "4      1.323346  0.804269 -0.664806 -0.124797 -0.380114 -0.540280 -0.100222   \n",
       "...         ...       ...       ...       ...       ...       ...       ...   \n",
       "11985  0.875692  0.804269 -0.664806 -0.972185 -0.380114 -0.540280 -0.100222   \n",
       "11986  0.712909  0.804269 -0.664806 -0.432938 -0.380114  0.872241 -0.100222   \n",
       "11987  1.241954 -1.243364 -0.664806 -0.278867 -0.035449 -0.540280 -0.100222   \n",
       "11988  1.241954  0.804269  1.938485 -2.204750  0.309216 -0.540280 -0.100222   \n",
       "11989  1.526825 -1.243364 -0.664806  0.260380 -0.035449 -0.540280 -0.100222   \n",
       "\n",
       "          DC235     DC237    DC237a    DC237b    DC237c    DC237d    DC237f   \n",
       "0     -0.374981 -1.907537 -1.800704 -0.092632 -0.296939 -0.120766 -0.586430  \\\n",
       "1     -1.647229  0.498557  0.534891 -0.092632 -0.296939 -0.120766 -0.586430   \n",
       "2      0.897267 -1.907537 -1.800704 -0.092632 -0.296939 -0.120766 -0.586430   \n",
       "3      0.897267  0.498557  0.534891 -0.092632 -0.296939 -0.120766 -0.586430   \n",
       "4     -1.647229  0.498557  0.534891 -0.092632 -0.296939 -0.120766 -0.586430   \n",
       "...         ...       ...       ...       ...       ...       ...       ...   \n",
       "11985 -1.647229  0.498557  0.534891 -0.092632 -0.296939 -0.120766 -0.586430   \n",
       "11986 -0.374981  0.498557  0.534891 -0.092632 -0.296939 -0.120766  1.773327   \n",
       "11987 -0.374981  0.498557  0.534891 -0.092632 -0.296939 -0.120766 -0.586430   \n",
       "11988  0.897267  0.498557  0.534891 -0.092632 -0.296939 -0.120766 -0.586430   \n",
       "11989  0.897267  0.498557  0.534891 -0.092632 -0.296939 -0.120766 -0.586430   \n",
       "\n",
       "          DC241     DC244     DC246     DC252     DC109  \n",
       "0     -0.419199  1.117569  1.112124 -0.212137  0.226329  \n",
       "1     -0.419199 -0.981697 -0.995504 -0.212137 -0.646075  \n",
       "2     -0.419199 -0.981697  1.112124  2.447255 -0.646075  \n",
       "3     -0.419199  1.117569 -0.995504 -1.098601 -0.646075  \n",
       "4     -0.419199  1.117569  1.112124 -0.212137 -0.646075  \n",
       "...         ...       ...       ...       ...       ...  \n",
       "11985 -0.419199 -0.981697 -0.995504 -1.098601 -0.646075  \n",
       "11986 -0.419199  1.117569 -0.995504 -1.098601 -0.646075  \n",
       "11987 -0.419199 -0.981697 -0.995504 -0.212137 -0.646075  \n",
       "11988 -0.419199 -0.981697  1.112124 -0.212137  2.843540  \n",
       "11989 -0.419199 -0.981697 -0.995504 -0.212137 -0.646075  \n",
       "\n",
       "[11990 rows x 19 columns]"
      ]
     },
     "execution_count": 15,
     "metadata": {},
     "output_type": "execute_result"
    }
   ],
   "source": [
    "data=pd.read_csv('./test_selected_scaled.csv',header=0).astype(float)\n",
    "data"
   ]
  },
  {
   "cell_type": "code",
   "execution_count": 16,
   "metadata": {},
   "outputs": [
    {
     "name": "stdout",
     "output_type": "stream",
     "text": [
      "<class 'pandas.core.frame.DataFrame'>\n",
      "RangeIndex: 11990 entries, 0 to 11989\n",
      "Data columns (total 19 columns):\n",
      " #   Column  Non-Null Count  Dtype  \n",
      "---  ------  --------------  -----  \n",
      " 0   DC024   11990 non-null  float64\n",
      " 1   DC025   11990 non-null  float64\n",
      " 2   DC205   11990 non-null  float64\n",
      " 3   DC220   11990 non-null  float64\n",
      " 4   DC226   11990 non-null  float64\n",
      " 5   DC230a  11990 non-null  float64\n",
      " 6   DC232b  11990 non-null  float64\n",
      " 7   DC235   11990 non-null  float64\n",
      " 8   DC237   11990 non-null  float64\n",
      " 9   DC237a  11990 non-null  float64\n",
      " 10  DC237b  11990 non-null  float64\n",
      " 11  DC237c  11990 non-null  float64\n",
      " 12  DC237d  11990 non-null  float64\n",
      " 13  DC237f  11990 non-null  float64\n",
      " 14  DC241   11990 non-null  float64\n",
      " 15  DC244   11990 non-null  float64\n",
      " 16  DC246   11990 non-null  float64\n",
      " 17  DC252   11990 non-null  float64\n",
      " 18  DC109   11990 non-null  float64\n",
      "dtypes: float64(19)\n",
      "memory usage: 1.7 MB\n"
     ]
    }
   ],
   "source": [
    "data.info()"
   ]
  },
  {
   "cell_type": "code",
   "execution_count": 17,
   "metadata": {},
   "outputs": [
    {
     "data": {
      "text/plain": [
       "array([0, 0, 0, ..., 0, 0, 0])"
      ]
     },
     "execution_count": 17,
     "metadata": {},
     "output_type": "execute_result"
    }
   ],
   "source": [
    "predict=loaded_model.predict(data)\n",
    "predict"
   ]
  },
  {
   "cell_type": "code",
   "execution_count": 19,
   "metadata": {},
   "outputs": [
    {
     "data": {
      "text/html": [
       "<div>\n",
       "<style scoped>\n",
       "    .dataframe tbody tr th:only-of-type {\n",
       "        vertical-align: middle;\n",
       "    }\n",
       "\n",
       "    .dataframe tbody tr th {\n",
       "        vertical-align: top;\n",
       "    }\n",
       "\n",
       "    .dataframe thead th {\n",
       "        text-align: right;\n",
       "    }\n",
       "</style>\n",
       "<table border=\"1\" class=\"dataframe\">\n",
       "  <thead>\n",
       "    <tr style=\"text-align: right;\">\n",
       "      <th></th>\n",
       "      <th>id</th>\n",
       "      <th>DC201</th>\n",
       "    </tr>\n",
       "  </thead>\n",
       "  <tbody>\n",
       "    <tr>\n",
       "      <th>0</th>\n",
       "      <td>26718</td>\n",
       "      <td>0</td>\n",
       "    </tr>\n",
       "    <tr>\n",
       "      <th>1</th>\n",
       "      <td>26802</td>\n",
       "      <td>0</td>\n",
       "    </tr>\n",
       "    <tr>\n",
       "      <th>2</th>\n",
       "      <td>41302</td>\n",
       "      <td>0</td>\n",
       "    </tr>\n",
       "    <tr>\n",
       "      <th>3</th>\n",
       "      <td>38698</td>\n",
       "      <td>0</td>\n",
       "    </tr>\n",
       "    <tr>\n",
       "      <th>4</th>\n",
       "      <td>44257</td>\n",
       "      <td>0</td>\n",
       "    </tr>\n",
       "    <tr>\n",
       "      <th>...</th>\n",
       "      <td>...</td>\n",
       "      <td>...</td>\n",
       "    </tr>\n",
       "    <tr>\n",
       "      <th>11985</th>\n",
       "      <td>36943</td>\n",
       "      <td>0</td>\n",
       "    </tr>\n",
       "    <tr>\n",
       "      <th>11986</th>\n",
       "      <td>33415</td>\n",
       "      <td>0</td>\n",
       "    </tr>\n",
       "    <tr>\n",
       "      <th>11987</th>\n",
       "      <td>41998</td>\n",
       "      <td>0</td>\n",
       "    </tr>\n",
       "    <tr>\n",
       "      <th>11988</th>\n",
       "      <td>41567</td>\n",
       "      <td>0</td>\n",
       "    </tr>\n",
       "    <tr>\n",
       "      <th>11989</th>\n",
       "      <td>45296</td>\n",
       "      <td>0</td>\n",
       "    </tr>\n",
       "  </tbody>\n",
       "</table>\n",
       "<p>11990 rows × 2 columns</p>\n",
       "</div>"
      ],
      "text/plain": [
       "          id  DC201\n",
       "0      26718      0\n",
       "1      26802      0\n",
       "2      41302      0\n",
       "3      38698      0\n",
       "4      44257      0\n",
       "...      ...    ...\n",
       "11985  36943      0\n",
       "11986  33415      0\n",
       "11987  41998      0\n",
       "11988  41567      0\n",
       "11989  45296      0\n",
       "\n",
       "[11990 rows x 2 columns]"
      ]
     },
     "execution_count": 19,
     "metadata": {},
     "output_type": "execute_result"
    }
   ],
   "source": [
    "submission=pd.read_csv('../data/sample_submission.csv')\n",
    "submission['DC201']=predict\n",
    "submission"
   ]
  },
  {
   "attachments": {},
   "cell_type": "markdown",
   "metadata": {},
   "source": [
    "### Model 7"
   ]
  },
  {
   "cell_type": "code",
   "execution_count": 10,
   "metadata": {},
   "outputs": [
    {
     "data": {
      "text/plain": [
       "DC201\n",
       "0    11484\n",
       "1      506\n",
       "Name: count, dtype: int64"
      ]
     },
     "execution_count": 10,
     "metadata": {},
     "output_type": "execute_result"
    }
   ],
   "source": [
    "submission['DC201'].value_counts()"
   ]
  },
  {
   "cell_type": "code",
   "execution_count": 11,
   "metadata": {},
   "outputs": [
    {
     "data": {
      "text/html": [
       "<div>\n",
       "<style scoped>\n",
       "    .dataframe tbody tr th:only-of-type {\n",
       "        vertical-align: middle;\n",
       "    }\n",
       "\n",
       "    .dataframe tbody tr th {\n",
       "        vertical-align: top;\n",
       "    }\n",
       "\n",
       "    .dataframe thead th {\n",
       "        text-align: right;\n",
       "    }\n",
       "</style>\n",
       "<table border=\"1\" class=\"dataframe\">\n",
       "  <thead>\n",
       "    <tr style=\"text-align: right;\">\n",
       "      <th></th>\n",
       "      <th>id</th>\n",
       "      <th>DC201</th>\n",
       "    </tr>\n",
       "  </thead>\n",
       "  <tbody>\n",
       "    <tr>\n",
       "      <th>0</th>\n",
       "      <td>26718</td>\n",
       "      <td>Layak Minum</td>\n",
       "    </tr>\n",
       "    <tr>\n",
       "      <th>1</th>\n",
       "      <td>26802</td>\n",
       "      <td>Layak Minum</td>\n",
       "    </tr>\n",
       "    <tr>\n",
       "      <th>2</th>\n",
       "      <td>41302</td>\n",
       "      <td>Layak Minum</td>\n",
       "    </tr>\n",
       "    <tr>\n",
       "      <th>3</th>\n",
       "      <td>38698</td>\n",
       "      <td>Layak Minum</td>\n",
       "    </tr>\n",
       "    <tr>\n",
       "      <th>4</th>\n",
       "      <td>44257</td>\n",
       "      <td>Layak Minum</td>\n",
       "    </tr>\n",
       "    <tr>\n",
       "      <th>...</th>\n",
       "      <td>...</td>\n",
       "      <td>...</td>\n",
       "    </tr>\n",
       "    <tr>\n",
       "      <th>11985</th>\n",
       "      <td>36943</td>\n",
       "      <td>Layak Minum</td>\n",
       "    </tr>\n",
       "    <tr>\n",
       "      <th>11986</th>\n",
       "      <td>33415</td>\n",
       "      <td>Layak Minum</td>\n",
       "    </tr>\n",
       "    <tr>\n",
       "      <th>11987</th>\n",
       "      <td>41998</td>\n",
       "      <td>Layak Minum</td>\n",
       "    </tr>\n",
       "    <tr>\n",
       "      <th>11988</th>\n",
       "      <td>41567</td>\n",
       "      <td>Layak Minum</td>\n",
       "    </tr>\n",
       "    <tr>\n",
       "      <th>11989</th>\n",
       "      <td>45296</td>\n",
       "      <td>Layak Minum</td>\n",
       "    </tr>\n",
       "  </tbody>\n",
       "</table>\n",
       "<p>11990 rows × 2 columns</p>\n",
       "</div>"
      ],
      "text/plain": [
       "          id        DC201\n",
       "0      26718  Layak Minum\n",
       "1      26802  Layak Minum\n",
       "2      41302  Layak Minum\n",
       "3      38698  Layak Minum\n",
       "4      44257  Layak Minum\n",
       "...      ...          ...\n",
       "11985  36943  Layak Minum\n",
       "11986  33415  Layak Minum\n",
       "11987  41998  Layak Minum\n",
       "11988  41567  Layak Minum\n",
       "11989  45296  Layak Minum\n",
       "\n",
       "[11990 rows x 2 columns]"
      ]
     },
     "execution_count": 11,
     "metadata": {},
     "output_type": "execute_result"
    }
   ],
   "source": [
    "submission['DC201']=submission['DC201'].apply(lambda x:'Layak Minum' if x==0 else 'Tidak Layak Minum')\n",
    "submission"
   ]
  },
  {
   "cell_type": "code",
   "execution_count": 12,
   "metadata": {},
   "outputs": [],
   "source": [
    "submission.to_csv('Submission_7.csv',index=False)"
   ]
  },
  {
   "attachments": {},
   "cell_type": "markdown",
   "metadata": {},
   "source": [
    "### Submission 6"
   ]
  },
  {
   "cell_type": "code",
   "execution_count": 20,
   "metadata": {},
   "outputs": [
    {
     "data": {
      "text/plain": [
       "DC201\n",
       "0    11461\n",
       "1      529\n",
       "Name: count, dtype: int64"
      ]
     },
     "execution_count": 20,
     "metadata": {},
     "output_type": "execute_result"
    }
   ],
   "source": [
    "submission['DC201'].value_counts()"
   ]
  },
  {
   "cell_type": "code",
   "execution_count": 21,
   "metadata": {},
   "outputs": [
    {
     "data": {
      "text/html": [
       "<div>\n",
       "<style scoped>\n",
       "    .dataframe tbody tr th:only-of-type {\n",
       "        vertical-align: middle;\n",
       "    }\n",
       "\n",
       "    .dataframe tbody tr th {\n",
       "        vertical-align: top;\n",
       "    }\n",
       "\n",
       "    .dataframe thead th {\n",
       "        text-align: right;\n",
       "    }\n",
       "</style>\n",
       "<table border=\"1\" class=\"dataframe\">\n",
       "  <thead>\n",
       "    <tr style=\"text-align: right;\">\n",
       "      <th></th>\n",
       "      <th>id</th>\n",
       "      <th>DC201</th>\n",
       "    </tr>\n",
       "  </thead>\n",
       "  <tbody>\n",
       "    <tr>\n",
       "      <th>0</th>\n",
       "      <td>26718</td>\n",
       "      <td>Layak Minum</td>\n",
       "    </tr>\n",
       "    <tr>\n",
       "      <th>1</th>\n",
       "      <td>26802</td>\n",
       "      <td>Layak Minum</td>\n",
       "    </tr>\n",
       "    <tr>\n",
       "      <th>2</th>\n",
       "      <td>41302</td>\n",
       "      <td>Layak Minum</td>\n",
       "    </tr>\n",
       "    <tr>\n",
       "      <th>3</th>\n",
       "      <td>38698</td>\n",
       "      <td>Layak Minum</td>\n",
       "    </tr>\n",
       "    <tr>\n",
       "      <th>4</th>\n",
       "      <td>44257</td>\n",
       "      <td>Layak Minum</td>\n",
       "    </tr>\n",
       "    <tr>\n",
       "      <th>...</th>\n",
       "      <td>...</td>\n",
       "      <td>...</td>\n",
       "    </tr>\n",
       "    <tr>\n",
       "      <th>11985</th>\n",
       "      <td>36943</td>\n",
       "      <td>Layak Minum</td>\n",
       "    </tr>\n",
       "    <tr>\n",
       "      <th>11986</th>\n",
       "      <td>33415</td>\n",
       "      <td>Layak Minum</td>\n",
       "    </tr>\n",
       "    <tr>\n",
       "      <th>11987</th>\n",
       "      <td>41998</td>\n",
       "      <td>Layak Minum</td>\n",
       "    </tr>\n",
       "    <tr>\n",
       "      <th>11988</th>\n",
       "      <td>41567</td>\n",
       "      <td>Layak Minum</td>\n",
       "    </tr>\n",
       "    <tr>\n",
       "      <th>11989</th>\n",
       "      <td>45296</td>\n",
       "      <td>Layak Minum</td>\n",
       "    </tr>\n",
       "  </tbody>\n",
       "</table>\n",
       "<p>11990 rows × 2 columns</p>\n",
       "</div>"
      ],
      "text/plain": [
       "          id        DC201\n",
       "0      26718  Layak Minum\n",
       "1      26802  Layak Minum\n",
       "2      41302  Layak Minum\n",
       "3      38698  Layak Minum\n",
       "4      44257  Layak Minum\n",
       "...      ...          ...\n",
       "11985  36943  Layak Minum\n",
       "11986  33415  Layak Minum\n",
       "11987  41998  Layak Minum\n",
       "11988  41567  Layak Minum\n",
       "11989  45296  Layak Minum\n",
       "\n",
       "[11990 rows x 2 columns]"
      ]
     },
     "execution_count": 21,
     "metadata": {},
     "output_type": "execute_result"
    }
   ],
   "source": [
    "submission['DC201']=submission['DC201'].apply(lambda x:'Layak Minum' if x==0 else 'Tidak Layak Minum')\n",
    "submission"
   ]
  },
  {
   "cell_type": "code",
   "execution_count": 22,
   "metadata": {},
   "outputs": [],
   "source": [
    "submission.to_csv('Submission_6.csv',index=False)"
   ]
  },
  {
   "attachments": {},
   "cell_type": "markdown",
   "metadata": {},
   "source": [
    "#### Submission 5 model terbaik per 16/05"
   ]
  },
  {
   "cell_type": "code",
   "execution_count": 8,
   "metadata": {},
   "outputs": [
    {
     "data": {
      "text/plain": [
       "DC201\n",
       "0    11427\n",
       "1      563\n",
       "Name: count, dtype: int64"
      ]
     },
     "execution_count": 8,
     "metadata": {},
     "output_type": "execute_result"
    }
   ],
   "source": [
    "submission['DC201'].value_counts()"
   ]
  },
  {
   "cell_type": "code",
   "execution_count": 12,
   "metadata": {},
   "outputs": [
    {
     "data": {
      "text/plain": [
       "DC201\n",
       "0    11427\n",
       "1      563\n",
       "Name: count, dtype: int64"
      ]
     },
     "execution_count": 12,
     "metadata": {},
     "output_type": "execute_result"
    }
   ],
   "source": [
    "submission['DC201'].value_counts()"
   ]
  },
  {
   "cell_type": "code",
   "execution_count": 13,
   "metadata": {},
   "outputs": [
    {
     "data": {
      "text/plain": [
       "DC201\n",
       "0    11418\n",
       "1      572\n",
       "Name: count, dtype: int64"
      ]
     },
     "execution_count": 13,
     "metadata": {},
     "output_type": "execute_result"
    }
   ],
   "source": [
    "submission['DC201'].value_counts()"
   ]
  },
  {
   "cell_type": "code",
   "execution_count": 15,
   "metadata": {},
   "outputs": [
    {
     "data": {
      "text/plain": [
       "DC201\n",
       "0    11428\n",
       "1      562\n",
       "Name: count, dtype: int64"
      ]
     },
     "execution_count": 15,
     "metadata": {},
     "output_type": "execute_result"
    }
   ],
   "source": [
    "submission['DC201'].value_counts()"
   ]
  },
  {
   "cell_type": "code",
   "execution_count": 18,
   "metadata": {},
   "outputs": [
    {
     "data": {
      "text/plain": [
       "DC201\n",
       "0    11405\n",
       "1      585\n",
       "Name: count, dtype: int64"
      ]
     },
     "execution_count": 18,
     "metadata": {},
     "output_type": "execute_result"
    }
   ],
   "source": [
    "# submit terbaik dengan data selected\n",
    "submission['DC201'].value_counts()"
   ]
  },
  {
   "cell_type": "code",
   "execution_count": 9,
   "metadata": {},
   "outputs": [
    {
     "data": {
      "text/html": [
       "<div>\n",
       "<style scoped>\n",
       "    .dataframe tbody tr th:only-of-type {\n",
       "        vertical-align: middle;\n",
       "    }\n",
       "\n",
       "    .dataframe tbody tr th {\n",
       "        vertical-align: top;\n",
       "    }\n",
       "\n",
       "    .dataframe thead th {\n",
       "        text-align: right;\n",
       "    }\n",
       "</style>\n",
       "<table border=\"1\" class=\"dataframe\">\n",
       "  <thead>\n",
       "    <tr style=\"text-align: right;\">\n",
       "      <th></th>\n",
       "      <th>id</th>\n",
       "      <th>DC201</th>\n",
       "    </tr>\n",
       "  </thead>\n",
       "  <tbody>\n",
       "    <tr>\n",
       "      <th>0</th>\n",
       "      <td>26718</td>\n",
       "      <td>Layak Minum</td>\n",
       "    </tr>\n",
       "    <tr>\n",
       "      <th>1</th>\n",
       "      <td>26802</td>\n",
       "      <td>Layak Minum</td>\n",
       "    </tr>\n",
       "    <tr>\n",
       "      <th>2</th>\n",
       "      <td>41302</td>\n",
       "      <td>Layak Minum</td>\n",
       "    </tr>\n",
       "    <tr>\n",
       "      <th>3</th>\n",
       "      <td>38698</td>\n",
       "      <td>Layak Minum</td>\n",
       "    </tr>\n",
       "    <tr>\n",
       "      <th>4</th>\n",
       "      <td>44257</td>\n",
       "      <td>Layak Minum</td>\n",
       "    </tr>\n",
       "    <tr>\n",
       "      <th>...</th>\n",
       "      <td>...</td>\n",
       "      <td>...</td>\n",
       "    </tr>\n",
       "    <tr>\n",
       "      <th>11985</th>\n",
       "      <td>36943</td>\n",
       "      <td>Layak Minum</td>\n",
       "    </tr>\n",
       "    <tr>\n",
       "      <th>11986</th>\n",
       "      <td>33415</td>\n",
       "      <td>Layak Minum</td>\n",
       "    </tr>\n",
       "    <tr>\n",
       "      <th>11987</th>\n",
       "      <td>41998</td>\n",
       "      <td>Layak Minum</td>\n",
       "    </tr>\n",
       "    <tr>\n",
       "      <th>11988</th>\n",
       "      <td>41567</td>\n",
       "      <td>Layak Minum</td>\n",
       "    </tr>\n",
       "    <tr>\n",
       "      <th>11989</th>\n",
       "      <td>45296</td>\n",
       "      <td>Layak Minum</td>\n",
       "    </tr>\n",
       "  </tbody>\n",
       "</table>\n",
       "<p>11990 rows × 2 columns</p>\n",
       "</div>"
      ],
      "text/plain": [
       "          id        DC201\n",
       "0      26718  Layak Minum\n",
       "1      26802  Layak Minum\n",
       "2      41302  Layak Minum\n",
       "3      38698  Layak Minum\n",
       "4      44257  Layak Minum\n",
       "...      ...          ...\n",
       "11985  36943  Layak Minum\n",
       "11986  33415  Layak Minum\n",
       "11987  41998  Layak Minum\n",
       "11988  41567  Layak Minum\n",
       "11989  45296  Layak Minum\n",
       "\n",
       "[11990 rows x 2 columns]"
      ]
     },
     "execution_count": 9,
     "metadata": {},
     "output_type": "execute_result"
    }
   ],
   "source": [
    "submission['DC201']=submission['DC201'].apply(lambda x:'Layak Minum' if x==0 else 'Tidak Layak Minum')\n",
    "submission"
   ]
  },
  {
   "attachments": {},
   "cell_type": "markdown",
   "metadata": {},
   "source": [
    "## hasil terbaik"
   ]
  },
  {
   "cell_type": "code",
   "execution_count": 10,
   "metadata": {},
   "outputs": [
    {
     "data": {
      "text/plain": [
       "DC201\n",
       "Layak Minum          11427\n",
       "Tidak Layak Minum      563\n",
       "Name: count, dtype: int64"
      ]
     },
     "execution_count": 10,
     "metadata": {},
     "output_type": "execute_result"
    }
   ],
   "source": [
    "submission['DC201'].value_counts()"
   ]
  },
  {
   "cell_type": "code",
   "execution_count": 11,
   "metadata": {},
   "outputs": [],
   "source": [
    "submission.to_csv('Submission_5.csv',index=False)"
   ]
  },
  {
   "cell_type": "code",
   "execution_count": 16,
   "metadata": {},
   "outputs": [
    {
     "data": {
      "text/plain": [
       "DC201\n",
       "0    11418\n",
       "1      572\n",
       "Name: count, dtype: int64"
      ]
     },
     "execution_count": 16,
     "metadata": {},
     "output_type": "execute_result"
    }
   ],
   "source": [
    "sub=pd.read_csv('../Submission/Submission_4.csv')\n",
    "sub['DC201'].value_counts()"
   ]
  }
 ],
 "metadata": {
  "kernelspec": {
   "display_name": "Python 3",
   "language": "python",
   "name": "python3"
  },
  "language_info": {
   "codemirror_mode": {
    "name": "ipython",
    "version": 3
   },
   "file_extension": ".py",
   "mimetype": "text/x-python",
   "name": "python",
   "nbconvert_exporter": "python",
   "pygments_lexer": "ipython3",
   "version": "3.8.0"
  },
  "orig_nbformat": 4
 },
 "nbformat": 4,
 "nbformat_minor": 2
}
