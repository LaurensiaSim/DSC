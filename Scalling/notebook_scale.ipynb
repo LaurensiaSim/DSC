{
 "cells": [
  {
   "attachments": {},
   "cell_type": "markdown",
   "metadata": {},
   "source": [
    "## 1. Import all needed Libraries/Module"
   ]
  },
  {
   "cell_type": "code",
   "execution_count": 42,
   "metadata": {},
   "outputs": [],
   "source": [
    "import pandas as pd\n",
    "from matplotlib import pyplot as plt\n",
    "import seaborn as sns\n",
    "import numpy"
   ]
  },
  {
   "attachments": {},
   "cell_type": "markdown",
   "metadata": {},
   "source": [
    "## 2. Read data, and then do some explanatory data analysis"
   ]
  },
  {
   "cell_type": "code",
   "execution_count": 47,
   "metadata": {},
   "outputs": [
    {
     "data": {
      "text/html": [
       "<div>\n",
       "<style scoped>\n",
       "    .dataframe tbody tr th:only-of-type {\n",
       "        vertical-align: middle;\n",
       "    }\n",
       "\n",
       "    .dataframe tbody tr th {\n",
       "        vertical-align: top;\n",
       "    }\n",
       "\n",
       "    .dataframe thead th {\n",
       "        text-align: right;\n",
       "    }\n",
       "</style>\n",
       "<table border=\"1\" class=\"dataframe\">\n",
       "  <thead>\n",
       "    <tr style=\"text-align: right;\">\n",
       "      <th></th>\n",
       "      <th>DC024</th>\n",
       "      <th>DC025</th>\n",
       "      <th>DC205</th>\n",
       "      <th>DC220</th>\n",
       "      <th>DC226</th>\n",
       "      <th>DC230a</th>\n",
       "      <th>DC237</th>\n",
       "      <th>DC237a</th>\n",
       "      <th>DC237b</th>\n",
       "      <th>DC237f</th>\n",
       "      <th>DC241</th>\n",
       "      <th>DC244</th>\n",
       "      <th>DC246</th>\n",
       "      <th>DC109</th>\n",
       "      <th>DC201</th>\n",
       "    </tr>\n",
       "  </thead>\n",
       "  <tbody>\n",
       "    <tr>\n",
       "      <th>0</th>\n",
       "      <td>-1.322809</td>\n",
       "      <td>0.804467</td>\n",
       "      <td>-0.105158</td>\n",
       "      <td>2.434765</td>\n",
       "      <td>0.319398</td>\n",
       "      <td>-0.456516</td>\n",
       "      <td>0.512539</td>\n",
       "      <td>0.553102</td>\n",
       "      <td>-0.061283</td>\n",
       "      <td>-0.464013</td>\n",
       "      <td>-0.356393</td>\n",
       "      <td>-0.814230</td>\n",
       "      <td>-0.816532</td>\n",
       "      <td>-0.553274</td>\n",
       "      <td>0</td>\n",
       "    </tr>\n",
       "    <tr>\n",
       "      <th>1</th>\n",
       "      <td>-1.322809</td>\n",
       "      <td>0.804467</td>\n",
       "      <td>1.959367</td>\n",
       "      <td>-0.342153</td>\n",
       "      <td>-0.373110</td>\n",
       "      <td>-0.456516</td>\n",
       "      <td>0.512539</td>\n",
       "      <td>0.553102</td>\n",
       "      <td>-0.061283</td>\n",
       "      <td>-0.464013</td>\n",
       "      <td>-0.356393</td>\n",
       "      <td>1.228154</td>\n",
       "      <td>1.224692</td>\n",
       "      <td>1.109705</td>\n",
       "      <td>0</td>\n",
       "    </tr>\n",
       "    <tr>\n",
       "      <th>2</th>\n",
       "      <td>-1.322809</td>\n",
       "      <td>0.804467</td>\n",
       "      <td>-0.655698</td>\n",
       "      <td>-1.036383</td>\n",
       "      <td>-0.373110</td>\n",
       "      <td>-0.456516</td>\n",
       "      <td>0.512539</td>\n",
       "      <td>0.553102</td>\n",
       "      <td>-0.061283</td>\n",
       "      <td>-0.464013</td>\n",
       "      <td>-0.356393</td>\n",
       "      <td>1.228154</td>\n",
       "      <td>1.224692</td>\n",
       "      <td>-0.640799</td>\n",
       "      <td>0</td>\n",
       "    </tr>\n",
       "    <tr>\n",
       "      <th>3</th>\n",
       "      <td>-1.322809</td>\n",
       "      <td>0.804467</td>\n",
       "      <td>-0.655698</td>\n",
       "      <td>2.357628</td>\n",
       "      <td>0.319398</td>\n",
       "      <td>-0.456516</td>\n",
       "      <td>0.512539</td>\n",
       "      <td>0.553102</td>\n",
       "      <td>-0.061283</td>\n",
       "      <td>-0.464013</td>\n",
       "      <td>2.132331</td>\n",
       "      <td>1.228154</td>\n",
       "      <td>-0.816532</td>\n",
       "      <td>-0.640799</td>\n",
       "      <td>0</td>\n",
       "    </tr>\n",
       "    <tr>\n",
       "      <th>4</th>\n",
       "      <td>-1.322809</td>\n",
       "      <td>0.804467</td>\n",
       "      <td>-0.655698</td>\n",
       "      <td>-0.882110</td>\n",
       "      <td>0.319398</td>\n",
       "      <td>1.064267</td>\n",
       "      <td>0.512539</td>\n",
       "      <td>0.553102</td>\n",
       "      <td>-0.061283</td>\n",
       "      <td>-0.464013</td>\n",
       "      <td>-0.356393</td>\n",
       "      <td>-0.814230</td>\n",
       "      <td>1.224692</td>\n",
       "      <td>-0.640799</td>\n",
       "      <td>0</td>\n",
       "    </tr>\n",
       "    <tr>\n",
       "      <th>...</th>\n",
       "      <td>...</td>\n",
       "      <td>...</td>\n",
       "      <td>...</td>\n",
       "      <td>...</td>\n",
       "      <td>...</td>\n",
       "      <td>...</td>\n",
       "      <td>...</td>\n",
       "      <td>...</td>\n",
       "      <td>...</td>\n",
       "      <td>...</td>\n",
       "      <td>...</td>\n",
       "      <td>...</td>\n",
       "      <td>...</td>\n",
       "      <td>...</td>\n",
       "      <td>...</td>\n",
       "    </tr>\n",
       "    <tr>\n",
       "      <th>64791</th>\n",
       "      <td>1.324220</td>\n",
       "      <td>0.804467</td>\n",
       "      <td>1.546462</td>\n",
       "      <td>1.586262</td>\n",
       "      <td>0.319398</td>\n",
       "      <td>1.064267</td>\n",
       "      <td>0.512539</td>\n",
       "      <td>0.553102</td>\n",
       "      <td>-0.061283</td>\n",
       "      <td>1.993716</td>\n",
       "      <td>-0.356393</td>\n",
       "      <td>1.228154</td>\n",
       "      <td>1.224692</td>\n",
       "      <td>0.934655</td>\n",
       "      <td>1</td>\n",
       "    </tr>\n",
       "    <tr>\n",
       "      <th>64792</th>\n",
       "      <td>1.120602</td>\n",
       "      <td>0.804467</td>\n",
       "      <td>-0.105158</td>\n",
       "      <td>-0.187880</td>\n",
       "      <td>-0.026856</td>\n",
       "      <td>-0.456516</td>\n",
       "      <td>0.512539</td>\n",
       "      <td>0.553102</td>\n",
       "      <td>-0.061283</td>\n",
       "      <td>-0.464013</td>\n",
       "      <td>-0.356393</td>\n",
       "      <td>-0.814230</td>\n",
       "      <td>-0.816532</td>\n",
       "      <td>-0.203173</td>\n",
       "      <td>1</td>\n",
       "    </tr>\n",
       "    <tr>\n",
       "      <th>64793</th>\n",
       "      <td>0.835538</td>\n",
       "      <td>0.804467</td>\n",
       "      <td>-0.518063</td>\n",
       "      <td>-0.650700</td>\n",
       "      <td>-0.373110</td>\n",
       "      <td>1.064267</td>\n",
       "      <td>0.512539</td>\n",
       "      <td>0.553102</td>\n",
       "      <td>-0.061283</td>\n",
       "      <td>-0.464013</td>\n",
       "      <td>-0.356393</td>\n",
       "      <td>1.228154</td>\n",
       "      <td>1.224692</td>\n",
       "      <td>-0.378223</td>\n",
       "      <td>1</td>\n",
       "    </tr>\n",
       "    <tr>\n",
       "      <th>64794</th>\n",
       "      <td>-1.037744</td>\n",
       "      <td>0.804467</td>\n",
       "      <td>-0.105158</td>\n",
       "      <td>0.892033</td>\n",
       "      <td>0.319398</td>\n",
       "      <td>1.064267</td>\n",
       "      <td>0.512539</td>\n",
       "      <td>0.553102</td>\n",
       "      <td>-0.061283</td>\n",
       "      <td>-0.464013</td>\n",
       "      <td>-0.356393</td>\n",
       "      <td>-0.814230</td>\n",
       "      <td>-0.816532</td>\n",
       "      <td>0.146928</td>\n",
       "      <td>1</td>\n",
       "    </tr>\n",
       "    <tr>\n",
       "      <th>64795</th>\n",
       "      <td>-1.241362</td>\n",
       "      <td>0.804467</td>\n",
       "      <td>-0.655698</td>\n",
       "      <td>0.043530</td>\n",
       "      <td>0.319398</td>\n",
       "      <td>-0.456516</td>\n",
       "      <td>0.512539</td>\n",
       "      <td>0.553102</td>\n",
       "      <td>-0.061283</td>\n",
       "      <td>-0.464013</td>\n",
       "      <td>2.132331</td>\n",
       "      <td>-0.814230</td>\n",
       "      <td>-0.816532</td>\n",
       "      <td>-0.640799</td>\n",
       "      <td>1</td>\n",
       "    </tr>\n",
       "  </tbody>\n",
       "</table>\n",
       "<p>64796 rows × 15 columns</p>\n",
       "</div>"
      ],
      "text/plain": [
       "          DC024     DC025     DC205     DC220     DC226    DC230a     DC237   \n",
       "0     -1.322809  0.804467 -0.105158  2.434765  0.319398 -0.456516  0.512539  \\\n",
       "1     -1.322809  0.804467  1.959367 -0.342153 -0.373110 -0.456516  0.512539   \n",
       "2     -1.322809  0.804467 -0.655698 -1.036383 -0.373110 -0.456516  0.512539   \n",
       "3     -1.322809  0.804467 -0.655698  2.357628  0.319398 -0.456516  0.512539   \n",
       "4     -1.322809  0.804467 -0.655698 -0.882110  0.319398  1.064267  0.512539   \n",
       "...         ...       ...       ...       ...       ...       ...       ...   \n",
       "64791  1.324220  0.804467  1.546462  1.586262  0.319398  1.064267  0.512539   \n",
       "64792  1.120602  0.804467 -0.105158 -0.187880 -0.026856 -0.456516  0.512539   \n",
       "64793  0.835538  0.804467 -0.518063 -0.650700 -0.373110  1.064267  0.512539   \n",
       "64794 -1.037744  0.804467 -0.105158  0.892033  0.319398  1.064267  0.512539   \n",
       "64795 -1.241362  0.804467 -0.655698  0.043530  0.319398 -0.456516  0.512539   \n",
       "\n",
       "         DC237a    DC237b    DC237f     DC241     DC244     DC246     DC109   \n",
       "0      0.553102 -0.061283 -0.464013 -0.356393 -0.814230 -0.816532 -0.553274  \\\n",
       "1      0.553102 -0.061283 -0.464013 -0.356393  1.228154  1.224692  1.109705   \n",
       "2      0.553102 -0.061283 -0.464013 -0.356393  1.228154  1.224692 -0.640799   \n",
       "3      0.553102 -0.061283 -0.464013  2.132331  1.228154 -0.816532 -0.640799   \n",
       "4      0.553102 -0.061283 -0.464013 -0.356393 -0.814230  1.224692 -0.640799   \n",
       "...         ...       ...       ...       ...       ...       ...       ...   \n",
       "64791  0.553102 -0.061283  1.993716 -0.356393  1.228154  1.224692  0.934655   \n",
       "64792  0.553102 -0.061283 -0.464013 -0.356393 -0.814230 -0.816532 -0.203173   \n",
       "64793  0.553102 -0.061283 -0.464013 -0.356393  1.228154  1.224692 -0.378223   \n",
       "64794  0.553102 -0.061283 -0.464013 -0.356393 -0.814230 -0.816532  0.146928   \n",
       "64795  0.553102 -0.061283 -0.464013  2.132331 -0.814230 -0.816532 -0.640799   \n",
       "\n",
       "       DC201  \n",
       "0          0  \n",
       "1          0  \n",
       "2          0  \n",
       "3          0  \n",
       "4          0  \n",
       "...      ...  \n",
       "64791      1  \n",
       "64792      1  \n",
       "64793      1  \n",
       "64794      1  \n",
       "64795      1  \n",
       "\n",
       "[64796 rows x 15 columns]"
      ]
     },
     "execution_count": 47,
     "metadata": {},
     "output_type": "execute_result"
    }
   ],
   "source": [
    "data=pd.read_csv('train_selected_scaled_round.csv',header=0,index_col=0)\n",
    "data"
   ]
  },
  {
   "cell_type": "code",
   "execution_count": 48,
   "metadata": {},
   "outputs": [
    {
     "name": "stdout",
     "output_type": "stream",
     "text": [
      "<class 'pandas.core.frame.DataFrame'>\n",
      "Index: 64796 entries, 0 to 64795\n",
      "Data columns (total 15 columns):\n",
      " #   Column  Non-Null Count  Dtype  \n",
      "---  ------  --------------  -----  \n",
      " 0   DC024   64796 non-null  float64\n",
      " 1   DC025   64796 non-null  float64\n",
      " 2   DC205   64796 non-null  float64\n",
      " 3   DC220   64796 non-null  float64\n",
      " 4   DC226   64796 non-null  float64\n",
      " 5   DC230a  64796 non-null  float64\n",
      " 6   DC237   64796 non-null  float64\n",
      " 7   DC237a  64796 non-null  float64\n",
      " 8   DC237b  64796 non-null  float64\n",
      " 9   DC237f  64796 non-null  float64\n",
      " 10  DC241   64796 non-null  float64\n",
      " 11  DC244   64796 non-null  float64\n",
      " 12  DC246   64796 non-null  float64\n",
      " 13  DC109   64796 non-null  float64\n",
      " 14  DC201   64796 non-null  int64  \n",
      "dtypes: float64(14), int64(1)\n",
      "memory usage: 7.9 MB\n"
     ]
    }
   ],
   "source": [
    "# gather information about data attribute\n",
    "data.info()"
   ]
  },
  {
   "attachments": {},
   "cell_type": "markdown",
   "metadata": {},
   "source": [
    "Dari data di atas, dapat dilihat bahwa semua data bertipe data flloat/integer, dan label bertipe data string."
   ]
  },
  {
   "attachments": {},
   "cell_type": "markdown",
   "metadata": {},
   "source": [
    "## Cari informasi apakah ada data yang bernilai null/kosong"
   ]
  },
  {
   "cell_type": "code",
   "execution_count": 49,
   "metadata": {},
   "outputs": [
    {
     "data": {
      "text/plain": [
       "DC024     0\n",
       "DC025     0\n",
       "DC205     0\n",
       "DC220     0\n",
       "DC226     0\n",
       "DC230a    0\n",
       "DC237     0\n",
       "DC237a    0\n",
       "DC237b    0\n",
       "DC237f    0\n",
       "DC241     0\n",
       "DC244     0\n",
       "DC246     0\n",
       "DC109     0\n",
       "DC201     0\n",
       "dtype: int64"
      ]
     },
     "execution_count": 49,
     "metadata": {},
     "output_type": "execute_result"
    }
   ],
   "source": [
    "data.isnull().sum()"
   ]
  },
  {
   "cell_type": "code",
   "execution_count": 50,
   "metadata": {},
   "outputs": [
    {
     "data": {
      "text/plain": [
       "DC201\n",
       "0    32398\n",
       "1    32398\n",
       "Name: count, dtype: int64"
      ]
     },
     "execution_count": 50,
     "metadata": {},
     "output_type": "execute_result"
    }
   ],
   "source": [
    "data['DC201'].value_counts()"
   ]
  },
  {
   "cell_type": "code",
   "execution_count": 51,
   "metadata": {},
   "outputs": [
    {
     "data": {
      "text/plain": [
       "(45357, 14)"
      ]
     },
     "execution_count": 51,
     "metadata": {},
     "output_type": "execute_result"
    }
   ],
   "source": [
    "#Split dataset menjadi training dan testing\n",
    "from sklearn.model_selection import train_test_split\n",
    "\n",
    "x_train,x_test,y_train,y_test=train_test_split(data.drop('DC201',axis=1),data['DC201'],test_size=0.3)\n",
    "input_shape=(x_train.shape)\n",
    "input_shape"
   ]
  },
  {
   "cell_type": "code",
   "execution_count": 7,
   "metadata": {},
   "outputs": [],
   "source": [
    "from keras import backend as K\n",
    "\n",
    "def recall_m(y_true, y_pred):\n",
    "    true_positives = K.sum(K.round(K.clip(y_true * y_pred, 0, 1)))\n",
    "    possible_positives = K.sum(K.round(K.clip(y_true, 0, 1)))\n",
    "    recall = true_positives / (possible_positives + K.epsilon())\n",
    "    return recall\n",
    "\n",
    "def precision_m(y_true, y_pred):\n",
    "    true_positives = K.sum(K.round(K.clip(y_true * y_pred, 0, 1)))\n",
    "    predicted_positives = K.sum(K.round(K.clip(y_pred, 0, 1)))\n",
    "    precision = true_positives / (predicted_positives + K.epsilon())\n",
    "    return precision\n",
    "\n",
    "def f1_m(y_true, y_pred):\n",
    "    precision = precision_m(y_true, y_pred)\n",
    "    recall = recall_m(y_true, y_pred)\n",
    "    return 2*((precision*recall)/(precision+recall+K.epsilon()))"
   ]
  },
  {
   "attachments": {},
   "cell_type": "markdown",
   "metadata": {},
   "source": [
    "### Create Model"
   ]
  },
  {
   "attachments": {},
   "cell_type": "markdown",
   "metadata": {},
   "source": [
    "### Deep Learning model"
   ]
  },
  {
   "cell_type": "code",
   "execution_count": 15,
   "metadata": {},
   "outputs": [
    {
     "ename": "ValueError",
     "evalue": "`input_shape` must be a tuple of three integers.",
     "output_type": "error",
     "traceback": [
      "\u001b[1;31m---------------------------------------------------------------------------\u001b[0m",
      "\u001b[1;31mValueError\u001b[0m                                Traceback (most recent call last)",
      "Cell \u001b[1;32mIn[15], line 3\u001b[0m\n\u001b[0;32m      1\u001b[0m \u001b[39mimport\u001b[39;00m \u001b[39mtensorflow\u001b[39;00m \u001b[39mas\u001b[39;00m \u001b[39mtf\u001b[39;00m\n\u001b[0;32m      2\u001b[0m \u001b[39mfrom\u001b[39;00m \u001b[39mtensorflow\u001b[39;00m \u001b[39mimport\u001b[39;00m keras\n\u001b[1;32m----> 3\u001b[0m pretrained_model \u001b[39m=\u001b[39m keras\u001b[39m.\u001b[39;49mapplications\u001b[39m.\u001b[39;49mDenseNet121(weights\u001b[39m=\u001b[39;49m\u001b[39m'\u001b[39;49m\u001b[39mimagenet\u001b[39;49m\u001b[39m'\u001b[39;49m, include_top\u001b[39m=\u001b[39;49m\u001b[39mFalse\u001b[39;49;00m, input_shape\u001b[39m=\u001b[39;49m(\u001b[39m19\u001b[39;49m, \u001b[39m1\u001b[39;49m))\n\u001b[0;32m      4\u001b[0m \u001b[39m# Membekukan semua lapisan pada model yang dilatih\u001b[39;00m\n\u001b[0;32m      5\u001b[0m \u001b[39mfor\u001b[39;00m layer \u001b[39min\u001b[39;00m pretrained_model\u001b[39m.\u001b[39mlayers:\n",
      "File \u001b[1;32mc:\\Users\\ASUS\\AppData\\Local\\Programs\\Python\\Python38\\lib\\site-packages\\keras\\applications\\densenet.py:333\u001b[0m, in \u001b[0;36mDenseNet121\u001b[1;34m(include_top, weights, input_tensor, input_shape, pooling, classes)\u001b[0m\n\u001b[0;32m    324\u001b[0m \u001b[39m@keras_export\u001b[39m(\u001b[39m'\u001b[39m\u001b[39mkeras.applications.densenet.DenseNet121\u001b[39m\u001b[39m'\u001b[39m,\n\u001b[0;32m    325\u001b[0m               \u001b[39m'\u001b[39m\u001b[39mkeras.applications.DenseNet121\u001b[39m\u001b[39m'\u001b[39m)\n\u001b[0;32m    326\u001b[0m \u001b[39mdef\u001b[39;00m \u001b[39mDenseNet121\u001b[39m(include_top\u001b[39m=\u001b[39m\u001b[39mTrue\u001b[39;00m,\n\u001b[1;32m   (...)\u001b[0m\n\u001b[0;32m    330\u001b[0m                 pooling\u001b[39m=\u001b[39m\u001b[39mNone\u001b[39;00m,\n\u001b[0;32m    331\u001b[0m                 classes\u001b[39m=\u001b[39m\u001b[39m1000\u001b[39m):\n\u001b[0;32m    332\u001b[0m \u001b[39m  \u001b[39m\u001b[39m\"\"\"Instantiates the Densenet121 architecture.\"\"\"\u001b[39;00m\n\u001b[1;32m--> 333\u001b[0m   \u001b[39mreturn\u001b[39;00m DenseNet([\u001b[39m6\u001b[39;49m, \u001b[39m12\u001b[39;49m, \u001b[39m24\u001b[39;49m, \u001b[39m16\u001b[39;49m], include_top, weights, input_tensor,\n\u001b[0;32m    334\u001b[0m                   input_shape, pooling, classes)\n",
      "File \u001b[1;32mc:\\Users\\ASUS\\AppData\\Local\\Programs\\Python\\Python38\\lib\\site-packages\\keras\\applications\\densenet.py:210\u001b[0m, in \u001b[0;36mDenseNet\u001b[1;34m(blocks, include_top, weights, input_tensor, input_shape, pooling, classes, classifier_activation)\u001b[0m\n\u001b[0;32m    206\u001b[0m   \u001b[39mraise\u001b[39;00m \u001b[39mValueError\u001b[39;00m(\u001b[39m'\u001b[39m\u001b[39mIf using `weights` as `\u001b[39m\u001b[39m\"\u001b[39m\u001b[39mimagenet\u001b[39m\u001b[39m\"\u001b[39m\u001b[39m` with `include_top`\u001b[39m\u001b[39m'\u001b[39m\n\u001b[0;32m    207\u001b[0m                    \u001b[39m'\u001b[39m\u001b[39m as true, `classes` should be 1000\u001b[39m\u001b[39m'\u001b[39m)\n\u001b[0;32m    209\u001b[0m \u001b[39m# Determine proper input shape\u001b[39;00m\n\u001b[1;32m--> 210\u001b[0m input_shape \u001b[39m=\u001b[39m imagenet_utils\u001b[39m.\u001b[39;49mobtain_input_shape(\n\u001b[0;32m    211\u001b[0m     input_shape,\n\u001b[0;32m    212\u001b[0m     default_size\u001b[39m=\u001b[39;49m\u001b[39m224\u001b[39;49m,\n\u001b[0;32m    213\u001b[0m     min_size\u001b[39m=\u001b[39;49m\u001b[39m32\u001b[39;49m,\n\u001b[0;32m    214\u001b[0m     data_format\u001b[39m=\u001b[39;49mbackend\u001b[39m.\u001b[39;49mimage_data_format(),\n\u001b[0;32m    215\u001b[0m     require_flatten\u001b[39m=\u001b[39;49minclude_top,\n\u001b[0;32m    216\u001b[0m     weights\u001b[39m=\u001b[39;49mweights)\n\u001b[0;32m    218\u001b[0m \u001b[39mif\u001b[39;00m input_tensor \u001b[39mis\u001b[39;00m \u001b[39mNone\u001b[39;00m:\n\u001b[0;32m    219\u001b[0m   img_input \u001b[39m=\u001b[39m layers\u001b[39m.\u001b[39mInput(shape\u001b[39m=\u001b[39minput_shape)\n",
      "File \u001b[1;32mc:\\Users\\ASUS\\AppData\\Local\\Programs\\Python\\Python38\\lib\\site-packages\\keras\\applications\\imagenet_utils.py:370\u001b[0m, in \u001b[0;36mobtain_input_shape\u001b[1;34m(input_shape, default_size, min_size, data_format, require_flatten, weights)\u001b[0m\n\u001b[0;32m    368\u001b[0m \u001b[39mif\u001b[39;00m input_shape \u001b[39mis\u001b[39;00m \u001b[39mnot\u001b[39;00m \u001b[39mNone\u001b[39;00m:\n\u001b[0;32m    369\u001b[0m   \u001b[39mif\u001b[39;00m \u001b[39mlen\u001b[39m(input_shape) \u001b[39m!=\u001b[39m \u001b[39m3\u001b[39m:\n\u001b[1;32m--> 370\u001b[0m     \u001b[39mraise\u001b[39;00m \u001b[39mValueError\u001b[39;00m(\u001b[39m'\u001b[39m\u001b[39m`input_shape` must be a tuple of three integers.\u001b[39m\u001b[39m'\u001b[39m)\n\u001b[0;32m    371\u001b[0m   \u001b[39mif\u001b[39;00m input_shape[\u001b[39m-\u001b[39m\u001b[39m1\u001b[39m] \u001b[39m!=\u001b[39m \u001b[39m3\u001b[39m \u001b[39mand\u001b[39;00m weights \u001b[39m==\u001b[39m \u001b[39m'\u001b[39m\u001b[39mimagenet\u001b[39m\u001b[39m'\u001b[39m:\n\u001b[0;32m    372\u001b[0m     \u001b[39mraise\u001b[39;00m \u001b[39mValueError\u001b[39;00m(\u001b[39m'\u001b[39m\u001b[39mThe input must have 3 channels; Received \u001b[39m\u001b[39m'\u001b[39m\n\u001b[0;32m    373\u001b[0m                      \u001b[39mf\u001b[39m\u001b[39m'\u001b[39m\u001b[39m`input_shape=\u001b[39m\u001b[39m{\u001b[39;00minput_shape\u001b[39m}\u001b[39;00m\u001b[39m`\u001b[39m\u001b[39m'\u001b[39m)\n",
      "\u001b[1;31mValueError\u001b[0m: `input_shape` must be a tuple of three integers."
     ]
    }
   ],
   "source": [
    "import tensorflow as tf\n",
    "from tensorflow import keras\n",
    "pretrained_model = keras.applications.DenseNet121(weights='imagenet', include_top=False, input_shape=(19, 1))\n",
    "# Membekukan semua lapisan pada model yang dilatih\n",
    "for layer in pretrained_model.layers:\n",
    "    layer.trainable = False\n",
    "model = keras.Sequential([\n",
    "    pretrained_model,\n",
    "    keras.layers.Flatten(),\n",
    "    keras.layers.Dense(128, activation='relu'),\n",
    "    keras.layers.Dense(1, activation='sigmoid')\n",
    "])\n",
    "\n",
    "# Kompilasi model dengan optimizer, loss function, dan metrics\n",
    "model.compile(optimizer='adam',\n",
    "              loss='binary_crossentropy',\n",
    "              metrics=['accuracy'])\n",
    "model.summary()"
   ]
  },
  {
   "cell_type": "code",
   "execution_count": 9,
   "metadata": {},
   "outputs": [
    {
     "name": "stdout",
     "output_type": "stream",
     "text": [
      "Model: \"sequential\"\n",
      "_________________________________________________________________\n",
      " Layer (type)                Output Shape              Param #   \n",
      "=================================================================\n",
      " conv1d (Conv1D)             (None, 36, 32)            128       \n",
      "                                                                 \n",
      " conv1d_1 (Conv1D)           (None, 34, 32)            3104      \n",
      "                                                                 \n",
      " conv1d_2 (Conv1D)           (None, 32, 32)            3104      \n",
      "                                                                 \n",
      " dropout (Dropout)           (None, 32, 32)            0         \n",
      "                                                                 \n",
      " max_pooling1d (MaxPooling1D  (None, 16, 32)           0         \n",
      " )                                                               \n",
      "                                                                 \n",
      " flatten (Flatten)           (None, 512)               0         \n",
      "                                                                 \n",
      " dense (Dense)               (None, 512)               262656    \n",
      "                                                                 \n",
      " dense_1 (Dense)             (None, 100)               51300     \n",
      "                                                                 \n",
      " dense_2 (Dense)             (None, 1)                 101       \n",
      "                                                                 \n",
      "=================================================================\n",
      "Total params: 320,393\n",
      "Trainable params: 320,393\n",
      "Non-trainable params: 0\n",
      "_________________________________________________________________\n",
      "None\n"
     ]
    }
   ],
   "source": [
    "model=tf.keras.models.Sequential([\n",
    "    tf.keras.layers.Conv1D(filters=32,kernel_size=3,input_shape=(38,1),activation='relu'),\n",
    "    tf.keras.layers.Conv1D(filters=32,kernel_size=3,activation='relu'),\n",
    "    tf.keras.layers.Conv1D(filters=32,kernel_size=3,activation='relu'),\n",
    "    tf.keras.layers.Dropout(0.25),\n",
    "    tf.keras.layers.MaxPool1D(2,2),\n",
    "    tf.keras.layers.Flatten(),\n",
    "    tf.keras.layers.Dense(512,activation='relu'),\n",
    "    tf.keras.layers.Dense(100,activation='relu'),\n",
    "    tf.keras.layers.Dense(1,activation='sigmoid')\n",
    "])\n",
    "\n",
    "# Compile the model\n",
    "model.compile(optimizer='adam', loss='binary_crossentropy', metrics=['accuracy',f1_m])\n",
    "\n",
    "# Print the model summary\n",
    "print(model.summary())"
   ]
  },
  {
   "cell_type": "code",
   "execution_count": 11,
   "metadata": {},
   "outputs": [
    {
     "ename": "ValueError",
     "evalue": "One of the dimensions in the output is <= 0 due to downsampling in conv1d_7. Consider increasing the input size. Received input shape [None, 1, 128] which would produce output shape with a zero or negative value in a dimension.",
     "output_type": "error",
     "traceback": [
      "\u001b[1;31m---------------------------------------------------------------------------\u001b[0m",
      "\u001b[1;31mValueError\u001b[0m                                Traceback (most recent call last)",
      "Cell \u001b[1;32mIn[11], line 8\u001b[0m\n\u001b[0;32m      5\u001b[0m input_shape \u001b[39m=\u001b[39m (\u001b[39m11\u001b[39m, \u001b[39m1\u001b[39m)  \u001b[39m# 38 attributes, 1 feature\u001b[39;00m\n\u001b[0;32m      7\u001b[0m \u001b[39m# Define the model architecture\u001b[39;00m\n\u001b[1;32m----> 8\u001b[0m model\u001b[39m=\u001b[39mtf\u001b[39m.\u001b[39;49mkeras\u001b[39m.\u001b[39;49mmodels\u001b[39m.\u001b[39;49mSequential([\n\u001b[0;32m      9\u001b[0m     tf\u001b[39m.\u001b[39;49mkeras\u001b[39m.\u001b[39;49mlayers\u001b[39m.\u001b[39;49mConv1D(filters\u001b[39m=\u001b[39;49m\u001b[39m64\u001b[39;49m,kernel_size\u001b[39m=\u001b[39;49m\u001b[39m3\u001b[39;49m,input_shape\u001b[39m=\u001b[39;49m(\u001b[39m19\u001b[39;49m,\u001b[39m1\u001b[39;49m),activation\u001b[39m=\u001b[39;49m\u001b[39m'\u001b[39;49m\u001b[39mrelu\u001b[39;49m\u001b[39m'\u001b[39;49m),\n\u001b[0;32m     10\u001b[0m     tf\u001b[39m.\u001b[39;49mkeras\u001b[39m.\u001b[39;49mlayers\u001b[39m.\u001b[39;49mConv1D(filters\u001b[39m=\u001b[39;49m\u001b[39m64\u001b[39;49m,kernel_size\u001b[39m=\u001b[39;49m\u001b[39m3\u001b[39;49m,activation\u001b[39m=\u001b[39;49m\u001b[39m'\u001b[39;49m\u001b[39mrelu\u001b[39;49m\u001b[39m'\u001b[39;49m),\n\u001b[0;32m     11\u001b[0m     tf\u001b[39m.\u001b[39;49mkeras\u001b[39m.\u001b[39;49mlayers\u001b[39m.\u001b[39;49mMaxPool1D(\u001b[39m2\u001b[39;49m,\u001b[39m2\u001b[39;49m),\n\u001b[0;32m     12\u001b[0m     tf\u001b[39m.\u001b[39;49mkeras\u001b[39m.\u001b[39;49mlayers\u001b[39m.\u001b[39;49mDropout(\u001b[39m0.25\u001b[39;49m),\n\u001b[0;32m     13\u001b[0m     tf\u001b[39m.\u001b[39;49mkeras\u001b[39m.\u001b[39;49mlayers\u001b[39m.\u001b[39;49mConv1D(filters\u001b[39m=\u001b[39;49m\u001b[39m128\u001b[39;49m,kernel_size\u001b[39m=\u001b[39;49m\u001b[39m3\u001b[39;49m,activation\u001b[39m=\u001b[39;49m\u001b[39m'\u001b[39;49m\u001b[39mrelu\u001b[39;49m\u001b[39m'\u001b[39;49m),\n\u001b[0;32m     14\u001b[0m     tf\u001b[39m.\u001b[39;49mkeras\u001b[39m.\u001b[39;49mlayers\u001b[39m.\u001b[39;49mConv1D(filters\u001b[39m=\u001b[39;49m\u001b[39m128\u001b[39;49m,kernel_size\u001b[39m=\u001b[39;49m\u001b[39m3\u001b[39;49m,activation\u001b[39m=\u001b[39;49m\u001b[39m'\u001b[39;49m\u001b[39mrelu\u001b[39;49m\u001b[39m'\u001b[39;49m),\n\u001b[0;32m     15\u001b[0m     tf\u001b[39m.\u001b[39;49mkeras\u001b[39m.\u001b[39;49mlayers\u001b[39m.\u001b[39;49mMaxPool1D(\u001b[39m2\u001b[39;49m,\u001b[39m2\u001b[39;49m),\n\u001b[0;32m     16\u001b[0m     tf\u001b[39m.\u001b[39;49mkeras\u001b[39m.\u001b[39;49mlayers\u001b[39m.\u001b[39;49mDropout(\u001b[39m0.25\u001b[39;49m),\n\u001b[0;32m     17\u001b[0m     tf\u001b[39m.\u001b[39;49mkeras\u001b[39m.\u001b[39;49mlayers\u001b[39m.\u001b[39;49mConv1D(filters\u001b[39m=\u001b[39;49m\u001b[39m256\u001b[39;49m,kernel_size\u001b[39m=\u001b[39;49m\u001b[39m3\u001b[39;49m,activation\u001b[39m=\u001b[39;49m\u001b[39m'\u001b[39;49m\u001b[39mrelu\u001b[39;49m\u001b[39m'\u001b[39;49m),\n\u001b[0;32m     18\u001b[0m     tf\u001b[39m.\u001b[39;49mkeras\u001b[39m.\u001b[39;49mlayers\u001b[39m.\u001b[39;49mConv1D(filters\u001b[39m=\u001b[39;49m\u001b[39m256\u001b[39;49m,kernel_size\u001b[39m=\u001b[39;49m\u001b[39m3\u001b[39;49m,activation\u001b[39m=\u001b[39;49m\u001b[39m'\u001b[39;49m\u001b[39mrelu\u001b[39;49m\u001b[39m'\u001b[39;49m),\n\u001b[0;32m     19\u001b[0m     tf\u001b[39m.\u001b[39;49mkeras\u001b[39m.\u001b[39;49mlayers\u001b[39m.\u001b[39;49mMaxPool1D(\u001b[39m2\u001b[39;49m,\u001b[39m2\u001b[39;49m),\n\u001b[0;32m     20\u001b[0m     tf\u001b[39m.\u001b[39;49mkeras\u001b[39m.\u001b[39;49mlayers\u001b[39m.\u001b[39;49mDropout(\u001b[39m0.25\u001b[39;49m),\n\u001b[0;32m     21\u001b[0m     tf\u001b[39m.\u001b[39;49mkeras\u001b[39m.\u001b[39;49mlayers\u001b[39m.\u001b[39;49mFlatten(),\n\u001b[0;32m     22\u001b[0m     tf\u001b[39m.\u001b[39;49mkeras\u001b[39m.\u001b[39;49mlayers\u001b[39m.\u001b[39;49mDense(\u001b[39m512\u001b[39;49m,activation\u001b[39m=\u001b[39;49m\u001b[39m'\u001b[39;49m\u001b[39mrelu\u001b[39;49m\u001b[39m'\u001b[39;49m),\n\u001b[0;32m     23\u001b[0m     tf\u001b[39m.\u001b[39;49mkeras\u001b[39m.\u001b[39;49mlayers\u001b[39m.\u001b[39;49mDropout(\u001b[39m0.5\u001b[39;49m),\n\u001b[0;32m     24\u001b[0m     tf\u001b[39m.\u001b[39;49mkeras\u001b[39m.\u001b[39;49mlayers\u001b[39m.\u001b[39;49mDense(\u001b[39m1\u001b[39;49m,activation\u001b[39m=\u001b[39;49m\u001b[39m'\u001b[39;49m\u001b[39msigmoid\u001b[39;49m\u001b[39m'\u001b[39;49m)])\n\u001b[0;32m     26\u001b[0m \u001b[39m# Compile the model\u001b[39;00m\n\u001b[0;32m     27\u001b[0m model\u001b[39m.\u001b[39mcompile(optimizer\u001b[39m=\u001b[39m\u001b[39m'\u001b[39m\u001b[39madam\u001b[39m\u001b[39m'\u001b[39m, loss\u001b[39m=\u001b[39m\u001b[39m'\u001b[39m\u001b[39mbinary_crossentropy\u001b[39m\u001b[39m'\u001b[39m, metrics\u001b[39m=\u001b[39m[\u001b[39m'\u001b[39m\u001b[39maccuracy\u001b[39m\u001b[39m'\u001b[39m,f1_m])\n",
      "File \u001b[1;32mc:\\Users\\ASUS\\AppData\\Local\\Programs\\Python\\Python38\\lib\\site-packages\\tensorflow\\python\\training\\tracking\\base.py:530\u001b[0m, in \u001b[0;36mno_automatic_dependency_tracking.<locals>._method_wrapper\u001b[1;34m(self, *args, **kwargs)\u001b[0m\n\u001b[0;32m    528\u001b[0m \u001b[39mself\u001b[39m\u001b[39m.\u001b[39m_self_setattr_tracking \u001b[39m=\u001b[39m \u001b[39mFalse\u001b[39;00m  \u001b[39m# pylint: disable=protected-access\u001b[39;00m\n\u001b[0;32m    529\u001b[0m \u001b[39mtry\u001b[39;00m:\n\u001b[1;32m--> 530\u001b[0m   result \u001b[39m=\u001b[39m method(\u001b[39mself\u001b[39;49m, \u001b[39m*\u001b[39;49margs, \u001b[39m*\u001b[39;49m\u001b[39m*\u001b[39;49mkwargs)\n\u001b[0;32m    531\u001b[0m \u001b[39mfinally\u001b[39;00m:\n\u001b[0;32m    532\u001b[0m   \u001b[39mself\u001b[39m\u001b[39m.\u001b[39m_self_setattr_tracking \u001b[39m=\u001b[39m previous_value  \u001b[39m# pylint: disable=protected-access\u001b[39;00m\n",
      "File \u001b[1;32mc:\\Users\\ASUS\\AppData\\Local\\Programs\\Python\\Python38\\lib\\site-packages\\keras\\utils\\traceback_utils.py:67\u001b[0m, in \u001b[0;36mfilter_traceback.<locals>.error_handler\u001b[1;34m(*args, **kwargs)\u001b[0m\n\u001b[0;32m     65\u001b[0m \u001b[39mexcept\u001b[39;00m \u001b[39mException\u001b[39;00m \u001b[39mas\u001b[39;00m e:  \u001b[39m# pylint: disable=broad-except\u001b[39;00m\n\u001b[0;32m     66\u001b[0m   filtered_tb \u001b[39m=\u001b[39m _process_traceback_frames(e\u001b[39m.\u001b[39m__traceback__)\n\u001b[1;32m---> 67\u001b[0m   \u001b[39mraise\u001b[39;00m e\u001b[39m.\u001b[39mwith_traceback(filtered_tb) \u001b[39mfrom\u001b[39;00m \u001b[39mNone\u001b[39;00m\n\u001b[0;32m     68\u001b[0m \u001b[39mfinally\u001b[39;00m:\n\u001b[0;32m     69\u001b[0m   \u001b[39mdel\u001b[39;00m filtered_tb\n",
      "File \u001b[1;32mc:\\Users\\ASUS\\AppData\\Local\\Programs\\Python\\Python38\\lib\\site-packages\\keras\\layers\\convolutional.py:302\u001b[0m, in \u001b[0;36mConv.compute_output_shape\u001b[1;34m(self, input_shape)\u001b[0m\n\u001b[0;32m    297\u001b[0m     \u001b[39mreturn\u001b[39;00m tf\u001b[39m.\u001b[39mTensorShape(\n\u001b[0;32m    298\u001b[0m         input_shape[:batch_rank] \u001b[39m+\u001b[39m [\u001b[39mself\u001b[39m\u001b[39m.\u001b[39mfilters] \u001b[39m+\u001b[39m\n\u001b[0;32m    299\u001b[0m         \u001b[39mself\u001b[39m\u001b[39m.\u001b[39m_spatial_output_shape(input_shape[batch_rank \u001b[39m+\u001b[39m \u001b[39m1\u001b[39m:]))\n\u001b[0;32m    301\u001b[0m \u001b[39mexcept\u001b[39;00m \u001b[39mValueError\u001b[39;00m:\n\u001b[1;32m--> 302\u001b[0m   \u001b[39mraise\u001b[39;00m \u001b[39mValueError\u001b[39;00m(\n\u001b[0;32m    303\u001b[0m       \u001b[39mf\u001b[39m\u001b[39m'\u001b[39m\u001b[39mOne of the dimensions in the output is <= 0 \u001b[39m\u001b[39m'\u001b[39m\n\u001b[0;32m    304\u001b[0m       \u001b[39mf\u001b[39m\u001b[39m'\u001b[39m\u001b[39mdue to downsampling in \u001b[39m\u001b[39m{\u001b[39;00m\u001b[39mself\u001b[39m\u001b[39m.\u001b[39mname\u001b[39m}\u001b[39;00m\u001b[39m. Consider \u001b[39m\u001b[39m'\u001b[39m\n\u001b[0;32m    305\u001b[0m       \u001b[39mf\u001b[39m\u001b[39m'\u001b[39m\u001b[39mincreasing the input size. \u001b[39m\u001b[39m'\u001b[39m\n\u001b[0;32m    306\u001b[0m       \u001b[39mf\u001b[39m\u001b[39m'\u001b[39m\u001b[39mReceived input shape \u001b[39m\u001b[39m{\u001b[39;00minput_shape\u001b[39m}\u001b[39;00m\u001b[39m which would produce \u001b[39m\u001b[39m'\u001b[39m\n\u001b[0;32m    307\u001b[0m       \u001b[39mf\u001b[39m\u001b[39m'\u001b[39m\u001b[39moutput shape with a zero or negative value in a \u001b[39m\u001b[39m'\u001b[39m\n\u001b[0;32m    308\u001b[0m       \u001b[39mf\u001b[39m\u001b[39m'\u001b[39m\u001b[39mdimension.\u001b[39m\u001b[39m'\u001b[39m)\n",
      "\u001b[1;31mValueError\u001b[0m: One of the dimensions in the output is <= 0 due to downsampling in conv1d_7. Consider increasing the input size. Received input shape [None, 1, 128] which would produce output shape with a zero or negative value in a dimension."
     ]
    }
   ],
   "source": [
    "from keras.models import Sequential\n",
    "from keras.layers import Conv1D, MaxPooling1D, Flatten, Dense, Dropout\n",
    "\n",
    "# Define the input shape\n",
    "input_shape = (11, 1)  # 38 attributes, 1 feature\n",
    "\n",
    "# Define the model architecture\n",
    "model=tf.keras.models.Sequential([\n",
    "    tf.keras.layers.Conv1D(filters=64,kernel_size=3,input_shape=(19,1),activation='relu'),\n",
    "    tf.keras.layers.Conv1D(filters=64,kernel_size=3,activation='relu'),\n",
    "    tf.keras.layers.MaxPool1D(2,2),\n",
    "    tf.keras.layers.Dropout(0.25),\n",
    "    tf.keras.layers.Conv1D(filters=128,kernel_size=3,activation='relu'),\n",
    "    tf.keras.layers.Conv1D(filters=128,kernel_size=3,activation='relu'),\n",
    "    tf.keras.layers.MaxPool1D(2,2),\n",
    "    tf.keras.layers.Dropout(0.25),\n",
    "    tf.keras.layers.Conv1D(filters=256,kernel_size=3,activation='relu'),\n",
    "    tf.keras.layers.Conv1D(filters=256,kernel_size=3,activation='relu'),\n",
    "    tf.keras.layers.MaxPool1D(2,2),\n",
    "    tf.keras.layers.Dropout(0.25),\n",
    "    tf.keras.layers.Flatten(),\n",
    "    tf.keras.layers.Dense(512,activation='relu'),\n",
    "    tf.keras.layers.Dropout(0.5),\n",
    "    tf.keras.layers.Dense(1,activation='sigmoid')])\n",
    "\n",
    "# Compile the model\n",
    "model.compile(optimizer='adam', loss='binary_crossentropy', metrics=['accuracy',f1_m])\n",
    "\n",
    "# Print the model summary\n",
    "print(model.summary())\n"
   ]
  },
  {
   "cell_type": "code",
   "execution_count": 10,
   "metadata": {},
   "outputs": [
    {
     "name": "stdout",
     "output_type": "stream",
     "text": [
      "Epoch 1/10\n"
     ]
    },
    {
     "ename": "ValueError",
     "evalue": "in user code:\n\n    File \"c:\\Users\\ASUS\\AppData\\Local\\Programs\\Python\\Python38\\lib\\site-packages\\keras\\engine\\training.py\", line 878, in train_function  *\n        return step_function(self, iterator)\n    File \"c:\\Users\\ASUS\\AppData\\Local\\Programs\\Python\\Python38\\lib\\site-packages\\keras\\engine\\training.py\", line 867, in step_function  **\n        outputs = model.distribute_strategy.run(run_step, args=(data,))\n    File \"c:\\Users\\ASUS\\AppData\\Local\\Programs\\Python\\Python38\\lib\\site-packages\\keras\\engine\\training.py\", line 860, in run_step  **\n        outputs = model.train_step(data)\n    File \"c:\\Users\\ASUS\\AppData\\Local\\Programs\\Python\\Python38\\lib\\site-packages\\keras\\engine\\training.py\", line 808, in train_step\n        y_pred = self(x, training=True)\n    File \"c:\\Users\\ASUS\\AppData\\Local\\Programs\\Python\\Python38\\lib\\site-packages\\keras\\utils\\traceback_utils.py\", line 67, in error_handler\n        raise e.with_traceback(filtered_tb) from None\n    File \"c:\\Users\\ASUS\\AppData\\Local\\Programs\\Python\\Python38\\lib\\site-packages\\keras\\engine\\input_spec.py\", line 263, in assert_input_compatibility\n        raise ValueError(f'Input {input_index} of layer \"{layer_name}\" is '\n\n    ValueError: Input 0 of layer \"sequential\" is incompatible with the layer: expected shape=(None, 38, 1), found shape=(None, 19)\n",
     "output_type": "error",
     "traceback": [
      "\u001b[1;31m---------------------------------------------------------------------------\u001b[0m",
      "\u001b[1;31mValueError\u001b[0m                                Traceback (most recent call last)",
      "Cell \u001b[1;32mIn[10], line 1\u001b[0m\n\u001b[1;32m----> 1\u001b[0m history\u001b[39m=\u001b[39mmodel\u001b[39m.\u001b[39;49mfit(x_train,y_train,epochs\u001b[39m=\u001b[39;49m\u001b[39m10\u001b[39;49m,batch_size\u001b[39m=\u001b[39;49m\u001b[39m32\u001b[39;49m,validation_split\u001b[39m=\u001b[39;49m\u001b[39m0.2\u001b[39;49m)\n",
      "File \u001b[1;32mc:\\Users\\ASUS\\AppData\\Local\\Programs\\Python\\Python38\\lib\\site-packages\\keras\\utils\\traceback_utils.py:67\u001b[0m, in \u001b[0;36mfilter_traceback.<locals>.error_handler\u001b[1;34m(*args, **kwargs)\u001b[0m\n\u001b[0;32m     65\u001b[0m \u001b[39mexcept\u001b[39;00m \u001b[39mException\u001b[39;00m \u001b[39mas\u001b[39;00m e:  \u001b[39m# pylint: disable=broad-except\u001b[39;00m\n\u001b[0;32m     66\u001b[0m   filtered_tb \u001b[39m=\u001b[39m _process_traceback_frames(e\u001b[39m.\u001b[39m__traceback__)\n\u001b[1;32m---> 67\u001b[0m   \u001b[39mraise\u001b[39;00m e\u001b[39m.\u001b[39mwith_traceback(filtered_tb) \u001b[39mfrom\u001b[39;00m \u001b[39mNone\u001b[39;00m\n\u001b[0;32m     68\u001b[0m \u001b[39mfinally\u001b[39;00m:\n\u001b[0;32m     69\u001b[0m   \u001b[39mdel\u001b[39;00m filtered_tb\n",
      "File \u001b[1;32mc:\\Users\\ASUS\\AppData\\Local\\Programs\\Python\\Python38\\lib\\site-packages\\tensorflow\\python\\framework\\func_graph.py:1129\u001b[0m, in \u001b[0;36mfunc_graph_from_py_func.<locals>.autograph_handler\u001b[1;34m(*args, **kwargs)\u001b[0m\n\u001b[0;32m   1127\u001b[0m \u001b[39mexcept\u001b[39;00m \u001b[39mException\u001b[39;00m \u001b[39mas\u001b[39;00m e:  \u001b[39m# pylint:disable=broad-except\u001b[39;00m\n\u001b[0;32m   1128\u001b[0m   \u001b[39mif\u001b[39;00m \u001b[39mhasattr\u001b[39m(e, \u001b[39m\"\u001b[39m\u001b[39mag_error_metadata\u001b[39m\u001b[39m\"\u001b[39m):\n\u001b[1;32m-> 1129\u001b[0m     \u001b[39mraise\u001b[39;00m e\u001b[39m.\u001b[39mag_error_metadata\u001b[39m.\u001b[39mto_exception(e)\n\u001b[0;32m   1130\u001b[0m   \u001b[39melse\u001b[39;00m:\n\u001b[0;32m   1131\u001b[0m     \u001b[39mraise\u001b[39;00m\n",
      "\u001b[1;31mValueError\u001b[0m: in user code:\n\n    File \"c:\\Users\\ASUS\\AppData\\Local\\Programs\\Python\\Python38\\lib\\site-packages\\keras\\engine\\training.py\", line 878, in train_function  *\n        return step_function(self, iterator)\n    File \"c:\\Users\\ASUS\\AppData\\Local\\Programs\\Python\\Python38\\lib\\site-packages\\keras\\engine\\training.py\", line 867, in step_function  **\n        outputs = model.distribute_strategy.run(run_step, args=(data,))\n    File \"c:\\Users\\ASUS\\AppData\\Local\\Programs\\Python\\Python38\\lib\\site-packages\\keras\\engine\\training.py\", line 860, in run_step  **\n        outputs = model.train_step(data)\n    File \"c:\\Users\\ASUS\\AppData\\Local\\Programs\\Python\\Python38\\lib\\site-packages\\keras\\engine\\training.py\", line 808, in train_step\n        y_pred = self(x, training=True)\n    File \"c:\\Users\\ASUS\\AppData\\Local\\Programs\\Python\\Python38\\lib\\site-packages\\keras\\utils\\traceback_utils.py\", line 67, in error_handler\n        raise e.with_traceback(filtered_tb) from None\n    File \"c:\\Users\\ASUS\\AppData\\Local\\Programs\\Python\\Python38\\lib\\site-packages\\keras\\engine\\input_spec.py\", line 263, in assert_input_compatibility\n        raise ValueError(f'Input {input_index} of layer \"{layer_name}\" is '\n\n    ValueError: Input 0 of layer \"sequential\" is incompatible with the layer: expected shape=(None, 38, 1), found shape=(None, 19)\n"
     ]
    }
   ],
   "source": [
    "history=model.fit(x_train,y_train,epochs=10,batch_size=32,validation_split=0.2)"
   ]
  },
  {
   "cell_type": "code",
   "execution_count": 76,
   "metadata": {},
   "outputs": [
    {
     "name": "stdout",
     "output_type": "stream",
     "text": [
      "608/608 [==============================] - 3s 4ms/step - loss: 0.1621 - accuracy: 0.9300 - f1_m: 0.9257\n"
     ]
    },
    {
     "data": {
      "text/plain": [
       "[0.1621331423521042, 0.9300375580787659, 0.9256654977798462]"
      ]
     },
     "execution_count": 76,
     "metadata": {},
     "output_type": "execute_result"
    }
   ],
   "source": [
    "model.evaluate(x_test,y_test)"
   ]
  },
  {
   "cell_type": "code",
   "execution_count": 77,
   "metadata": {},
   "outputs": [
    {
     "data": {
      "image/png": "[encoded data removed]",
      "text/plain": [
       "<Figure size 640x480 with 1 Axes>"
      ]
     },
     "metadata": {},
     "output_type": "display_data"
    }
   ],
   "source": [
    "#Menampilkan grafik akurasi\n",
    "import matplotlib.pyplot as plt\n",
    "\n",
    "def plot_graphs(history, metric):\n",
    "  plt.plot(history.history[metric])\n",
    "  plt.plot(history.history['val_'+metric], '')\n",
    "  plt.xlabel(\"Epochs\")\n",
    "  plt.ylabel(metric)\n",
    "  plt.title(f'Grafik {metric}')\n",
    "  plt.legend([metric, 'val_'+metric])\n",
    "  \n",
    "plot_graphs(history,'f1_m')"
   ]
  },
  {
   "cell_type": "code",
   "execution_count": 52,
   "metadata": {},
   "outputs": [],
   "source": [
    "from sklearn.metrics import f1_score"
   ]
  },
  {
   "attachments": {},
   "cell_type": "markdown",
   "metadata": {},
   "source": [
    "### Light GBM"
   ]
  },
  {
   "cell_type": "code",
   "execution_count": 23,
   "metadata": {},
   "outputs": [
    {
     "name": "stdout",
     "output_type": "stream",
     "text": [
      "Collecting lightgbm\n",
      "  Downloading lightgbm-3.3.5-py3-none-win_amd64.whl (1.0 MB)\n",
      "                                              0.0/1.0 MB ? eta -:--:--\n",
      "     ---                                      0.1/1.0 MB 2.3 MB/s eta 0:00:01\n",
      "     -----                                    0.1/1.0 MB 2.1 MB/s eta 0:00:01\n",
      "     -----                                    0.1/1.0 MB 2.1 MB/s eta 0:00:01\n",
      "     -----                                    0.1/1.0 MB 2.1 MB/s eta 0:00:01\n",
      "     -----                                    0.1/1.0 MB 2.1 MB/s eta 0:00:01\n",
      "     ---------------                          0.4/1.0 MB 1.3 MB/s eta 0:00:01\n",
      "     ---------------------                    0.6/1.0 MB 1.8 MB/s eta 0:00:01\n",
      "     ---------------------------------        0.8/1.0 MB 2.2 MB/s eta 0:00:01\n",
      "     ---------------------------------------- 1.0/1.0 MB 2.4 MB/s eta 0:00:00\n",
      "Requirement already satisfied: wheel in c:\\users\\asus\\appdata\\local\\programs\\python\\python38\\lib\\site-packages (from lightgbm) (0.40.0)\n",
      "Requirement already satisfied: numpy in c:\\users\\asus\\appdata\\local\\programs\\python\\python38\\lib\\site-packages (from lightgbm) (1.23.5)\n",
      "Requirement already satisfied: scipy in c:\\users\\asus\\appdata\\local\\programs\\python\\python38\\lib\\site-packages (from lightgbm) (1.10.1)\n",
      "Requirement already satisfied: scikit-learn!=0.22.0 in c:\\users\\asus\\appdata\\local\\programs\\python\\python38\\lib\\site-packages (from lightgbm) (1.2.2)\n",
      "Requirement already satisfied: joblib>=1.1.1 in c:\\users\\asus\\appdata\\local\\programs\\python\\python38\\lib\\site-packages (from scikit-learn!=0.22.0->lightgbm) (1.2.0)\n",
      "Requirement already satisfied: threadpoolctl>=2.0.0 in c:\\users\\asus\\appdata\\local\\programs\\python\\python38\\lib\\site-packages (from scikit-learn!=0.22.0->lightgbm) (3.1.0)\n",
      "Installing collected packages: lightgbm\n",
      "Successfully installed lightgbm-3.3.5\n"
     ]
    }
   ],
   "source": [
    "!pip install lightgbm"
   ]
  },
  {
   "attachments": {},
   "cell_type": "markdown",
   "metadata": {},
   "source": [
    "### SVM Algorithm"
   ]
  },
  {
   "cell_type": "code",
   "execution_count": 10,
   "metadata": {},
   "outputs": [
    {
     "name": "stdout",
     "output_type": "stream",
     "text": [
      "[LibSVM]"
     ]
    }
   ],
   "source": [
    "from sklearn import svm\n",
    "from sklearn.metrics import f1_score\n",
    "from sklearn.model_selection import train_test_split\n",
    "from sklearn.metrics import accuracy_score\n",
    "clf = svm.SVC(verbose=True)\n",
    "clf.fit(x_train, y_train)\n",
    "# melakukan prediksi menggunakan data testing\n",
    "y_pred = clf.predict(x_test)\n",
    "\n",
    "# menghitung akurasi\n",
    "acc = accuracy_score(y_test, y_pred)\n",
    "f1=f1_score(y_test, y_pred)\n",
    "print('Accuracy:', acc, 'F1 Score ',f1)"
   ]
  },
  {
   "attachments": {},
   "cell_type": "markdown",
   "metadata": {},
   "source": [
    "### Gradient Boosting Algorithm"
   ]
  },
  {
   "cell_type": "code",
   "execution_count": 53,
   "metadata": {},
   "outputs": [
    {
     "name": "stdout",
     "output_type": "stream",
     "text": [
      "Accuracy: 0.8344565049642472 F1 Score  0.835849826566007\n"
     ]
    }
   ],
   "source": [
    "from sklearn.ensemble import GradientBoostingClassifier\n",
    "from sklearn.model_selection import train_test_split\n",
    "from sklearn.metrics import accuracy_score\n",
    "# Define Gradient Boosting model\n",
    "gb_model = GradientBoostingClassifier(n_estimators=100, learning_rate=0.1, random_state=42)\n",
    "\n",
    "# Train model\n",
    "gb_model.fit(x_train, y_train)\n",
    "\n",
    "# Make predictions on test set\n",
    "y_pred = gb_model.predict(x_test)\n",
    "\n",
    "# Calculate accuracy score\n",
    "acc = accuracy_score(y_test, y_pred)\n",
    "f1=f1_score(y_test, y_pred)\n",
    "print('Accuracy:', acc, 'F1 Score ',f1)"
   ]
  },
  {
   "attachments": {},
   "cell_type": "markdown",
   "metadata": {},
   "source": [
    "### Gradient Boosting Grid Search"
   ]
  },
  {
   "cell_type": "code",
   "execution_count": 11,
   "metadata": {},
   "outputs": [
    {
     "name": "stdout",
     "output_type": "stream",
     "text": [
      "Best Parameters:  {'colsample_bytree': 0.8, 'learning_rate': 0.1, 'max_depth': 6, 'n_estimators': 300, 'subsample': 0.9}\n",
      "Best Score:  0.949511603250625\n"
     ]
    }
   ],
   "source": [
    "import xgboost as xgb\n",
    "from sklearn.model_selection import GridSearchCV\n",
    "\n",
    "# Load your data and split it into features and labels\n",
    "X = x_train# Your feature matrix\n",
    "y = y_train  # Your target labels\n",
    "\n",
    "# Define the parameter grid for grid search\n",
    "param_grid = {\n",
    "    'max_depth': [3, 6, 9],\n",
    "    'learning_rate': [0.1, 0.01, 0.001],\n",
    "    'n_estimators': [100, 200, 300],\n",
    "    'subsample': [0.8, 0.9, 1.0],\n",
    "    'colsample_bytree': [0.8, 0.9, 1.0]\n",
    "}\n",
    "\n",
    "# Create an XGBoost classifier\n",
    "xgb_model = xgb.XGBClassifier()\n",
    "\n",
    "# Perform grid search using cross-validation\n",
    "grid_search = GridSearchCV(estimator=xgb_model, param_grid=param_grid, cv=5)\n",
    "\n",
    "# Fit the grid search to your data\n",
    "grid_search.fit(X, y)\n",
    "\n",
    "# Print the best parameters and best score\n",
    "print(\"Best Parameters: \", grid_search.best_params_)\n",
    "print(\"Best Score: \", grid_search.best_score_)\n"
   ]
  },
  {
   "attachments": {},
   "cell_type": "markdown",
   "metadata": {},
   "source": [
    "### XGBoost"
   ]
  },
  {
   "cell_type": "code",
   "execution_count": 54,
   "metadata": {},
   "outputs": [
    {
     "name": "stdout",
     "output_type": "stream",
     "text": [
      "Accuracy: 0.8794176655177736 F1 Score  0.8797208538587848\n"
     ]
    }
   ],
   "source": [
    "import xgboost as xgb\n",
    "# define xgboost model\n",
    "model = xgb.XGBClassifier(learning_rate=0.1,max_depth=6,n_estimators=300,subsample=0.9,colsample_bytree=0.8)\n",
    "\n",
    "# fit the model on the training set\n",
    "model.fit(x_train, y_train)\n",
    "\n",
    "# make predictions on the test set\n",
    "y_pred = model.predict(x_test)\n",
    "\n",
    "acc = accuracy_score(y_test, y_pred)\n",
    "f1=f1_score(y_test, y_pred)\n",
    "print('Accuracy:', acc, 'F1 Score ',f1)\n",
    "model.save_model(\"xgboost_model_6.json\")"
   ]
  },
  {
   "cell_type": "code",
   "execution_count": 55,
   "metadata": {},
   "outputs": [
    {
     "name": "stdout",
     "output_type": "stream",
     "text": [
      "Accuracy: 0.8792118936159268 F1 Score  0.8792926177256838\n"
     ]
    }
   ],
   "source": [
    "import xgboost as xgb\n",
    "# define xgboost model\n",
    "model = xgb.XGBClassifier(learning_rate=0.1,max_depth=7,n_estimators=300,subsample=0.7,colsample_bytree=0.5)\n",
    "\n",
    "# fit the model on the training set\n",
    "model.fit(x_train, y_train)\n",
    "\n",
    "# make predictions on the test set\n",
    "y_pred = model.predict(x_test)\n",
    "\n",
    "acc = accuracy_score(y_test, y_pred)\n",
    "f1=f1_score(y_test, y_pred)\n",
    "print('Accuracy:', acc, 'F1 Score ',f1)\n",
    "model.save_model(\"xgboost_model_6.json\")"
   ]
  },
  {
   "attachments": {},
   "cell_type": "markdown",
   "metadata": {},
   "source": [
    "### XGBoost Grid Search"
   ]
  },
  {
   "cell_type": "code",
   "execution_count": 56,
   "metadata": {},
   "outputs": [
    {
     "name": "stdout",
     "output_type": "stream",
     "text": [
      "Best parameters:  {'colsample_bytree': 0.7, 'learning_rate': 0.3, 'max_depth': 7, 'n_estimators': 300, 'subsample': 0.7}\n"
     ]
    },
    {
     "name": "stderr",
     "output_type": "stream",
     "text": [
      "c:\\Users\\ASUS\\AppData\\Local\\Programs\\Python\\Python38\\lib\\site-packages\\xgboost\\sklearn.py:835: UserWarning: `eval_metric` in `fit` method is deprecated for better compatibility with scikit-learn, use `eval_metric` in constructor or`set_params` instead.\n",
      "  warnings.warn(\n",
      "c:\\Users\\ASUS\\AppData\\Local\\Programs\\Python\\Python38\\lib\\site-packages\\xgboost\\sklearn.py:835: UserWarning: `early_stopping_rounds` in `fit` method is deprecated for better compatibility with scikit-learn, use `early_stopping_rounds` in constructor or`set_params` instead.\n",
      "  warnings.warn(\n"
     ]
    },
    {
     "name": "stdout",
     "output_type": "stream",
     "text": [
      "Accuracy: 0.882607129996399 F1 Score  0.8826976457283849\n"
     ]
    }
   ],
   "source": [
    "import pandas as pd\n",
    "import xgboost as xgb\n",
    "from sklearn.model_selection import train_test_split, GridSearchCV\n",
    "from sklearn.metrics import accuracy_score,f1_score\n",
    "\n",
    "\n",
    "# define xgboost model\n",
    "model = xgb.XGBClassifier()\n",
    "\n",
    "# define hyperparameter grid for grid search\n",
    "param_grid = {\n",
    "    'learning_rate': [0.01, 0.1, 0.3],\n",
    "    'max_depth': [3, 5, 7],\n",
    "    'subsample': [0.5, 0.7],\n",
    "    'colsample_bytree': [0.5, 0.7],\n",
    "    'n_estimators': [100, 200, 300],\n",
    "}\n",
    "\n",
    "# perform grid search to find the best hyperparameters\n",
    "grid_search = GridSearchCV(model, param_grid, scoring='accuracy', n_jobs=-1, cv=5)\n",
    "grid_result = grid_search.fit(x_train, y_train)\n",
    "\n",
    "# print the best hyperparameters\n",
    "print(\"Best parameters: \", grid_result.best_params_)\n",
    "\n",
    "# create a new model with the best hyperparameters\n",
    "model = xgb.XGBClassifier(**grid_result.best_params_)\n",
    "\n",
    "# fit the model on the training set\n",
    "model.fit(x_train, y_train, early_stopping_rounds=10, eval_metric='logloss', eval_set=[(x_test, y_test)], verbose=False)\n",
    "\n",
    "# make predi your target price\n",
    "# ctions on the test set\n",
    "y_pred = model.predict(x_test)\n",
    "\n",
    "# calculate accuracy of predictions\n",
    "acc = accuracy_score(y_test, y_pred)\n",
    "f1=f1_score(y_test, y_pred)\n",
    "print('Accuracy:', acc, 'F1 Score ',f1)"
   ]
  },
  {
   "attachments": {},
   "cell_type": "markdown",
   "metadata": {},
   "source": [
    "### XGBoost 10CV GridSearch"
   ]
  },
  {
   "cell_type": "code",
   "execution_count": 17,
   "metadata": {},
   "outputs": [
    {
     "name": "stdout",
     "output_type": "stream",
     "text": [
      "Best parameters:  {'colsample_bytree': 0.5, 'learning_rate': 0.1, 'max_depth': 7, 'n_estimators': 300, 'subsample': 0.7}\n"
     ]
    },
    {
     "name": "stderr",
     "output_type": "stream",
     "text": [
      "c:\\Users\\ASUS\\AppData\\Local\\Programs\\Python\\Python38\\lib\\site-packages\\xgboost\\sklearn.py:835: UserWarning: `eval_metric` in `fit` method is deprecated for better compatibility with scikit-learn, use `eval_metric` in constructor or`set_params` instead.\n",
      "  warnings.warn(\n",
      "c:\\Users\\ASUS\\AppData\\Local\\Programs\\Python\\Python38\\lib\\site-packages\\xgboost\\sklearn.py:835: UserWarning: `early_stopping_rounds` in `fit` method is deprecated for better compatibility with scikit-learn, use `early_stopping_rounds` in constructor or`set_params` instead.\n",
      "  warnings.warn(\n"
     ]
    },
    {
     "name": "stdout",
     "output_type": "stream",
     "text": [
      "Accuracy: 0.9478368228818355 F1 Score  0.9460810379666064\n"
     ]
    }
   ],
   "source": [
    "import pandas as pd\n",
    "import xgboost as xgb\n",
    "from sklearn.model_selection import train_test_split, GridSearchCV\n",
    "from sklearn.metrics import accuracy_score,f1_score\n",
    "\n",
    "\n",
    "# define xgboost model\n",
    "model = xgb.XGBClassifier()\n",
    "\n",
    "# define hyperparameter grid for grid search\n",
    "param_grid = {\n",
    "    'learning_rate': [0.01, 0.1, 0.3],\n",
    "    'max_depth': [3, 5, 7],\n",
    "    'subsample': [0.5, 0.7],\n",
    "    'colsample_bytree': [0.5, 0.7],\n",
    "    'n_estimators': [100, 200, 300],\n",
    "}\n",
    "\n",
    "# perform grid search to find the best hyperparameters\n",
    "grid_search = GridSearchCV(model, param_grid, scoring='accuracy', n_jobs=-1, cv=10)\n",
    "grid_result = grid_search.fit(x_train, y_train)\n",
    "\n",
    "# print the best hyperparameters\n",
    "print(\"Best parameters: \", grid_result.best_params_)\n",
    "\n",
    "# create a new model with the best hyperparameters\n",
    "model = xgb.XGBClassifier(**grid_result.best_params_)\n",
    "\n",
    "# fit the model on the training set\n",
    "model.fit(x_train, y_train, early_stopping_rounds=10, eval_metric='logloss', eval_set=[(x_test, y_test)], verbose=False)\n",
    "\n",
    "# make predi your target price\n",
    "# ctions on the test set\n",
    "y_pred = model.predict(x_test)\n",
    "\n",
    "# calculate accuracy of predictions\n",
    "acc = accuracy_score(y_test, y_pred)\n",
    "f1=f1_score(y_test, y_pred)\n",
    "print('Accuracy:', acc, 'F1 Score ',f1)"
   ]
  },
  {
   "cell_type": "code",
   "execution_count": null,
   "metadata": {},
   "outputs": [],
   "source": [
    "model.save_model(\"xgboost_model_7.json\")"
   ]
  },
  {
   "cell_type": "code",
   "execution_count": null,
   "metadata": {},
   "outputs": [],
   "source": [
    "from sklearn.ensemble import AdaBoostClassifier\n",
    "from sklearn.datasets import make_classification\n",
    "from sklearn.model_selection import train_test_split\n",
    "from sklearn.metrics import accuracy_score\n",
    "\n",
    "\n",
    "\n",
    "# define the AdaBoost model\n",
    "model = AdaBoostClassifier(n_estimators=50, random_state=42)\n",
    "\n",
    "# fit the model on the training set\n",
    "model.fit(x_train, y_train)\n",
    "\n",
    "# make predictions on the test set\n",
    "y_pred = model.predict(x_test)\n",
    "\n",
    "# calculate accuracy of predictions\n",
    "accuracy = accuracy_score(y_test, y_pred)\n",
    "print(\"Accuracy: %.2f%%\" % (accuracy * 100.0))\n"
   ]
  }
 ],
 "metadata": {
  "kernelspec": {
   "display_name": "Python 3",
   "language": "python",
   "name": "python3"
  },
  "language_info": {
   "codemirror_mode": {
    "name": "ipython",
    "version": 3
   },
   "file_extension": ".py",
   "mimetype": "text/x-python",
   "name": "python",
   "nbconvert_exporter": "python",
   "pygments_lexer": "ipython3",
   "version": "3.8.0"
  },
  "orig_nbformat": 4
 },
 "nbformat": 4,
 "nbformat_minor": 2
}
