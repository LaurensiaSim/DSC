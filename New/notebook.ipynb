{
 "cells": [
  {
   "cell_type": "code",
   "execution_count": 15,
   "metadata": {},
   "outputs": [],
   "source": [
    "import pandas as pd\n",
    "import xgboost as xgb\n",
    "import lightgbm as lgb\n",
    "import tensorflow as tf"
   ]
  },
  {
   "cell_type": "code",
   "execution_count": 16,
   "metadata": {},
   "outputs": [
    {
     "data": {
      "text/html": [
       "<div>\n",
       "<style scoped>\n",
       "    .dataframe tbody tr th:only-of-type {\n",
       "        vertical-align: middle;\n",
       "    }\n",
       "\n",
       "    .dataframe tbody tr th {\n",
       "        vertical-align: top;\n",
       "    }\n",
       "\n",
       "    .dataframe thead th {\n",
       "        text-align: right;\n",
       "    }\n",
       "</style>\n",
       "<table border=\"1\" class=\"dataframe\">\n",
       "  <thead>\n",
       "    <tr style=\"text-align: right;\">\n",
       "      <th></th>\n",
       "      <th>DC024</th>\n",
       "      <th>DC025</th>\n",
       "      <th>DC205</th>\n",
       "      <th>DC206</th>\n",
       "      <th>DC207</th>\n",
       "      <th>DC208</th>\n",
       "      <th>DC209</th>\n",
       "      <th>DC210</th>\n",
       "      <th>DC211</th>\n",
       "      <th>DC212</th>\n",
       "      <th>...</th>\n",
       "      <th>DC237f</th>\n",
       "      <th>DC241</th>\n",
       "      <th>DC242</th>\n",
       "      <th>DC244</th>\n",
       "      <th>DC246</th>\n",
       "      <th>DC252</th>\n",
       "      <th>DC270a</th>\n",
       "      <th>DC109</th>\n",
       "      <th>DC142a</th>\n",
       "      <th>DC201</th>\n",
       "    </tr>\n",
       "  </thead>\n",
       "  <tbody>\n",
       "    <tr>\n",
       "      <th>0</th>\n",
       "      <td>-1.338185</td>\n",
       "      <td>0.772343</td>\n",
       "      <td>-0.150635</td>\n",
       "      <td>0.325938</td>\n",
       "      <td>-0.454443</td>\n",
       "      <td>0.607007</td>\n",
       "      <td>-0.903250</td>\n",
       "      <td>-0.621055</td>\n",
       "      <td>-1.579856</td>\n",
       "      <td>-0.311428</td>\n",
       "      <td>...</td>\n",
       "      <td>-0.614176</td>\n",
       "      <td>-0.461643</td>\n",
       "      <td>-2.530719</td>\n",
       "      <td>-1.026253</td>\n",
       "      <td>-1.034054</td>\n",
       "      <td>0.693051</td>\n",
       "      <td>-0.933069</td>\n",
       "      <td>-0.569320</td>\n",
       "      <td>-0.167848</td>\n",
       "      <td>1.0</td>\n",
       "    </tr>\n",
       "    <tr>\n",
       "      <th>1</th>\n",
       "      <td>-1.338185</td>\n",
       "      <td>0.772343</td>\n",
       "      <td>1.759244</td>\n",
       "      <td>0.325938</td>\n",
       "      <td>-0.454443</td>\n",
       "      <td>0.607007</td>\n",
       "      <td>-0.903250</td>\n",
       "      <td>-0.621055</td>\n",
       "      <td>0.720272</td>\n",
       "      <td>-0.311428</td>\n",
       "      <td>...</td>\n",
       "      <td>-0.614176</td>\n",
       "      <td>-0.461643</td>\n",
       "      <td>-2.530719</td>\n",
       "      <td>1.107748</td>\n",
       "      <td>1.109230</td>\n",
       "      <td>-0.210963</td>\n",
       "      <td>-0.187564</td>\n",
       "      <td>0.981026</td>\n",
       "      <td>-0.044753</td>\n",
       "      <td>1.0</td>\n",
       "    </tr>\n",
       "    <tr>\n",
       "      <th>2</th>\n",
       "      <td>-1.338185</td>\n",
       "      <td>0.772343</td>\n",
       "      <td>-0.659936</td>\n",
       "      <td>0.325938</td>\n",
       "      <td>-0.454443</td>\n",
       "      <td>0.607007</td>\n",
       "      <td>1.204972</td>\n",
       "      <td>1.785551</td>\n",
       "      <td>0.720272</td>\n",
       "      <td>-0.311428</td>\n",
       "      <td>...</td>\n",
       "      <td>-0.614176</td>\n",
       "      <td>-0.461643</td>\n",
       "      <td>-2.530719</td>\n",
       "      <td>1.107748</td>\n",
       "      <td>1.109230</td>\n",
       "      <td>-1.114978</td>\n",
       "      <td>1.303446</td>\n",
       "      <td>-0.650917</td>\n",
       "      <td>0.016794</td>\n",
       "      <td>1.0</td>\n",
       "    </tr>\n",
       "    <tr>\n",
       "      <th>3</th>\n",
       "      <td>-1.338185</td>\n",
       "      <td>0.772343</td>\n",
       "      <td>-0.659936</td>\n",
       "      <td>0.325938</td>\n",
       "      <td>-0.454443</td>\n",
       "      <td>-1.886822</td>\n",
       "      <td>-0.903250</td>\n",
       "      <td>-0.621055</td>\n",
       "      <td>0.720272</td>\n",
       "      <td>-0.311428</td>\n",
       "      <td>...</td>\n",
       "      <td>-0.614176</td>\n",
       "      <td>1.631018</td>\n",
       "      <td>0.458197</td>\n",
       "      <td>1.107748</td>\n",
       "      <td>-1.034054</td>\n",
       "      <td>-0.210963</td>\n",
       "      <td>-0.933069</td>\n",
       "      <td>-0.650917</td>\n",
       "      <td>0.139889</td>\n",
       "      <td>1.0</td>\n",
       "    </tr>\n",
       "    <tr>\n",
       "      <th>4</th>\n",
       "      <td>-1.338185</td>\n",
       "      <td>0.772343</td>\n",
       "      <td>-0.659936</td>\n",
       "      <td>0.325938</td>\n",
       "      <td>-0.454443</td>\n",
       "      <td>0.607007</td>\n",
       "      <td>1.204972</td>\n",
       "      <td>-0.621055</td>\n",
       "      <td>-1.579856</td>\n",
       "      <td>-0.311428</td>\n",
       "      <td>...</td>\n",
       "      <td>-0.614176</td>\n",
       "      <td>-0.461643</td>\n",
       "      <td>-2.530719</td>\n",
       "      <td>-1.026253</td>\n",
       "      <td>1.109230</td>\n",
       "      <td>-1.114978</td>\n",
       "      <td>-0.187564</td>\n",
       "      <td>-0.650917</td>\n",
       "      <td>-0.106301</td>\n",
       "      <td>1.0</td>\n",
       "    </tr>\n",
       "    <tr>\n",
       "      <th>...</th>\n",
       "      <td>...</td>\n",
       "      <td>...</td>\n",
       "      <td>...</td>\n",
       "      <td>...</td>\n",
       "      <td>...</td>\n",
       "      <td>...</td>\n",
       "      <td>...</td>\n",
       "      <td>...</td>\n",
       "      <td>...</td>\n",
       "      <td>...</td>\n",
       "      <td>...</td>\n",
       "      <td>...</td>\n",
       "      <td>...</td>\n",
       "      <td>...</td>\n",
       "      <td>...</td>\n",
       "      <td>...</td>\n",
       "      <td>...</td>\n",
       "      <td>...</td>\n",
       "      <td>...</td>\n",
       "      <td>...</td>\n",
       "      <td>...</td>\n",
       "    </tr>\n",
       "    <tr>\n",
       "      <th>64791</th>\n",
       "      <td>0.555210</td>\n",
       "      <td>0.772343</td>\n",
       "      <td>-0.659936</td>\n",
       "      <td>0.325938</td>\n",
       "      <td>-0.454443</td>\n",
       "      <td>-0.378823</td>\n",
       "      <td>-0.903250</td>\n",
       "      <td>-0.621055</td>\n",
       "      <td>-0.670597</td>\n",
       "      <td>-0.311428</td>\n",
       "      <td>...</td>\n",
       "      <td>-0.614176</td>\n",
       "      <td>0.365602</td>\n",
       "      <td>0.458197</td>\n",
       "      <td>-1.026253</td>\n",
       "      <td>-0.186797</td>\n",
       "      <td>0.314478</td>\n",
       "      <td>-0.933069</td>\n",
       "      <td>-0.650917</td>\n",
       "      <td>-0.493049</td>\n",
       "      <td>0.0</td>\n",
       "    </tr>\n",
       "    <tr>\n",
       "      <th>64792</th>\n",
       "      <td>0.359654</td>\n",
       "      <td>0.772343</td>\n",
       "      <td>-0.632528</td>\n",
       "      <td>0.325938</td>\n",
       "      <td>-0.454443</td>\n",
       "      <td>-1.886822</td>\n",
       "      <td>-0.903250</td>\n",
       "      <td>-0.621055</td>\n",
       "      <td>-1.579856</td>\n",
       "      <td>-0.311428</td>\n",
       "      <td>...</td>\n",
       "      <td>-0.614176</td>\n",
       "      <td>1.631018</td>\n",
       "      <td>0.458197</td>\n",
       "      <td>1.107748</td>\n",
       "      <td>1.109230</td>\n",
       "      <td>1.499766</td>\n",
       "      <td>-0.933069</td>\n",
       "      <td>-0.646526</td>\n",
       "      <td>-0.119935</td>\n",
       "      <td>0.0</td>\n",
       "    </tr>\n",
       "    <tr>\n",
       "      <th>64793</th>\n",
       "      <td>-0.356819</td>\n",
       "      <td>0.772343</td>\n",
       "      <td>-0.023310</td>\n",
       "      <td>0.325938</td>\n",
       "      <td>-0.454443</td>\n",
       "      <td>-1.886822</td>\n",
       "      <td>-0.903250</td>\n",
       "      <td>-0.621055</td>\n",
       "      <td>-1.579856</td>\n",
       "      <td>-0.311428</td>\n",
       "      <td>...</td>\n",
       "      <td>-0.614176</td>\n",
       "      <td>-0.461643</td>\n",
       "      <td>0.458197</td>\n",
       "      <td>1.107748</td>\n",
       "      <td>1.109230</td>\n",
       "      <td>1.751574</td>\n",
       "      <td>-0.933069</td>\n",
       "      <td>0.165054</td>\n",
       "      <td>-0.148421</td>\n",
       "      <td>0.0</td>\n",
       "    </tr>\n",
       "    <tr>\n",
       "      <th>64794</th>\n",
       "      <td>-0.415943</td>\n",
       "      <td>-0.206282</td>\n",
       "      <td>-0.023310</td>\n",
       "      <td>-1.486484</td>\n",
       "      <td>-0.454443</td>\n",
       "      <td>-0.755990</td>\n",
       "      <td>-0.903250</td>\n",
       "      <td>-0.621055</td>\n",
       "      <td>-0.322726</td>\n",
       "      <td>-0.311428</td>\n",
       "      <td>...</td>\n",
       "      <td>0.474375</td>\n",
       "      <td>-0.461643</td>\n",
       "      <td>0.458197</td>\n",
       "      <td>-1.026253</td>\n",
       "      <td>0.137354</td>\n",
       "      <td>-0.210963</td>\n",
       "      <td>-0.525615</td>\n",
       "      <td>0.165054</td>\n",
       "      <td>-0.275195</td>\n",
       "      <td>0.0</td>\n",
       "    </tr>\n",
       "    <tr>\n",
       "      <th>64795</th>\n",
       "      <td>0.334060</td>\n",
       "      <td>-0.594035</td>\n",
       "      <td>-0.659936</td>\n",
       "      <td>0.325938</td>\n",
       "      <td>1.392361</td>\n",
       "      <td>-0.971885</td>\n",
       "      <td>-0.903250</td>\n",
       "      <td>-0.621055</td>\n",
       "      <td>-1.579856</td>\n",
       "      <td>-0.311428</td>\n",
       "      <td>...</td>\n",
       "      <td>-0.614176</td>\n",
       "      <td>2.955923</td>\n",
       "      <td>0.458197</td>\n",
       "      <td>-1.026253</td>\n",
       "      <td>1.109230</td>\n",
       "      <td>0.784032</td>\n",
       "      <td>-0.933069</td>\n",
       "      <td>-0.650917</td>\n",
       "      <td>-0.362322</td>\n",
       "      <td>0.0</td>\n",
       "    </tr>\n",
       "  </tbody>\n",
       "</table>\n",
       "<p>64796 rows × 39 columns</p>\n",
       "</div>"
      ],
      "text/plain": [
       "          DC024     DC025     DC205     DC206     DC207     DC208     DC209   \n",
       "0     -1.338185  0.772343 -0.150635  0.325938 -0.454443  0.607007 -0.903250  \\\n",
       "1     -1.338185  0.772343  1.759244  0.325938 -0.454443  0.607007 -0.903250   \n",
       "2     -1.338185  0.772343 -0.659936  0.325938 -0.454443  0.607007  1.204972   \n",
       "3     -1.338185  0.772343 -0.659936  0.325938 -0.454443 -1.886822 -0.903250   \n",
       "4     -1.338185  0.772343 -0.659936  0.325938 -0.454443  0.607007  1.204972   \n",
       "...         ...       ...       ...       ...       ...       ...       ...   \n",
       "64791  0.555210  0.772343 -0.659936  0.325938 -0.454443 -0.378823 -0.903250   \n",
       "64792  0.359654  0.772343 -0.632528  0.325938 -0.454443 -1.886822 -0.903250   \n",
       "64793 -0.356819  0.772343 -0.023310  0.325938 -0.454443 -1.886822 -0.903250   \n",
       "64794 -0.415943 -0.206282 -0.023310 -1.486484 -0.454443 -0.755990 -0.903250   \n",
       "64795  0.334060 -0.594035 -0.659936  0.325938  1.392361 -0.971885 -0.903250   \n",
       "\n",
       "          DC210     DC211     DC212  ...    DC237f     DC241     DC242   \n",
       "0     -0.621055 -1.579856 -0.311428  ... -0.614176 -0.461643 -2.530719  \\\n",
       "1     -0.621055  0.720272 -0.311428  ... -0.614176 -0.461643 -2.530719   \n",
       "2      1.785551  0.720272 -0.311428  ... -0.614176 -0.461643 -2.530719   \n",
       "3     -0.621055  0.720272 -0.311428  ... -0.614176  1.631018  0.458197   \n",
       "4     -0.621055 -1.579856 -0.311428  ... -0.614176 -0.461643 -2.530719   \n",
       "...         ...       ...       ...  ...       ...       ...       ...   \n",
       "64791 -0.621055 -0.670597 -0.311428  ... -0.614176  0.365602  0.458197   \n",
       "64792 -0.621055 -1.579856 -0.311428  ... -0.614176  1.631018  0.458197   \n",
       "64793 -0.621055 -1.579856 -0.311428  ... -0.614176 -0.461643  0.458197   \n",
       "64794 -0.621055 -0.322726 -0.311428  ...  0.474375 -0.461643  0.458197   \n",
       "64795 -0.621055 -1.579856 -0.311428  ... -0.614176  2.955923  0.458197   \n",
       "\n",
       "          DC244     DC246     DC252    DC270a     DC109    DC142a  DC201  \n",
       "0     -1.026253 -1.034054  0.693051 -0.933069 -0.569320 -0.167848    1.0  \n",
       "1      1.107748  1.109230 -0.210963 -0.187564  0.981026 -0.044753    1.0  \n",
       "2      1.107748  1.109230 -1.114978  1.303446 -0.650917  0.016794    1.0  \n",
       "3      1.107748 -1.034054 -0.210963 -0.933069 -0.650917  0.139889    1.0  \n",
       "4     -1.026253  1.109230 -1.114978 -0.187564 -0.650917 -0.106301    1.0  \n",
       "...         ...       ...       ...       ...       ...       ...    ...  \n",
       "64791 -1.026253 -0.186797  0.314478 -0.933069 -0.650917 -0.493049    0.0  \n",
       "64792  1.107748  1.109230  1.499766 -0.933069 -0.646526 -0.119935    0.0  \n",
       "64793  1.107748  1.109230  1.751574 -0.933069  0.165054 -0.148421    0.0  \n",
       "64794 -1.026253  0.137354 -0.210963 -0.525615  0.165054 -0.275195    0.0  \n",
       "64795 -1.026253  1.109230  0.784032 -0.933069 -0.650917 -0.362322    0.0  \n",
       "\n",
       "[64796 rows x 39 columns]"
      ]
     },
     "execution_count": 16,
     "metadata": {},
     "output_type": "execute_result"
    }
   ],
   "source": [
    "data=pd.read_csv('./train_scaled.csv')\n",
    "data"
   ]
  },
  {
   "attachments": {},
   "cell_type": "markdown",
   "metadata": {},
   "source": [
    "## Split data into train and test for training"
   ]
  },
  {
   "cell_type": "code",
   "execution_count": 17,
   "metadata": {},
   "outputs": [
    {
     "data": {
      "text/plain": [
       "(51836, 38)"
      ]
     },
     "execution_count": 17,
     "metadata": {},
     "output_type": "execute_result"
    }
   ],
   "source": [
    "#Split dataset menjadi training dan testing\n",
    "from sklearn.model_selection import train_test_split\n",
    "\n",
    "x_train,x_test,y_train,y_test=train_test_split(data.drop('DC201',axis=1),data['DC201'],test_size=0.2)\n",
    "input_shape=(x_train.shape)\n",
    "input_shape"
   ]
  },
  {
   "attachments": {},
   "cell_type": "markdown",
   "metadata": {},
   "source": [
    "## Train data using various algorithm"
   ]
  },
  {
   "cell_type": "code",
   "execution_count": 18,
   "metadata": {},
   "outputs": [],
   "source": [
    "from sklearn.metrics import accuracy_score\n",
    "from sklearn.metrics import f1_score"
   ]
  },
  {
   "attachments": {},
   "cell_type": "markdown",
   "metadata": {},
   "source": [
    "### Train using Gradient Boosting"
   ]
  },
  {
   "cell_type": "code",
   "execution_count": 5,
   "metadata": {},
   "outputs": [
    {
     "name": "stdout",
     "output_type": "stream",
     "text": [
      "Accuracy: 0.9451388888888889 F1 Score  0.9464487459516457\n"
     ]
    }
   ],
   "source": [
    "from sklearn.ensemble import GradientBoostingClassifier\n",
    "# Define Gradient Boosting model\n",
    "gb_model = GradientBoostingClassifier(n_estimators=100, learning_rate=0.1, random_state=42)\n",
    "\n",
    "# Train model\n",
    "gb_model.fit(x_train, y_train)\n",
    "\n",
    "# Make predictions on test set\n",
    "y_pred = gb_model.predict(x_test)\n",
    "\n",
    "# Calculate accuracy score\n",
    "acc = accuracy_score(y_test, y_pred)\n",
    "f1=f1_score(y_test, y_pred)\n",
    "print('Accuracy:', acc, 'F1 Score ',f1)"
   ]
  },
  {
   "attachments": {},
   "cell_type": "markdown",
   "metadata": {},
   "source": [
    "##### Train for scaled data"
   ]
  },
  {
   "cell_type": "code",
   "execution_count": 19,
   "metadata": {},
   "outputs": [
    {
     "name": "stdout",
     "output_type": "stream",
     "text": [
      "Accuracy: 0.9421296296296297 F1 Score  0.943344916150476\n"
     ]
    }
   ],
   "source": [
    "from sklearn.ensemble import GradientBoostingClassifier\n",
    "# Define Gradient Boosting model\n",
    "gb_model = GradientBoostingClassifier(n_estimators=100, learning_rate=0.1, random_state=42)\n",
    "\n",
    "# Train model\n",
    "gb_model.fit(x_train, y_train)\n",
    "\n",
    "# Make predictions on test set\n",
    "y_pred = gb_model.predict(x_test)\n",
    "\n",
    "# Calculate accuracy score\n",
    "acc = accuracy_score(y_test, y_pred)\n",
    "f1=f1_score(y_test, y_pred)\n",
    "print('Accuracy:', acc, 'F1 Score ',f1)"
   ]
  },
  {
   "attachments": {},
   "cell_type": "markdown",
   "metadata": {},
   "source": [
    "### Train using Light GBM"
   ]
  },
  {
   "cell_type": "code",
   "execution_count": 7,
   "metadata": {},
   "outputs": [
    {
     "name": "stdout",
     "output_type": "stream",
     "text": [
      "[LightGBM] [Warning] Auto-choosing col-wise multi-threading, the overhead of testing was 0.009476 seconds.\n",
      "You can set `force_col_wise=true` to remove the overhead.\n",
      "Accuracy: 0.9503086419753086\n",
      "F1 Score: 0.9519474705267872\n"
     ]
    }
   ],
   "source": [
    "import lightgbm as lgb\n",
    "\n",
    "\n",
    "# Create LightGBM dataset\n",
    "train_data = lgb.Dataset(x_train, label=y_train)\n",
    "\n",
    "# Set the hyperparameters for LightGBM\n",
    "params = {\n",
    "    'objective': 'binary',\n",
    "    'metric': 'binary_logloss',\n",
    "    'boosting_type': 'gbdt',\n",
    "    'num_leaves': 31,\n",
    "    'learning_rate': 0.05,\n",
    "    'feature_fraction': 0.9,\n",
    "    'bagging_fraction': 0.8,\n",
    "    'bagging_freq': 5,\n",
    "    'verbose': 0\n",
    "}\n",
    "\n",
    "# Train the model\n",
    "model = lgb.train(params, train_data, num_boost_round=100)\n",
    "\n",
    "# Make predictions on the test set\n",
    "y_pred = model.predict(x_test)\n",
    "\n",
    "# Convert probabilities to binary predictions\n",
    "y_pred_binary = [1 if pred >= 0.5 else 0 for pred in y_pred]\n",
    "\n",
    "# Evaluate the model\n",
    "accuracy = accuracy_score(y_test, y_pred_binary)\n",
    "f1 = f1_score(y_test, y_pred_binary)\n",
    "\n",
    "print(\"Accuracy:\", accuracy)\n",
    "print(\"F1 Score:\", f1)"
   ]
  },
  {
   "attachments": {},
   "cell_type": "markdown",
   "metadata": {},
   "source": [
    "##### Train for scaled data"
   ]
  },
  {
   "cell_type": "code",
   "execution_count": 20,
   "metadata": {},
   "outputs": [
    {
     "name": "stdout",
     "output_type": "stream",
     "text": [
      "[LightGBM] [Warning] Auto-choosing col-wise multi-threading, the overhead of testing was 0.010405 seconds.\n",
      "You can set `force_col_wise=true` to remove the overhead.\n",
      "Accuracy: 0.9474537037037037\n",
      "F1 Score: 0.948977298269274\n"
     ]
    }
   ],
   "source": [
    "import lightgbm as lgb\n",
    "\n",
    "\n",
    "# Create LightGBM dataset\n",
    "train_data = lgb.Dataset(x_train, label=y_train)\n",
    "\n",
    "# Set the hyperparameters for LightGBM\n",
    "params = {\n",
    "    'objective': 'binary',\n",
    "    'metric': 'binary_logloss',\n",
    "    'boosting_type': 'gbdt',\n",
    "    'num_leaves': 31,\n",
    "    'learning_rate': 0.05,\n",
    "    'feature_fraction': 0.9,\n",
    "    'bagging_fraction': 0.8,\n",
    "    'bagging_freq': 5,\n",
    "    'verbose': 0\n",
    "}\n",
    "\n",
    "# Train the model\n",
    "model = lgb.train(params, train_data, num_boost_round=100)\n",
    "\n",
    "# Make predictions on the test set\n",
    "y_pred = model.predict(x_test)\n",
    "\n",
    "# Convert probabilities to binary predictions\n",
    "y_pred_binary = [1 if pred >= 0.5 else 0 for pred in y_pred]\n",
    "\n",
    "# Evaluate the model\n",
    "accuracy = accuracy_score(y_test, y_pred_binary)\n",
    "f1 = f1_score(y_test, y_pred_binary)\n",
    "\n",
    "print(\"Accuracy:\", accuracy)\n",
    "print(\"F1 Score:\", f1)"
   ]
  },
  {
   "attachments": {},
   "cell_type": "markdown",
   "metadata": {},
   "source": [
    "### Train using XGBoost"
   ]
  },
  {
   "cell_type": "code",
   "execution_count": 10,
   "metadata": {},
   "outputs": [
    {
     "name": "stdout",
     "output_type": "stream",
     "text": [
      "Accuracy: 0.9533179012345679 F1 Score  0.9547528232742502\n"
     ]
    }
   ],
   "source": [
    "import xgboost as xgb\n",
    "# define xgboost model\n",
    "model = xgb.XGBClassifier(learning_rate=0.1,max_depth=6,n_estimators=300,subsample=0.9,colsample_bytree=0.8)\n",
    "\n",
    "# fit the model on the training set\n",
    "model.fit(x_train, y_train)\n",
    "\n",
    "# make predictions on the test set\n",
    "y_pred = model.predict(x_test)\n",
    "\n",
    "acc = accuracy_score(y_test, y_pred)\n",
    "f1=f1_score(y_test, y_pred)\n",
    "print('Accuracy:', acc, 'F1 Score ',f1)"
   ]
  },
  {
   "attachments": {},
   "cell_type": "markdown",
   "metadata": {},
   "source": [
    "##### Train for scaled data"
   ]
  },
  {
   "cell_type": "code",
   "execution_count": 27,
   "metadata": {},
   "outputs": [
    {
     "name": "stdout",
     "output_type": "stream",
     "text": [
      "Accuracy: 0.9539351851851852 F1 Score  0.9552171630035255\n"
     ]
    }
   ],
   "source": [
    "import xgboost as xgb\n",
    "# define xgboost model\n",
    "model = xgb.XGBClassifier(learning_rate=0.05,max_depth=7,n_estimators=1000,subsample=0.7,colsample_bytree=0.7)\n",
    "\n",
    "# fit the model on the training set\n",
    "model.fit(x_train, y_train)\n",
    "\n",
    "# make predictions on the test set\n",
    "y_pred = model.predict(x_test)\n",
    "\n",
    "acc = accuracy_score(y_test, y_pred)\n",
    "f1=f1_score(y_test, y_pred)\n",
    "print('Accuracy:', acc, 'F1 Score ',f1)"
   ]
  },
  {
   "cell_type": "code",
   "execution_count": 14,
   "metadata": {},
   "outputs": [
    {
     "name": "stdout",
     "output_type": "stream",
     "text": [
      "Best parameters:  {'colsample_bytree': 0.5, 'learning_rate': 0.1, 'max_depth': 5, 'n_estimators': 300, 'subsample': 0.7}\n"
     ]
    },
    {
     "name": "stderr",
     "output_type": "stream",
     "text": [
      "c:\\Users\\ASUS\\AppData\\Local\\Programs\\Python\\Python38\\lib\\site-packages\\xgboost\\sklearn.py:835: UserWarning: `eval_metric` in `fit` method is deprecated for better compatibility with scikit-learn, use `eval_metric` in constructor or`set_params` instead.\n",
      "  warnings.warn(\n",
      "c:\\Users\\ASUS\\AppData\\Local\\Programs\\Python\\Python38\\lib\\site-packages\\xgboost\\sklearn.py:835: UserWarning: `early_stopping_rounds` in `fit` method is deprecated for better compatibility with scikit-learn, use `early_stopping_rounds` in constructor or`set_params` instead.\n",
      "  warnings.warn(\n"
     ]
    },
    {
     "name": "stdout",
     "output_type": "stream",
     "text": [
      "Accuracy: 0.9547067901234568 F1 Score  0.956223432023268\n"
     ]
    }
   ],
   "source": [
    "import xgboost as xgb\n",
    "from sklearn.model_selection import train_test_split, GridSearchCV\n",
    "\n",
    "\n",
    "# define xgboost model\n",
    "model = xgb.XGBClassifier()\n",
    "\n",
    "# define hyperparameter grid for grid search\n",
    "param_grid = {\n",
    "    'learning_rate': [0.01, 0.1, 0.3],\n",
    "    'max_depth': [3, 5, 7],\n",
    "    'subsample': [0.5, 0.7],\n",
    "    'colsample_bytree': [0.5, 0.7],\n",
    "    'n_estimators': [100, 200, 300],\n",
    "}\n",
    "\n",
    "# perform grid search to find the best hyperparameters\n",
    "grid_search = GridSearchCV(model, param_grid, scoring='accuracy', n_jobs=-1, cv=5)\n",
    "grid_result = grid_search.fit(x_train, y_train)\n",
    "\n",
    "# print the best hyperparameters\n",
    "print(\"Best parameters: \", grid_result.best_params_)\n",
    "\n",
    "# create a new model with the best hyperparameters\n",
    "model = xgb.XGBClassifier(**grid_result.best_params_)\n",
    "\n",
    "# fit the model on the training set\n",
    "model.fit(x_train, y_train, early_stopping_rounds=10, eval_metric='logloss', eval_set=[(x_test, y_test)], verbose=False)\n",
    "\n",
    "# make predi your target price\n",
    "# ctions on the test set\n",
    "y_pred = model.predict(x_test)\n",
    "\n",
    "# calculate accuracy of predictions\n",
    "acc = accuracy_score(y_test, y_pred)\n",
    "f1=f1_score(y_test, y_pred)\n",
    "print('Accuracy:', acc, 'F1 Score ',f1)"
   ]
  },
  {
   "attachments": {},
   "cell_type": "markdown",
   "metadata": {},
   "source": [
    "##### Train for scaled data"
   ]
  },
  {
   "cell_type": "code",
   "execution_count": 22,
   "metadata": {},
   "outputs": [
    {
     "name": "stdout",
     "output_type": "stream",
     "text": [
      "Best parameters:  {'colsample_bytree': 0.7, 'learning_rate': 0.1, 'max_depth': 5, 'n_estimators': 300, 'subsample': 0.7}\n"
     ]
    },
    {
     "name": "stderr",
     "output_type": "stream",
     "text": [
      "c:\\Users\\ASUS\\AppData\\Local\\Programs\\Python\\Python38\\lib\\site-packages\\xgboost\\sklearn.py:835: UserWarning: `eval_metric` in `fit` method is deprecated for better compatibility with scikit-learn, use `eval_metric` in constructor or`set_params` instead.\n",
      "  warnings.warn(\n",
      "c:\\Users\\ASUS\\AppData\\Local\\Programs\\Python\\Python38\\lib\\site-packages\\xgboost\\sklearn.py:835: UserWarning: `early_stopping_rounds` in `fit` method is deprecated for better compatibility with scikit-learn, use `early_stopping_rounds` in constructor or`set_params` instead.\n",
      "  warnings.warn(\n"
     ]
    },
    {
     "name": "stdout",
     "output_type": "stream",
     "text": [
      "Accuracy: 0.9515432098765432 F1 Score  0.9529799341120095\n"
     ]
    }
   ],
   "source": [
    "import xgboost as xgb\n",
    "from sklearn.model_selection import train_test_split, GridSearchCV\n",
    "\n",
    "\n",
    "# define xgboost model\n",
    "model = xgb.XGBClassifier()\n",
    "\n",
    "# define hyperparameter grid for grid search\n",
    "param_grid = {\n",
    "    'learning_rate': [0.01, 0.1, 0.3],\n",
    "    'max_depth': [3, 5, 7],\n",
    "    'subsample': [0.5, 0.7],\n",
    "    'colsample_bytree': [0.5, 0.7],\n",
    "    'n_estimators': [100, 200, 300],\n",
    "}\n",
    "\n",
    "# perform grid search to find the best hyperparameters\n",
    "grid_search = GridSearchCV(model, param_grid, scoring='accuracy', n_jobs=-1, cv=5)\n",
    "grid_result = grid_search.fit(x_train, y_train)\n",
    "\n",
    "# print the best hyperparameters\n",
    "print(\"Best parameters: \", grid_result.best_params_)\n",
    "\n",
    "# create a new model with the best hyperparameters\n",
    "model = xgb.XGBClassifier(**grid_result.best_params_)\n",
    "\n",
    "# fit the model on the training set\n",
    "model.fit(x_train, y_train, early_stopping_rounds=10, eval_metric='logloss', eval_set=[(x_test, y_test)], verbose=False)\n",
    "\n",
    "# make predi your target price\n",
    "# ctions on the test set\n",
    "y_pred = model.predict(x_test)\n",
    "\n",
    "# calculate accuracy of predictions\n",
    "acc = accuracy_score(y_test, y_pred)\n",
    "f1=f1_score(y_test, y_pred)\n",
    "print('Accuracy:', acc, 'F1 Score ',f1)"
   ]
  },
  {
   "cell_type": "code",
   "execution_count": 28,
   "metadata": {},
   "outputs": [],
   "source": [
    "model.save_model('xgboost_2.json')"
   ]
  },
  {
   "cell_type": "code",
   "execution_count": 11,
   "metadata": {},
   "outputs": [],
   "source": [
    "## Save the model\n",
    "model.save_model('xgboost_1.json')"
   ]
  },
  {
   "attachments": {},
   "cell_type": "markdown",
   "metadata": {},
   "source": [
    "### Train using Adaboost"
   ]
  },
  {
   "cell_type": "code",
   "execution_count": 9,
   "metadata": {},
   "outputs": [
    {
     "name": "stdout",
     "output_type": "stream",
     "text": [
      "Accuracy: 93.12%\n",
      "F1 Score: 93.12%\n"
     ]
    }
   ],
   "source": [
    "from sklearn.ensemble import AdaBoostClassifier\n",
    "\n",
    "# define the AdaBoost model\n",
    "model = AdaBoostClassifier(n_estimators=50, random_state=42)\n",
    "\n",
    "# fit the model on the training set\n",
    "model.fit(x_train, y_train)\n",
    "\n",
    "# make predictions on the test set\n",
    "y_pred = model.predict(x_test)\n",
    "\n",
    "# calculate accuracy of predictions\n",
    "accuracy = accuracy_score(y_test, y_pred)\n",
    "f1=f1_score(y_test,y_pred)\n",
    "print(\"Accuracy: %.2f%%\" % (accuracy * 100.0))\n",
    "print(\"F1 Score: %.2f%%\" % (accuracy * 100.0))\n"
   ]
  }
 ],
 "metadata": {
  "kernelspec": {
   "display_name": "Python 3",
   "language": "python",
   "name": "python3"
  },
  "language_info": {
   "codemirror_mode": {
    "name": "ipython",
    "version": 3
   },
   "file_extension": ".py",
   "mimetype": "text/x-python",
   "name": "python",
   "nbconvert_exporter": "python",
   "pygments_lexer": "ipython3",
   "version": "3.8.0"
  },
  "orig_nbformat": 4
 },
 "nbformat": 4,
 "nbformat_minor": 2
}
